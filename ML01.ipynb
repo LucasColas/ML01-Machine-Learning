{
  "nbformat": 4,
  "nbformat_minor": 0,
  "metadata": {
    "colab": {
      "provenance": [],
      "collapsed_sections": [],
      "authorship_tag": "ABX9TyOkMYD8e1CHoy+5FIIqqJls"
    },
    "kernelspec": {
      "name": "python3",
      "display_name": "Python 3"
    },
    "language_info": {
      "name": "python"
    }
  },
  "cells": [
    {
      "cell_type": "markdown",
      "source": [
        "# Supervised learning\n",
        "\n",
        "\n",
        "\n"
      ],
      "metadata": {
        "id": "Ty4yevZbU_bX"
      }
    },
    {
      "cell_type": "markdown",
      "source": [
        "## Nearest Centroid"
      ],
      "metadata": {
        "id": "HcDZ6LRCVCPP"
      }
    },
    {
      "cell_type": "code",
      "source": [
        "import math\n",
        "\n",
        "dataset_training = {\n",
        "    \"A\": [(8,2), \"X\"],\n",
        "    \"B\": [(4,5), \"O\"],\n",
        "    \"C\": [(4,3), \"X\"],\n",
        "    \"D\": [(7,8), \"O\"],\n",
        "    \"E\": [(2,4), \"X\"],\n",
        "    \"F\": [(7,4), \"O\"],\n",
        "    \"G\": [(1,6), \"X\"],\n",
        "    \"H\": [(8,3), \"X\"],\n",
        "    \"I\": [(6,2), \"X\"],\n",
        "    \"J\": [(5,8), \"O\"]\n",
        "}\n",
        "\n",
        "dataset_test = {\n",
        "    \"K\": [(4,7), \"X\"],\n",
        "    \"L\": [(6,6), \"O\"],\n",
        "    \"M\": [(1,2), \"X\"]\n",
        "}\n",
        "\n",
        "\n",
        "\n",
        "\n",
        "\n",
        "\n"
      ],
      "metadata": {
        "id": "8giuaS9SU_Gg"
      },
      "execution_count": null,
      "outputs": []
    },
    {
      "cell_type": "code",
      "source": [
        "#Plot \n",
        "import matplotlib.pyplot as plt\n",
        "\n",
        "X_X = []\n",
        "Y_X = []\n",
        "X_O = []\n",
        "Y_O = []\n",
        "X_t = []\n",
        "Y_t = []\n",
        "\n",
        "for value in dataset_training.values():\n",
        "  if value[1] == \"X\":\n",
        "    X_X.append(value[0][0])\n",
        "    Y_X.append(value[0][1])\n",
        "  if value[1] == \"O\":\n",
        "    X_O.append(value[0][0])\n",
        "    Y_O.append(value[0][1])\n",
        "\n",
        "for value in dataset_test.values():\n",
        "    X_t.append(value[0][0])\n",
        "    Y_t.append(value[0][1])\n",
        "\n",
        "\n",
        "plt.scatter(X_X,Y_X, c='red')\n",
        "plt.scatter(X_O, Y_O, c='blue')\n",
        "plt.scatter(X_t, Y_t, c='black')\n",
        "plt.show()\n",
        "\n"
      ],
      "metadata": {
        "colab": {
          "base_uri": "https://localhost:8080/",
          "height": 265
        },
        "id": "xX095ia6aECW",
        "outputId": "6d4efa0a-4c62-4c09-8b10-188f74d11ec0"
      },
      "execution_count": 11,
      "outputs": [
        {
          "output_type": "display_data",
          "data": {
            "text/plain": [
              "<Figure size 432x288 with 1 Axes>"
            ],
            "image/png": "[encoded data removed]"
          },
          "metadata": {
            "needs_background": "light"
          }
        }
      ]
    },
    {
      "cell_type": "code",
      "source": [
        "def centroid(dataset, class_):\n",
        "  n = 0\n",
        "  sum_x = 0\n",
        "  sum_y = 0\n",
        "  for key, values in dataset.items():\n",
        "    if values[1] == class_:\n",
        "      n += 1\n",
        "      sum_x += values[0][0] \n",
        "      sum_y += values[0][1]\n",
        "\n",
        "  return (sum_x//n, sum_y//n)\n",
        "\n",
        "def distance(centroid, point):\n",
        "  return math.sqrt((point[0]-centroid[0])**2 + (point[1]-centroid[1])**2)\n",
        "\n",
        "\n",
        "def classifier(dataset_test, centroid_X, centroid_O):\n",
        "  for key, value in dataset_test.items():\n",
        "    distance_X = distance(centroid_X, value[0])\n",
        "    distance_O = distance(centroid_O, value[0])\n",
        "    if distance_O > distance_X:\n",
        "      print(key, \" in X \")\n",
        "\n",
        "    else:\n",
        "      print(key, \"in O\")"
      ],
      "metadata": {
        "id": "_tOuRutxbuaU"
      },
      "execution_count": 12,
      "outputs": []
    },
    {
      "cell_type": "code",
      "execution_count": 13,
      "metadata": {
        "colab": {
          "base_uri": "https://localhost:8080/"
        },
        "id": "OH6FBbjWU8vU",
        "outputId": "0e8471f9-ae46-4604-9f41-ab5718f514f3"
      },
      "outputs": [
        {
          "output_type": "stream",
          "name": "stdout",
          "text": [
            "centroid_X :  (4, 3)\n",
            "centroid_O :  (5, 6)\n",
            "K in O\n",
            "L in O\n",
            "M  in X \n"
          ]
        }
      ],
      "source": [
        "\n",
        "centroid_X = centroid(dataset_training, \"X\")\n",
        "print(\"centroid_X : \", centroid_X)\n",
        "centroid_O = centroid(dataset_training, \"O\")\n",
        "print(\"centroid_O : \", centroid_O)\n",
        "\n",
        "classifier(dataset_test, centroid_X, centroid_O)"
      ]
    }
  ]
}