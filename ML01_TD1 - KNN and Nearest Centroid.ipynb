{
  "nbformat": 4,
  "nbformat_minor": 0,
  "metadata": {
    "colab": {
      "provenance": [],
      "collapsed_sections": [],
      "authorship_tag": "ABX9TyO9LnUz97T0/ZVoOBglLcKL",
      "include_colab_link": true
    },
    "kernelspec": {
      "name": "python3",
      "display_name": "Python 3"
    },
    "language_info": {
      "name": "python"
    }
  },
  "cells": [
    {
      "cell_type": "markdown",
      "metadata": {
        "id": "view-in-github",
        "colab_type": "text"
      },
      "source": [
        "<a href=\"https://colab.research.google.com/github/LucasColas/ML01-Machine-Learning-for-everyone/blob/main/ML01_TD1%20-%20KNN%20and%20Nearest%20Centroid.ipynb\" target=\"_parent\"><img src=\"https://colab.research.google.com/assets/colab-badge.svg\" alt=\"Open In Colab\"/></a>"
      ]
    },
    {
      "cell_type": "markdown",
      "source": [
        "# Supervised learning\n",
        "\n",
        "\n",
        "\n"
      ],
      "metadata": {
        "id": "Ty4yevZbU_bX"
      }
    },
    {
      "cell_type": "markdown",
      "source": [
        "## KNN"
      ],
      "metadata": {
        "id": "GeorPHd5_sCS"
      }
    },
    {
      "cell_type": "code",
      "source": [
        "import numpy as np\n",
        "import seaborn as sns\n",
        "import matplotlib.pyplot as plt\n",
        "import math\n",
        "X = np.array([[8, 2],\n",
        "       [4, 5],\n",
        "       [4, 3],\n",
        "       [7, 8],\n",
        "       [2, 4],\n",
        "       [7, 4],\n",
        "       [1, 6],\n",
        "       [8, 3],\n",
        "       [6, 2],\n",
        "       [5, 8],\n",
        "       [4, 7],\n",
        "       [6, 6],\n",
        "       [1, 2]])\n",
        "y = np.array(['X','O','X','O','X','O','X','X','X','O','X','O','X'])\n",
        "labels = np.array(['A','B','C','D','E','F','G','H','I','J','K','L','M'])\n",
        "\n",
        "sns.scatterplot(x=X[:,0], y=X[:,1], hue=y)\n",
        "plt.show()"
      ],
      "metadata": {
        "colab": {
          "base_uri": "https://localhost:8080/",
          "height": 265
        },
        "id": "PrwFGclG3U1T",
        "outputId": "c5044129-669b-4291-b92f-a75289b08443"
      },
      "execution_count": 3,
      "outputs": [
        {
          "output_type": "display_data",
          "data": {
            "text/plain": [
              "<Figure size 432x288 with 1 Axes>"
            ],
            "image/png": "[encoded data removed]"
          },
          "metadata": {
            "needs_background": "light"
          }
        }
      ]
    },
    {
      "cell_type": "code",
      "source": [
        "X_train = X[:-3, :]\n",
        "y_train = y[:-3]\n",
        "\n",
        "\n"
      ],
      "metadata": {
        "id": "raEreouC5KIy"
      },
      "execution_count": 7,
      "outputs": []
    },
    {
      "cell_type": "code",
      "source": [
        "X_test = X[-3:,:]\n",
        "print(X_test)\n",
        "y_test = y[-3:]"
      ],
      "metadata": {
        "colab": {
          "base_uri": "https://localhost:8080/"
        },
        "id": "nC2UUdJYbAB2",
        "outputId": "389f00aa-95aa-4f4c-8c3d-cad546e6542e"
      },
      "execution_count": 17,
      "outputs": [
        {
          "output_type": "stream",
          "name": "stdout",
          "text": [
            "[[4 7]\n",
            " [6 6]\n",
            " [1 2]]\n"
          ]
        }
      ]
    },
    {
      "cell_type": "markdown",
      "source": [
        "### 1NN"
      ],
      "metadata": {
        "id": "PvcZvh1a3SyP"
      }
    },
    {
      "cell_type": "code",
      "source": [
        "#1NN\n",
        "def KNN_learner(X, y):\n",
        "  \"\"\"\n",
        "  parameters\n",
        "  X: dataset\n",
        "  y : labels\n",
        "\n",
        "\n",
        "  \"\"\"\n",
        "  \n",
        "  def KNN(x):\n",
        "    #print(np.linalg.norm(X-x, axis=1).argmin())\n",
        "    return y[np.linalg.norm(X-x, axis=1).argmin()]\n",
        "  \n",
        "  return KNN\n",
        "\n"
      ],
      "metadata": {
        "id": "4vOPpnj74Jil"
      },
      "execution_count": 5,
      "outputs": []
    },
    {
      "cell_type": "code",
      "source": [
        "KNN_1 = KNN_learner(X_train, y_train)\n",
        "KNN_1(X[-3,:])"
      ],
      "metadata": {
        "colab": {
          "base_uri": "https://localhost:8080/",
          "height": 53
        },
        "id": "SVLIYtqH6esS",
        "outputId": "b794c51f-699e-4449-e2e9-bfa310728dde"
      },
      "execution_count": null,
      "outputs": [
        {
          "output_type": "stream",
          "name": "stdout",
          "text": [
            "9\n"
          ]
        },
        {
          "output_type": "execute_result",
          "data": {
            "text/plain": [
              "'O'"
            ],
            "application/vnd.google.colaboratory.intrinsic+json": {
              "type": "string"
            }
          },
          "metadata": {},
          "execution_count": 29
        }
      ]
    },
    {
      "cell_type": "code",
      "source": [
        "def predictions(X_test):\n",
        "  y_hat = np.chararray(X_test.shape[0])\n",
        "  for i in range(X_test.shape[0]):\n",
        "    y_hat[i] = KNN_1(X_test[i,:])\n",
        "\n",
        "  return y_hat\n",
        "\n",
        "  "
      ],
      "metadata": {
        "id": "isCfql7a7GEK"
      },
      "execution_count": 16,
      "outputs": []
    },
    {
      "cell_type": "code",
      "source": [
        "\n",
        "y_hat = predictions(X_test)\n",
        "print(\"y pred : \", y_hat)\n",
        "print(\"y test : \", y_test)"
      ],
      "metadata": {
        "id": "ErLyeCxI8zmL"
      },
      "execution_count": null,
      "outputs": []
    },
    {
      "cell_type": "code",
      "source": [
        "def error_rate(y_test, y_hat):\n",
        "  return np.sum(y_test != y_hat)/y_test.shape[0]\n",
        "\n",
        "print(\"error rate : \", math.floor(error_rate(y_test, y_hat)*100), \"%\")"
      ],
      "metadata": {
        "colab": {
          "base_uri": "https://localhost:8080/"
        },
        "id": "Jkz2czz7-5hj",
        "outputId": "f7d70202-400e-4f17-cea5-f1fc0a29090b"
      },
      "execution_count": null,
      "outputs": [
        {
          "output_type": "stream",
          "name": "stdout",
          "text": [
            "error rate :  33 %\n"
          ]
        }
      ]
    },
    {
      "cell_type": "markdown",
      "source": [
        "### KNN "
      ],
      "metadata": {
        "id": "WC-ITq4D_mmF"
      }
    },
    {
      "cell_type": "code",
      "source": [
        "def KNN_learner2(X, y, k = 1):\n",
        "  \"\"\"\n",
        "  parameters\n",
        "  X: dataset\n",
        "  y : labels\n",
        "\n",
        "\n",
        "  \"\"\"\n",
        "  \n",
        "  def KNN(x):\n",
        "  \n",
        "     res = (y[np.linalg.norm(X-x, axis=1).argsort()[:k]]==\"O\").sum()\n",
        "     return \"O\" if res > k//2 else \"X\"\n",
        "  \n",
        "  return KNN\n"
      ],
      "metadata": {
        "id": "0Qcc6RW6_mF9"
      },
      "execution_count": null,
      "outputs": []
    },
    {
      "cell_type": "code",
      "source": [
        "real_KNN = KNN_learner2(X_train, y_train, 3)\n",
        "real_KNN(X[-1,:])"
      ],
      "metadata": {
        "colab": {
          "base_uri": "https://localhost:8080/",
          "height": 35
        },
        "id": "L9tm_34jGr-G",
        "outputId": "02165794-63e9-4de7-8a3b-b5e4fc1bbbe7"
      },
      "execution_count": null,
      "outputs": [
        {
          "output_type": "execute_result",
          "data": {
            "text/plain": [
              "'X'"
            ],
            "application/vnd.google.colaboratory.intrinsic+json": {
              "type": "string"
            }
          },
          "metadata": {},
          "execution_count": 50
        }
      ]
    },
    {
      "cell_type": "markdown",
      "source": [
        "## Nearest Centroid"
      ],
      "metadata": {
        "id": "HcDZ6LRCVCPP"
      }
    },
    {
      "cell_type": "code",
      "source": [
        "def NC_learner(X_train, y_train, labels=(\"X\", \"O\")):\n",
        "  n_labels = len(labels)\n",
        "  centroids = np.zeros((n_labels, 2))\n",
        "  \n",
        "  for i in range(n_labels):\n",
        "    centroids[i, 0] = np.mean(X_train[np.where(y_train == labels[i]), 0])\n",
        "    centroids[i,1] = np.mean(X_train[np.where(y_train == labels[i]), 1])\n",
        "  def NC(x):\n",
        "    return labels[np.linalg.norm(centroids-x, axis=1).argmin()]\n",
        "  return NC"
      ],
      "metadata": {
        "id": "3QyP0_7LHYmf"
      },
      "execution_count": 24,
      "outputs": []
    },
    {
      "cell_type": "code",
      "source": [
        "NC = NC_learner(X_train, y_train)\n",
        "#print(X_test[1,:])\n",
        "NC(X_test[1,:])"
      ],
      "metadata": {
        "colab": {
          "base_uri": "https://localhost:8080/",
          "height": 53
        },
        "id": "tUUD8vISaUEv",
        "outputId": "bd7c9a32-71d5-4b34-adf5-d85d0c1102f9"
      },
      "execution_count": 25,
      "outputs": [
        {
          "output_type": "stream",
          "name": "stdout",
          "text": [
            "[6 6]\n"
          ]
        },
        {
          "output_type": "execute_result",
          "data": {
            "text/plain": [
              "'O'"
            ],
            "application/vnd.google.colaboratory.intrinsic+json": {
              "type": "string"
            }
          },
          "metadata": {},
          "execution_count": 25
        }
      ]
    }
  ]
}