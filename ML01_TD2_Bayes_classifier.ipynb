{
  "cells": [
    {
      "cell_type": "markdown",
      "metadata": {
        "id": "view-in-github",
        "colab_type": "text"
      },
      "source": [
        "<a href=\"https://colab.research.google.com/github/LucasColas/ML01-Machine-Learning-for-everyone/blob/main/ML01_TD2_Bayes_classifier.ipynb\" target=\"_parent\"><img src=\"https://colab.research.google.com/assets/colab-badge.svg\" alt=\"Open In Colab\"/></a>"
      ]
    },
    {
      "cell_type": "markdown",
      "metadata": {
        "id": "uvEmdVsEZfIr"
      },
      "source": [
        "# ML01 : Génération de Données et Estimastion du Classifieur de Bayes"
      ]
    },
    {
      "cell_type": "code",
      "execution_count": 1,
      "metadata": {
        "id": "Vh4_0_kwZfIy"
      },
      "outputs": [],
      "source": [
        "import numpy as np\n",
        "import pandas as pd\n",
        "import matplotlib.pyplot as plt\n",
        "from sklearn import datasets\n",
        "import scipy.stats as stats\n",
        "\n",
        "np.random.seed(407)"
      ]
    },
    {
      "cell_type": "markdown",
      "metadata": {
        "id": "SrEsuAjYZfI4"
      },
      "source": [
        "## Exercice 1. Générations de données par densité Gaussienne et classifieur de Bayes\n",
        "\n",
        "L'objectif de cet exercice est de déterminer le classifieur de Bayes permettant de diagnostiquer une maladie à partir d'une seule variable : la température d'un patient. Pour la suite, la classe 1 caractérisera les patients sains et la classe 2 caractérisera les patients malades.\n",
        "\n",
        "- On considèrera que la densité de distribution caractérisant les patients sains est une Gaussienne de moyenne $\\mu_1$ et de variance $\\sigma_1^2$.\n",
        "- De même, on considèrera que la densité de distribution caractérisant les patients malades est une Gaussienne de moyenne $\\mu_2$ et de variance $\\sigma_2^2$.\n",
        "\n",
        "Autrement dit, pour chaque classe $k\\in\\{1,2\\}$, on a \n",
        "\\begin{equation}\n",
        "f_k(x) = \\frac{1}{\\sigma_k \\sqrt{2\\pi}} \\, \\mathrm{exp}\\left( -\\frac{(x-\\mu_k)^2}{2\\sigma_k^2}\\right).\n",
        "\\end{equation}\n"
      ]
    },
    {
      "cell_type": "markdown",
      "metadata": {
        "id": "UFA998ADZfI7"
      },
      "source": [
        "### Question 1 : Générations d'une base d'apprentissage \n",
        "\n",
        "L'objectif de cette question est de générer aléatoirement une base d'apprentissage à partir des densités de distributions de chaque classe. \n",
        "Pour la suite, $X_i$ caractérisera la variable aléatoire caractérisant la température (le profile) d'un patient $i$, et $Y_i$ la variable aléatoire caractérisant sa classe.\n",
        "De même, on considèrera que la probabilité à priori qu'un patient soit malade est égale à $p := \\mathbb{P}(Y_i = 2)$.\n",
        "\n",
        "\n",
        "- **Probabilités de générer un patient dans chaque classe**\n",
        "    1. Déterminer analytiquement la fonction de densité de distribution $f_X(x)$ de la variable aléatoire $X$ en fonction de $p$, $f_1(x)$  et $f_2(x)$.\n",
        "    2. Déterminer ensuite analytiquement la probabilité qu'un patient $i$ soit sain sachant que sa température est $X_i = x_i$. \n",
        "    De même, déterminer analytiquement la probabilité qu'un patient $i$ soit malade sachant que sa température est $X_i = x_i$.\n",
        "    \n",
        "  *Réponses aux questions 1. et 2.* \n",
        "    1. Puisque que la variable aléatoire $Y$ est une variable aléatoire discrète à 2 issues telle que $\\mathbb{P}(Y_i = 2) = p$, il s'en suit que $\\mathbb{P}(Y_i = 1) = 1-p$ (cf loi de Bernouilli).\n",
        "> D'après la formule des probabilités totales, on a\n",
        "> $$ \\begin{aligned}\n",
        "f_{X}(x) & \\;=\\; f_1(x) \\, \\mathbb{P}(Y=1)  + f_2(x)  \\,\\mathbb{P}(Y=2) \\\\\n",
        "& \\;=\\; (1-p) f_1(x)  + p f_2(x) .\n",
        "\\end{aligned}\n",
        "$$\n",
        "\n",
        "  2. D'après la formule de Bayes, la probabilité qu'un patient $i$ soit sain sachant qu'il a une température $X_i = x_i$ est \n",
        "> $$\n",
        "\\begin{aligned}\n",
        "\\mathbb{P}(Y_i=1|X_i=x_i)  \\;=\\; \\frac{\\mathbb{P}(Y_i=1)f_1(x_i)}{f_{X}(x_i)} \n",
        " \\;=\\; \\frac{(1-p) \\, f_{1}(x_i)}{(1-p) f_1(x_i)  + p f_2(x_i) } .\n",
        "\\end{aligned}\n",
        "$$\n",
        "> De plus, la probabilité qu'un patient $i$ soit malade sachant qu'il a une température $X_i = x_i$ est \n",
        "> $$\n",
        "\\begin{aligned}\n",
        "\\mathbb{P}(Y_i=2|X_i=x_i)  \\;=\\; \\frac{\\mathbb{P}(Y_i=2)f_2(x_i)}{f_{X}(x_i)} \n",
        " \\;=\\; \\frac{p \\, f_{2}(x_i)}{(1-p) f_1(x_i)  + p f_2(x_i) } .\n",
        "\\end{aligned}\n",
        "$$\n",
        "\n",
        "\n",
        "\n",
        "    "
      ]
    },
    {
      "cell_type": "markdown",
      "metadata": {
        "id": "9F_smiWRZfI-"
      },
      "source": [
        "- **Génération de la base de données simulée**\n",
        "    \n",
        "     On considère dans cette question que les paramètres des deux lois gaussiennes sont donnés par $\\mu_1 = 37.8$, $\\mu_2 = 39$, $\\sigma_1 = 0.4$, $\\sigma_2 = 0.2$. On considère également que la probabilité à priori qu'un patient soit malade est égale à $p = \\mathbb{P}(Y_i = 2) = 0.2$.\n",
        "\n",
        "    - À partir de la variable aléatoire température, générer $m_1 = 80$ patients dans la classe 1 et $m_2 = 20$ patients dans la classe 2. Pour chaque patient de la classe 1, le profile $X_i$ sera généré aléatoirement suivant la loi $\\mathcal{N}\\left(\\mu_1,\\sigma_1^2\\right)$. Pour chaque patient de la classe 2, le profile $X_i$ sera généré aléatoirement suivant la loi $\\mathcal{N}\\left(\\mu_2,\\sigma_2^2\\right)$\n",
        "    - Tracer les fonctions de densité $f_1(x)$ et $f_2(x)$ sur une même figure.\n",
        "    - Afficher l'ensemble des patients sur cette même figure (sur l'axe des abscisses) de sorte que l'on visualise bien ceux de la classe 1 et ceux de la classe 2.\n",
        "\n",
        "Pour la suite, cette base de données que nous venons de générer correspondra à notre base d'apprentissage, qui a été générée à partir des paramètres $\\mu_1, \\mu_2, \\sigma_1, \\sigma_2$ connus."
      ]
    },
    {
      "cell_type": "code",
      "execution_count": 2,
      "metadata": {
        "id": "lWFxBfmBZfJA"
      },
      "outputs": [],
      "source": [
        "# RÉPONSE À LA QUESTION:\n",
        "np.random.seed(407)\n",
        "mu1 = 37.8\n",
        "mu2 = 39\n",
        "sig1 = 0.4\n",
        "sig2 = 0.2\n",
        "m1 = 80\n",
        "m2 = 20\n",
        "\n",
        "Xi_Classe1 = np.random.normal(mu1, sig1, m1)\n",
        "Xi_Classe2 = np.random.normal(mu2, sig2, m2)\n"
      ]
    },
    {
      "cell_type": "code",
      "source": [
        "Xi_Classe1.shape"
      ],
      "metadata": {
        "colab": {
          "base_uri": "https://localhost:8080/"
        },
        "id": "o1yxSBrfbr2T",
        "outputId": "3c701c61-05fd-42bb-fe52-0ec9ed6a9067"
      },
      "execution_count": 4,
      "outputs": [
        {
          "output_type": "execute_result",
          "data": {
            "text/plain": [
              "(80,)"
            ]
          },
          "metadata": {},
          "execution_count": 4
        }
      ]
    },
    {
      "cell_type": "code",
      "source": [
        "Xi_Classe2"
      ],
      "metadata": {
        "colab": {
          "base_uri": "https://localhost:8080/"
        },
        "id": "-QSjgEidbuuh",
        "outputId": "fca707cd-edcd-49cc-d2e1-98a649b9d3e8"
      },
      "execution_count": 5,
      "outputs": [
        {
          "output_type": "execute_result",
          "data": {
            "text/plain": [
              "array([39.14566854, 39.16992421, 38.64079964, 38.82083859, 39.06797417,\n",
              "       38.98402458, 38.77884759, 38.8072751 , 39.0283102 , 39.1167189 ,\n",
              "       39.1213237 , 38.91929485, 38.87576257, 39.04599402, 39.01928962,\n",
              "       39.21068097, 38.94329329, 38.90997317, 38.94392841, 39.1367613 ])"
            ]
          },
          "metadata": {},
          "execution_count": 5
        }
      ]
    },
    {
      "cell_type": "code",
      "source": [
        "fx1 = np.linspace(mu1 - 3*sig1, mu1 + 3*sig1, 100)\n",
        "fx2 = np.linspace(mu2 - 3*sig2, mu2 + 3*sig2, 100)\n",
        "plt.plot(fx1, stats.norm.pdf(fx1, mu1, sig1), c='blue', label='patients sains')\n",
        "plt.plot(fx2, stats.norm.pdf(fx2, mu2, sig2), c='red', label='patients malades')\n",
        "plt.scatter(Xi_Classe1, np.zeros(m1), c='blue')\n",
        "plt.scatter(Xi_Classe2, np.zeros(m2), c='red')\n",
        "plt.legend()\n",
        "plt.show()"
      ],
      "metadata": {
        "colab": {
          "base_uri": "https://localhost:8080/",
          "height": 265
        },
        "id": "T4AHVD9qbwLA",
        "outputId": "6ab604ed-8636-4673-b6b6-3f7b0e747aa4"
      },
      "execution_count": 14,
      "outputs": [
        {
          "output_type": "display_data",
          "data": {
            "text/plain": [
              "<Figure size 432x288 with 1 Axes>"
            ],
            "image/png": "[encoded data removed]"
          },
          "metadata": {
            "needs_background": "light"
          }
        }
      ]
    },
    {
      "cell_type": "markdown",
      "metadata": {
        "id": "YCY6ZIKdZfJC"
      },
      "source": [
        "### Question 2 : Classifieur de Bayes théorique \n",
        "\n",
        "L'objectif de cette question est maintenant de déterminer le classifieur de Bayes théorique, c'est à dire le classifieur optimal qui diagnostiquera au mieux les patients de la classe 1 et de la classe 2 lorsque les paramètres $p, \\mu_1, \\mu_2, \\sigma_1, \\sigma_2$ sont connus.  \n",
        "\n",
        "1. Determiner une regle de décision permettant de diagnostiquer au mieux les patients sains ainsi que les patients malades en fonction de la température. Écrire analytiquement cette règle de décision. \n",
        "2. Implémenter une fonction calculant ce classifieur de Bayes théorique et appliquer ensuite ce classifieur sur la base d'apprentissage générée dans la question précédente. Calculer ensuite le taux d'erreur global ainsi que les taux d'erreurs moyens obtenu par ce classifieur de Bayes théorique. \n",
        "\n",
        "\n",
        "- **Réponse à la Question 2.**\n",
        "\n",
        "    1. d'après la question 1, on a :\n",
        "$$\n",
        "\\begin{aligned}\n",
        "\\mathbb{P}(Y_i=1|X_i=x_i)  \\;=\\; \\frac{\\mathbb{P}(Y_i=1)f_1(x_i)}{f_{X}(x_i)} \n",
        " \\;=\\; \\frac{(1-p) \\, f_{1}(x_i)}{(1-p) f_1(x_i)  + p f_2(x_i) } .\n",
        "\\end{aligned}\n",
        "$$\n",
        "et \n",
        "$$\n",
        "\\begin{aligned}\n",
        "\\mathbb{P}(Y_i=2|X_i=x_i)  \\;=\\; \\frac{\\mathbb{P}(Y_i=2)f_2(x_i)}{f_{X}(x_i)} \n",
        " \\;=\\; \\frac{p \\, f_{2}(x_i)}{(1-p) f_1(x_i)  + p f_2(x_i) } .\n",
        "\\end{aligned}\n",
        "$$\n",
        "\n",
        "Puisque dans cette question les paramètres $p, \\mu_1, \\mu_2, \\sigma_1, \\sigma_2$ sont supposés connus, il nous est alors possible de calculer explicitement \n",
        "\n",
        "$\\mathbb{P}(Y_i=1|X_i=x_i)$ et $\\mathbb{P}(Y_i=2|X_i=x_i)$ pour chaque valeur de $x_i$. \n",
        "\n",
        "Le classifieur de Bayes (que l'on nottera $\\delta^B$) attribuera à chaque profile $x_i$ la classe $Y_i\\in\\{1,2\\}$ qui a la plus grande probabilité de se réaliser sachant le profile $x_i$. \n",
        "        Autrement dit :\n",
        "$$\n",
        "        \\begin{aligned}\n",
        "        \\delta^B : x_i \\mapsto \\mathrm{argmax}_{k\\in\\{1,2\\}} \\; \\mathbb{P}(Y_i=k|X_i=x_i).\n",
        "        \\end{aligned}\n",
        "$$"
      ]
    },
    {
      "cell_type": "code",
      "execution_count": null,
      "metadata": {
        "id": "7m8iv1roZfJE"
      },
      "outputs": [],
      "source": [
        "# RÉPONSE À LA QUESTION 2.2:\n",
        "\n"
      ]
    },
    {
      "cell_type": "markdown",
      "metadata": {
        "id": "KYAQSNQzZfJF"
      },
      "source": [
        "### Question 3 : Classifieur de Bayes Empirique \n",
        "\n",
        "Rappelons que l'objectif de la première question était de générer une base de données à partir de distributions connues. Ensuite, l'objectif de la question 2 était de déterminer le classifieur de Bayes théorique (le classifieur optimal par rapport aux densités de probabilités issues de la question 1).\n",
        "\n",
        "En pratique dans la vraie vie, nous diposons seulement des observations issues de la base d'apprentissage, mais nous n'avons en général aucune connaissance concernant les densités de probabilités dans chaque classe. À partir de cette base d'apprentissagen l'objectif est alors d'apprendre un classifieur qui convergera vers le classifieur de Bayes optimal.\n",
        "\n",
        "Pour cette question, nous supposons donc maintenant que nous disposons seulement de notre base d'apprentissage (températures des 100 patients ainsi que leur classe) générée lors de la question 1.\n",
        "Nous supposons également que la probabilité à priori $p$ ainsi que les densités $f_1(x)$, $f_2(x)$ sont toutes maintenant inconnues. Nous supposerons tout de même que la loi de $X$ est une Gaussienne dans chaque classe, mais que \n",
        "les paramètres $p, \\mu_1, \\mu_2, \\sigma_1, \\sigma_2$ sont maintenant inconnus.\n",
        "\n",
        "\n",
        "1. Comment procèderiez-vous pour apprendre une regle de décision permettant de diagnostiquer au mieux les patients sains ainsi que les patients malades en fonction de la température et en essayant d'approximer le classifier de Bayes ? \n",
        "\n",
        "2. Implémenter une fonction apprenant ce classifieur sur la base d'apprentissage générée dans la question 1. Calculer ensuite le taux d'erreur global ainsi que les taux d'erreurs par classe obtenus par ce nouveau classifieur et comparer les résultats avec ceux obtenus par le classifieur de Bayes théorique. \n",
        "\n",
        "3. Générer une base de données test (de façon similaire à la question 1) contenant 1000 observations (800 dans la classe 1 et 200 dans la classe 2). Comparer ensuite les performances du classifieur de Bayes théorique et du classifieur de Bayes empirique sur cette nouvelle base de données test.\n",
        "\n",
        "\n",
        "- **Réponse à la Question 3.1**\n",
        "\n",
        "    1. ...\n",
        " \n",
        "         "
      ]
    },
    {
      "cell_type": "code",
      "execution_count": null,
      "metadata": {
        "id": "sqWcDykMZfJH"
      },
      "outputs": [],
      "source": [
        "# RÉPONSE À LA QUESTION 3.2:\n",
        "\n"
      ]
    },
    {
      "cell_type": "code",
      "execution_count": null,
      "metadata": {
        "id": "HbRO8KwLZfJJ"
      },
      "outputs": [],
      "source": [
        "# RÉPONSE À LA QUESTION 3.3:\n",
        "np.random.seed(407)\n",
        "\n"
      ]
    },
    {
      "cell_type": "markdown",
      "metadata": {
        "id": "J82idfe2ZfJK"
      },
      "source": [
        "## Exercice 2. Cas de plusieurs variables Gaussiennes"
      ]
    },
    {
      "cell_type": "code",
      "execution_count": null,
      "metadata": {
        "id": "UmYHt8gQZfJL"
      },
      "outputs": [],
      "source": []
    }
  ],
  "metadata": {
    "kernelspec": {
      "display_name": "Python 3",
      "language": "python",
      "name": "python3"
    },
    "language_info": {
      "codemirror_mode": {
        "name": "ipython",
        "version": 3
      },
      "file_extension": ".py",
      "mimetype": "text/x-python",
      "name": "python",
      "nbconvert_exporter": "python",
      "pygments_lexer": "ipython3",
      "version": "3.7.6"
    },
    "colab": {
      "provenance": [],
      "include_colab_link": true
    }
  },
  "nbformat": 4,
  "nbformat_minor": 0
}