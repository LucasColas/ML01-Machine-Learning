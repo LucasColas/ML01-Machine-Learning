{
  "cells": [
    {
      "cell_type": "markdown",
      "metadata": {
        "id": "view-in-github",
        "colab_type": "text"
      },
      "source": [
        "<a href=\"https://colab.research.google.com/github/LucasColas/ML01-Machine-Learning-for-everyone/blob/main/ML01_TD6_Exercices_KNN_and_Cross_Validation.ipynb\" target=\"_parent\"><img src=\"https://colab.research.google.com/assets/colab-badge.svg\" alt=\"Open In Colab\"/></a>"
      ]
    },
    {
      "cell_type": "markdown",
      "metadata": {
        "id": "mW-eRcwnHe10"
      },
      "source": [
        "# ML01 : TD6 - Performance d'un modèle et Validation-Croisée\n",
        "\n",
        "Réalisé par Cyprien Gilet et Khaled Belahcene"
      ]
    },
    {
      "cell_type": "code",
      "execution_count": 8,
      "metadata": {
        "id": "KJ1r_O6vHe16"
      },
      "outputs": [],
      "source": [
        "import numpy as np\n",
        "import pandas as pd\n",
        "import matplotlib.pyplot as plt\n",
        "from sklearn import datasets\n",
        "import scipy.stats as stats\n",
        "\n",
        "from sklearn.model_selection import KFold\n",
        "from sklearn.neighbors import KNeighborsClassifier"
      ]
    },
    {
      "cell_type": "markdown",
      "metadata": {
        "id": "GifqLfPjHe2A"
      },
      "source": [
        "# 1. Implémentation fonctions d'évaluation des performances d'un classifieur\n",
        "\n",
        "**Question 1.** Dans le fichier *functions.ipynb*, implémenter les différentes fonctions permettant d'évaluer la performance d'un classifieur $\\delta\\in\\Delta$ :\n",
        "- Risques d'erreur empirique par classe $\\hat{R}_k(\\delta)$ en fonction d'une fonction de perte $L$ quelconque.\n",
        "- Risque d'erreur empirique moyen $\\hat{r}(\\delta)$ en fonction d'une fonction de perte $L$ quelconque.\n",
        "- Accuracy moyenne $\\mathrm{Acc}(\\delta)$.\n",
        "- Accuraces par classe $\\mathrm{Acc}_k(\\delta)$.\n",
        "- Matrice de confusion $C(\\delta)$.\n",
        "\n",
        "Le code ci-dessous permet d'importer ces fonctions dans ce Notebook présent."
      ]
    },
    {
      "cell_type": "code",
      "execution_count": 1,
      "metadata": {
        "colab": {
          "base_uri": "https://localhost:8080/"
        },
        "id": "YU0r-OCFHe2E",
        "outputId": "556139db-c1d8-4c63-ea35-23598b829f05"
      },
      "outputs": [
        {
          "output_type": "stream",
          "name": "stderr",
          "text": [
            "ERROR:root:File `'functions.ipynb.py'` not found.\n"
          ]
        }
      ],
      "source": [
        "run functions.ipynb"
      ]
    },
    {
      "cell_type": "markdown",
      "source": [
        "### Sur colab on mettre directement les fonctions dans ce notebook"
      ],
      "metadata": {
        "id": "1v5amP7TRVWg"
      }
    },
    {
      "cell_type": "code",
      "source": [
        "def compute_risk_per_class(YR, Yhat, K, L): \n",
        "    '''\n",
        "    Parameters\n",
        "    ----------\n",
        "    YR : DataFrame\n",
        "        Real labels.\n",
        "    Yhat : Array\n",
        "        Predicted labels.\n",
        "    K : int\n",
        "        Number of classes.\n",
        "    L : Array\n",
        "        Loss Function.\n",
        "\n",
        "    Returns\n",
        "    -------\n",
        "    R : Array of floats\n",
        "        Conditional risks.\n",
        "    '''\n",
        "   \n",
        "    R = np.zeros(K)\n",
        "    \n",
        "    # À compléter...\n",
        "    confmat = np.zeros((K, K))\n",
        "    print(\"confmat shape : \", confmat.shape)\n",
        "    print(\"L shape : \", L.shape)\n",
        "    R = np.zeros(K)\n",
        "    for k in range(0, K):\n",
        "        nk = np.sum(YR==k+1)\n",
        "        if nk > 0:\n",
        "            Ik = np.where(YR==k+1)\n",
        "            for l in range(0, K):\n",
        "                confmat[k,l] = np.sum(Yhat[Ik]==l+1)/nk\n",
        "        R[k] = L[k, :].dot(confmat[k, :]) \n",
        "    \n",
        "    return R"
      ],
      "metadata": {
        "id": "3RKoKbWyHvLW"
      },
      "execution_count": 41,
      "outputs": []
    },
    {
      "cell_type": "code",
      "source": [
        "def compute_average_risk(YR, Yhat, K, L):\n",
        "    '''\n",
        "    Parameters\n",
        "    ----------\n",
        "    YR : DataFrame\n",
        "        Real labels.\n",
        "    Yhat : Array\n",
        "        Predicted labels.\n",
        "    K : int\n",
        "        Number of classes.\n",
        "    L : Array\n",
        "        Loss Function.\n",
        "\n",
        "    Returns\n",
        "    -------\n",
        "    r : float\n",
        "        Global risk.\n",
        "    '''\n",
        "    \n",
        "    \n",
        "    # À compléter...\n",
        "    n = YR.shape[0]\n",
        "    r = 0\n",
        "    R_classe = compute_risk_per_class(YR, Yhat, K, L)\n",
        "    for k in range(K):\n",
        "      Ik = np.where(YR==k+1)\n",
        "      pk = np.sum(YR==k+1)/n\n",
        "      \n",
        "      r += pk*R_classe[k]\n",
        "    \n",
        "    return r"
      ],
      "metadata": {
        "id": "1B4SeV_DRa75"
      },
      "execution_count": 3,
      "outputs": []
    },
    {
      "cell_type": "code",
      "source": [
        "def compute_accuracy(YR, Yhat):\n",
        "    '''\n",
        "    Parameters\n",
        "    ----------\n",
        "    YR : DataFrame\n",
        "        Real labels.\n",
        "    Yhat : Array\n",
        "        Predicted labels.\n",
        "\n",
        "    Returns\n",
        "    -------\n",
        "    Acc : float\n",
        "        Accuracy.\n",
        "    '''\n",
        "    \n",
        "    \n",
        "    # À compléter...\n",
        "    n = YR.shape[0]\n",
        "    Acc = np.sum(YR==Yhat)/n\n",
        "\n",
        "    \n",
        "    return Acc"
      ],
      "metadata": {
        "id": "fWSAGgOhRcG9"
      },
      "execution_count": 4,
      "outputs": []
    },
    {
      "cell_type": "code",
      "source": [
        "def compute_accuracy_per_class(YR, Yhat, K):\n",
        "    '''\n",
        "    Parameters\n",
        "    ----------\n",
        "    YR : DataFrame\n",
        "        Real labels.\n",
        "    Yhat : Array\n",
        "        Predicted labels.\n",
        "    K : int\n",
        "        Number of classes.\n",
        "\n",
        "    Returns\n",
        "    -------\n",
        "    Acc_per_class : Array\n",
        "        Accuracies per class\n",
        "    '''\n",
        "    \n",
        "    Acc_per_class = np.zeros(K)\n",
        "    \n",
        "    # À compléter...\n",
        "    for k in range(K):\n",
        "      Ik = np.where(YR==k+1)\n",
        "      nk = np.sum(YR==k+1)\n",
        "      if nk > 0:\n",
        "\n",
        "        Acc_per_class[k] = np.sum(Yhat[Ik] == k+1)/nk\n",
        "    \n",
        "    return Acc_per_class"
      ],
      "metadata": {
        "id": "QOszGnfnRdgd"
      },
      "execution_count": 5,
      "outputs": []
    },
    {
      "cell_type": "code",
      "source": [
        "def compute_confusion_matrix(YR, Yhat, K):\n",
        "    '''\n",
        "    Parameters\n",
        "    ----------\n",
        "    YR : DataFrame\n",
        "        Real labels.\n",
        "    Yhat : Array\n",
        "        Predicted labels.\n",
        "    K : int\n",
        "        Number of classes.\n",
        "\n",
        "    Returns\n",
        "    -------\n",
        "    confmat : Array\n",
        "        Confusion Matrix\n",
        "    '''\n",
        "    \n",
        "    # À compléter...\n",
        "    confmat = np.zeros((K,K))\n",
        "    for k in range(K):\n",
        "      nk = np.sum(YR == k+1)\n",
        "      if nk > 0:\n",
        "        Ik = np.where(YR==k+1)\n",
        "        for l in range(K):\n",
        "          confmat[k,l] = np.sum(Yhat[Ik] == l+1)/nk\n",
        "    \n",
        "    return confmat"
      ],
      "metadata": {
        "id": "ZcAvEKnoRfam"
      },
      "execution_count": 38,
      "outputs": []
    },
    {
      "cell_type": "markdown",
      "metadata": {
        "id": "-mjWXvSxHe2H"
      },
      "source": [
        "# 2. Validation croisée KNN sur base de données Diabete_UCI\n",
        "\n",
        "Dans cette section nous souhaitons apprendre le classifieur KNN à partir d'une validation croisée sur la base de données Diabete UCI. Nous considèrerons la fonction de perte $L_{0\\text{-}1}$.\n",
        "\n",
        "Les cellules suivantes permettent d'importer la base de données."
      ]
    },
    {
      "cell_type": "code",
      "execution_count": 11,
      "metadata": {
        "colab": {
          "base_uri": "https://localhost:8080/"
        },
        "id": "YlM4cpU5He2K",
        "outputId": "cddc7af9-8737-4251-9589-ff03fc2ccda7"
      },
      "outputs": [
        {
          "output_type": "stream",
          "name": "stdout",
          "text": [
            "['Pregnancies' 'Glucose' 'BloodPressure' 'SkinThickness' 'Insulin' 'BMI'\n",
            " 'DiabetesPedigreeFunction' 'Age' 'Outcome']\n",
            "df =      Pregnancies  Glucose  BloodPressure  SkinThickness  Insulin   BMI  \\\n",
            "0              6      148             72             35        0  33.6   \n",
            "1              1       85             66             29        0  26.6   \n",
            "2              8      183             64              0        0  23.3   \n",
            "3              1       89             66             23       94  28.1   \n",
            "4              0      137             40             35      168  43.1   \n",
            "..           ...      ...            ...            ...      ...   ...   \n",
            "763           10      101             76             48      180  32.9   \n",
            "764            2      122             70             27        0  36.8   \n",
            "765            5      121             72             23      112  26.2   \n",
            "766            1      126             60              0        0  30.1   \n",
            "767            1       93             70             31        0  30.4   \n",
            "\n",
            "     DiabetesPedigreeFunction  Age  Outcome  \n",
            "0                       0.627   50        1  \n",
            "1                       0.351   31        0  \n",
            "2                       0.672   32        1  \n",
            "3                       0.167   21        0  \n",
            "4                       2.288   33        1  \n",
            "..                        ...  ...      ...  \n",
            "763                     0.171   63        0  \n",
            "764                     0.340   27        0  \n",
            "765                     0.245   30        0  \n",
            "766                     0.349   47        1  \n",
            "767                     0.315   23        0  \n",
            "\n",
            "[768 rows x 9 columns]\n",
            "<class 'pandas.core.frame.DataFrame'>\n",
            "RangeIndex: 768 entries, 0 to 767\n",
            "Data columns (total 9 columns):\n",
            " #   Column                    Non-Null Count  Dtype  \n",
            "---  ------                    --------------  -----  \n",
            " 0   Pregnancies               768 non-null    int64  \n",
            " 1   Glucose                   768 non-null    int64  \n",
            " 2   BloodPressure             768 non-null    int64  \n",
            " 3   SkinThickness             768 non-null    int64  \n",
            " 4   Insulin                   768 non-null    int64  \n",
            " 5   BMI                       768 non-null    float64\n",
            " 6   DiabetesPedigreeFunction  768 non-null    float64\n",
            " 7   Age                       768 non-null    int64  \n",
            " 8   Outcome                   768 non-null    int64  \n",
            "dtypes: float64(2), int64(7)\n",
            "memory usage: 54.1 KB\n",
            "df_Info = None\n"
          ]
        }
      ],
      "source": [
        "df = pd.read_csv('diabetes_UCI.csv')\n",
        "print(df.columns.values)\n",
        "print('df =', df)\n",
        "print('df_Info =', df.info())\n",
        "\n",
        "df = df.reset_index()\n",
        "df.drop(['index'], axis='columns', inplace=True)"
      ]
    },
    {
      "cell_type": "code",
      "execution_count": 35,
      "metadata": {
        "colab": {
          "base_uri": "https://localhost:8080/"
        },
        "id": "66dC2nxjHe2N",
        "outputId": "825fb502-0709-435a-b036-d3e0dcbf8a20"
      },
      "outputs": [
        {
          "output_type": "stream",
          "name": "stdout",
          "text": [
            "np.unique(YRdf) = [0 1]\n",
            "np.unique(YR) = [1 2]\n"
          ]
        }
      ],
      "source": [
        "\n",
        "YRdf = pd.DataFrame(df['Outcome'])\n",
        "print('np.unique(YRdf) =', np.unique(YRdf))\n",
        "YR = np.array(YRdf).ravel()+1\n",
        "print('np.unique(YR) =', np.unique(YR))\n",
        "\n",
        "Xdf = df.copy()\n",
        "Xdf.drop(['Outcome'], axis='columns', inplace=True)\n",
        "#Xdf.info()\n",
        "\n",
        "K = int(np.max(YR))\n",
        "X = np.array(Xdf)\n"
      ]
    },
    {
      "cell_type": "code",
      "source": [
        "K"
      ],
      "metadata": {
        "colab": {
          "base_uri": "https://localhost:8080/"
        },
        "id": "UT-4zKczSnzp",
        "outputId": "747a16d8-1d17-4dfc-a625-7a834c7ebc5d"
      },
      "execution_count": 36,
      "outputs": [
        {
          "output_type": "execute_result",
          "data": {
            "text/plain": [
              "2"
            ]
          },
          "metadata": {},
          "execution_count": 36
        }
      ]
    },
    {
      "cell_type": "markdown",
      "metadata": {
        "id": "uaiKAkY4He2Q"
      },
      "source": [
        "**Question 2.1.** Implémenter la fonction de perte $L_{0\\text{-}1}$."
      ]
    },
    {
      "cell_type": "code",
      "execution_count": 37,
      "metadata": {
        "colab": {
          "base_uri": "https://localhost:8080/"
        },
        "id": "qm_ETOjOHe2U",
        "outputId": "e98cb616-dd04-4352-c848-8e2cb2b8a7e2"
      },
      "outputs": [
        {
          "output_type": "execute_result",
          "data": {
            "text/plain": [
              "array([[0., 1.],\n",
              "       [1., 0.]])"
            ]
          },
          "metadata": {},
          "execution_count": 37
        }
      ],
      "source": [
        "# RÉPONSE À LA QUESTION 2.1:\n",
        "L = np.ones((K,K))\n",
        "np.fill_diagonal(L,0)\n",
        "L"
      ]
    },
    {
      "cell_type": "markdown",
      "metadata": {
        "id": "hgIV8SXmHe2Y"
      },
      "source": [
        "**Question 2.2.** Créer une procédure de validation croisée permettant selectionner le nombre de voisins optimal de sorte à ce que l'on obtenienne une erreur de généralisation satisfaisante. On pourra s'inspirer de la structure suivante : \n",
        "\n",
        "https://scikit-learn.org/stable/modules/generated/sklearn.model_selection.KFold.html"
      ]
    },
    {
      "cell_type": "code",
      "execution_count": 23,
      "metadata": {
        "colab": {
          "base_uri": "https://localhost:8080/",
          "height": 1000
        },
        "id": "0bi_xt5tHe2a",
        "outputId": "4c9a3d8b-8fae-410c-8adb-e4af41c71fdd"
      },
      "outputs": [
        {
          "output_type": "stream",
          "name": "stdout",
          "text": [
            "processing fold f = 0\n",
            "    KNN -> kn = 1\n",
            "    KNN -> kn = 10\n",
            "    KNN -> kn = 20\n",
            "    KNN -> kn = 30\n",
            "    KNN -> kn = 40\n",
            "    KNN -> kn = 50\n",
            "    KNN -> kn = 100\n",
            "processing fold f = 1\n",
            "    KNN -> kn = 1\n",
            "    KNN -> kn = 10\n",
            "    KNN -> kn = 20\n",
            "    KNN -> kn = 30\n",
            "    KNN -> kn = 40\n",
            "    KNN -> kn = 50\n",
            "    KNN -> kn = 100\n",
            "processing fold f = 2\n",
            "    KNN -> kn = 1\n",
            "    KNN -> kn = 10\n",
            "    KNN -> kn = 20\n",
            "    KNN -> kn = 30\n",
            "    KNN -> kn = 40\n",
            "    KNN -> kn = 50\n",
            "    KNN -> kn = 100\n",
            "processing fold f = 3\n",
            "    KNN -> kn = 1\n",
            "    KNN -> kn = 10\n",
            "    KNN -> kn = 20\n",
            "    KNN -> kn = 30\n",
            "    KNN -> kn = 40\n",
            "    KNN -> kn = 50\n",
            "    KNN -> kn = 100\n",
            "processing fold f = 4\n",
            "    KNN -> kn = 1\n",
            "    KNN -> kn = 10\n",
            "    KNN -> kn = 20\n",
            "    KNN -> kn = 30\n",
            "    KNN -> kn = 40\n",
            "    KNN -> kn = 50\n",
            "    KNN -> kn = 100\n"
          ]
        },
        {
          "output_type": "display_data",
          "data": {
            "text/plain": [
              "<Figure size 432x432 with 1 Axes>"
            ],
            "image/png": "[encoded data removed]"
          },
          "metadata": {
            "needs_background": "light"
          }
        }
      ],
      "source": [
        "# RÉPONSE À LA QUESTION 2.2:\n",
        "np.random.seed(407)\n",
        "\n",
        "nbFolds = 5\n",
        "kf = KFold(n_splits=nbFolds, shuffle=True)\n",
        "kfSplit = kf.split(X)\n",
        "\n",
        "stock_kn = np.array([1, 10, 20, 30, 40, 50, 100])\n",
        "nb_kn = stock_kn.shape[0]\n",
        "stock_average_risk_Train = np.zeros((nbFolds,nb_kn))\n",
        "stock_average_risk_Val = np.zeros((nbFolds,nb_kn))\n",
        "\n",
        "f = 0\n",
        "t = 0\n",
        "\n",
        "for train, val in kfSplit:\n",
        "    \n",
        "    print(\"processing fold f =\", f) \n",
        "    \n",
        "    XTrain, XVal, YRTrain, YRVal = X[train,:], X[val,:], YR[train], YR[val]\n",
        "    \n",
        "    for kn in stock_kn:\n",
        "        ### KNN \n",
        "        print(\"    KNN -> kn =\", kn)\n",
        "        model_KNN = KNeighborsClassifier(n_neighbors=kn, metric='euclidean')\n",
        "        model_KNN.fit(XTrain, YRTrain.ravel())\n",
        "\n",
        "        # Prediction on the training samples\n",
        "        YhatTrainKNN = model_KNN.predict(XTrain)\n",
        "        stock_average_risk_Train[f,t] = compute_average_risk(YRTrain, YhatTrainKNN, K, L)\n",
        "\n",
        "        # Prediction on the testing samples\n",
        "        YhatValKNN = model_KNN.predict(XVal)\n",
        "        stock_average_risk_Val[f,t] = compute_average_risk(YRVal, YhatValKNN, K, L)\n",
        "        \n",
        "        t = t+1\n",
        "    \n",
        "    f = f+1\n",
        "    t = 0\n",
        "    \n",
        "    \n",
        "    \n",
        "# FiGURE RISQUE MOYEN VERSUS NOMBRE DE VOISINS :\n",
        "fig_select_kn = plt.figure(figsize=(6,6))\n",
        "ax1 = fig_select_kn.add_subplot(1,1,1)\n",
        "\n",
        "ax1.plot(stock_kn, np.mean(stock_average_risk_Train,0), color='blue', label='Training')\n",
        "ax1.plot(stock_kn, np.mean(stock_average_risk_Train,0)-np.std(stock_average_risk_Train,0), color='blue',ls='--')\n",
        "ax1.plot(stock_kn, np.mean(stock_average_risk_Train,0)+np.std(stock_average_risk_Train,0), color='blue',ls='--')\n",
        "\n",
        "ax1.plot(stock_kn, np.mean(stock_average_risk_Val,0), color='orange', label='Validation')\n",
        "ax1.plot(stock_kn, np.mean(stock_average_risk_Val,0)-np.std(stock_average_risk_Val,0), color='orange',ls='--')\n",
        "ax1.plot(stock_kn, np.mean(stock_average_risk_Val,0)+np.std(stock_average_risk_Val,0), color='orange',ls='--')\n",
        "ax1.legend(fontsize=20, loc='lower right')\n",
        "ax1.set_xlabel(\"Nombre de voisins\",fontsize=20)\n",
        "ax1.set_ylabel(\"Risque d'erreur empirique\",fontsize=20)\n",
        "ax1.set_title(\"Sélection du nombre de voisins optimal\",fontsize=20)\n",
        "ax1.tick_params(axis='x', labelsize=20)\n",
        "ax1.tick_params(axis='y', labelsize=20)\n",
        "ax1.set_xlim([np.min(stock_kn),np.max(stock_kn)])\n",
        "ax1.grid()\n",
        "#ax1.set_xscale('log')\n"
      ]
    },
    {
      "cell_type": "code",
      "source": [
        "np.random.seed(407)\n",
        "\n",
        "nbFolds = 5\n",
        "kf = KFold(n_splits=nbFolds, shuffle=True)\n",
        "kfSplit = kf.split(X)\n",
        "\n",
        "stock_average_risk_Train = np.zeros(nbFolds)\n",
        "stock_average_risk_Val = np.zeros(nbFolds)\n",
        "\n",
        "stock_RiskPerClass_Train = np.zeros((nbFolds,K))\n",
        "stock_RiskPerClass_Val = np.zeros((nbFolds,K))\n",
        "\n",
        "stock_Accuracy_Train = np.zeros(nbFolds)\n",
        "stock_Accuracy_Val = np.zeros(nbFolds)\n",
        "\n",
        "stock_AccPerClass_Train = np.zeros((nbFolds,K))\n",
        "stock_AccPerClass_Val = np.zeros((nbFolds,K))\n",
        "\n",
        "stock_ConfMat_Train = np.zeros((nbFolds,K,K))\n",
        "stock_ConfMat_Val = np.zeros((nbFolds,K,K))\n",
        "\n",
        "\n",
        "f = 0\n",
        "kn = 20 # Nombre optimal de voisins\n",
        "\n",
        "for train, val in kfSplit:\n",
        "    \n",
        "    print(\"processing fold f =\", f) \n",
        "    \n",
        "    XTrain, XVal, YRTrain, YRVal = X[train,:], X[val,:], YR[train], YR[val]\n",
        "    \n",
        "    ### KNN \n",
        "    model_KNN = KNeighborsClassifier(n_neighbors=kn, metric='euclidean')\n",
        "    model_KNN.fit(XTrain, YRTrain.ravel())\n",
        "\n",
        "    # Evaluations on the training set\n",
        "    YhatTrainKNN = model_KNN.predict(XTrain)\n",
        "    print(YRTrain.shape)\n",
        "    print(YhatTrainKNN.shape)\n",
        "    stock_average_risk_Train[f] = compute_average_risk(YRTrain, YhatTrainKNN, K, L)\n",
        "    stock_RiskPerClass_Train[f,:] = compute_risk_per_class(YRTrain, YhatTrainKNN, K, L)\n",
        "    stock_Accuracy_Train[f] = compute_accuracy(YRTrain, YhatTrainKNN)\n",
        "    stock_AccPerClass_Train[f,:] = compute_accuracy_per_class(YRTrain, YhatTrainKNN, K)\n",
        "    stock_ConfMat_Train[f,:,:] = compute_confusion_matrix(YRTrain, YhatTrainKNN, K)\n",
        "\n",
        "    # Evaluations on the Validation set \n",
        "    YhatValKNN = model_KNN.predict(XVal)\n",
        "    stock_average_risk_Val[f] = compute_average_risk(YRVal, YhatValKNN, K, L)\n",
        "    stock_RiskPerClass_Val[f,:] = compute_risk_per_class(YRVal, YhatValKNN, K, L)\n",
        "    stock_Accuracy_Val[f] = compute_accuracy(YRVal, YhatValKNN)\n",
        "    stock_AccPerClass_Val[f,:] = compute_accuracy_per_class(YRVal, YhatValKNN, K)\n",
        "    stock_ConfMat_Val[f,:,:] = compute_confusion_matrix(YRVal, YhatValKNN, K)\n",
        "    \n",
        "    f = f+1\n",
        "\n",
        "    \n",
        "    "
      ],
      "metadata": {
        "id": "eVvd1N4xTm8o"
      },
      "execution_count": null,
      "outputs": []
    },
    {
      "cell_type": "code",
      "source": [
        "print('stock_average_risk_Train =', stock_average_risk_Train)\n",
        "print('stock_average_risk_Val =', stock_average_risk_Val)\n",
        "print('')\n",
        "print('')\n",
        "print('stock_RiskPerClass_Train =', stock_RiskPerClass_Train)\n",
        "print('stock_RiskPerClass_Val =', stock_RiskPerClass_Val)\n",
        "print('')\n",
        "print('')\n",
        "print('stock_Accuracy_Train =', stock_Accuracy_Train)\n",
        "print('stock_Accuracy_Val =', stock_Accuracy_Val)\n",
        "print('')\n",
        "print('')\n",
        "print('stock_AccPerClass_Train =', stock_AccPerClass_Train)\n",
        "print('stock_AccPerClass_Val =', stock_AccPerClass_Val)\n",
        "print('')\n",
        "print('')\n",
        "print('Average stock_ConfMat_Train =', np.mean(stock_ConfMat_Train,0))\n",
        "print('Average stock_ConfMat_Val =', np.mean(stock_ConfMat_Val,0))"
      ],
      "metadata": {
        "colab": {
          "base_uri": "https://localhost:8080/"
        },
        "id": "74vQ87q2VXA-",
        "outputId": "96e9095e-d4fc-4655-a30e-f40dcccf9dc0"
      },
      "execution_count": 43,
      "outputs": [
        {
          "output_type": "stream",
          "name": "stdout",
          "text": [
            "stock_average_risk_Train = [0.21498371 0.24267101 0.21986971 0.23252033 0.23252033]\n",
            "stock_average_risk_Val = [0.25974026 0.23376623 0.24025974 0.23529412 0.30065359]\n",
            "\n",
            "\n",
            "stock_RiskPerClass_Train = [[0.07848101 0.46118721]\n",
            " [0.07788945 0.5462963 ]\n",
            " [0.0879397  0.46296296]\n",
            " [0.0964467  0.47511312]\n",
            " [0.07228916 0.565     ]]\n",
            "stock_RiskPerClass_Val = [[0.16190476 0.46938776]\n",
            " [0.09803922 0.5       ]\n",
            " [0.06862745 0.57692308]\n",
            " [0.0754717  0.59574468]\n",
            " [0.08235294 0.57352941]]\n",
            "\n",
            "\n",
            "stock_Accuracy_Train = [0.78501629 0.75732899 0.78013029 0.76747967 0.76747967]\n",
            "stock_Accuracy_Val = [0.74025974 0.76623377 0.75974026 0.76470588 0.69934641]\n",
            "\n",
            "\n",
            "stock_AccPerClass_Train = [[0.92151899 0.53881279]\n",
            " [0.92211055 0.4537037 ]\n",
            " [0.9120603  0.53703704]\n",
            " [0.9035533  0.52488688]\n",
            " [0.92771084 0.435     ]]\n",
            "stock_AccPerClass_Val = [[0.83809524 0.53061224]\n",
            " [0.90196078 0.5       ]\n",
            " [0.93137255 0.42307692]\n",
            " [0.9245283  0.40425532]\n",
            " [0.91764706 0.42647059]]\n",
            "\n",
            "\n",
            "Average stock_ConfMat_Train = [[0.9173908  0.0826092 ]\n",
            " [0.50211192 0.49788808]]\n",
            "Average stock_ConfMat_Val = [[0.90272079 0.09727921]\n",
            " [0.54311698 0.45688302]]\n"
          ]
        }
      ]
    }
  ],
  "metadata": {
    "kernelspec": {
      "display_name": "Python 3",
      "language": "python",
      "name": "python3"
    },
    "language_info": {
      "codemirror_mode": {
        "name": "ipython",
        "version": 3
      },
      "file_extension": ".py",
      "mimetype": "text/x-python",
      "name": "python",
      "nbconvert_exporter": "python",
      "pygments_lexer": "ipython3",
      "version": "3.7.6"
    },
    "colab": {
      "provenance": [],
      "include_colab_link": true
    }
  },
  "nbformat": 4,
  "nbformat_minor": 0
}