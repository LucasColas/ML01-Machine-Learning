{
  "cells": [
    {
      "cell_type": "markdown",
      "metadata": {
        "id": "view-in-github",
        "colab_type": "text"
      },
      "source": [
        "<a href=\"https://colab.research.google.com/github/LucasColas/ML01-Machine-Learning-for-everyone/blob/main/ML01_TD9_Decision_Tree_and_random_forest.ipynb\" target=\"_parent\"><img src=\"https://colab.research.google.com/assets/colab-badge.svg\" alt=\"Open In Colab\"/></a>"
      ]
    },
    {
      "cell_type": "markdown",
      "metadata": {
        "id": "0WORyDbGZ_w4"
      },
      "source": [
        "# ML01 : TD9 - Arbres de décisions et Random Forrest\n",
        "\n",
        "Réalisé par Cyprien Gilet et Khaled Belahcene"
      ]
    },
    {
      "cell_type": "code",
      "execution_count": null,
      "metadata": {
        "id": "NfzrKgKQZ_xA"
      },
      "outputs": [],
      "source": [
        "import numpy as np\n",
        "import pandas as pd\n",
        "import matplotlib.pyplot as plt"
      ]
    },
    {
      "cell_type": "markdown",
      "metadata": {
        "id": "Vcl-nAReZ_xH"
      },
      "source": [
        "# 1. Arbre de décision par Scikit-Learn sur base de données Diabete_UCI\n",
        "\n",
        "Dans cette section nous souhaitons prendre en main la calibration d'arbres de décision proposés par Scikit-Learn sur la base de données Diabete_UCI. Concernant cette base de données, l'objectif est de diagnostiquer la variable d'intérêt diabète. \n",
        "Le code ci-dessous permet d'importer la base de données Diabete_UCI."
      ]
    },
    {
      "cell_type": "code",
      "execution_count": null,
      "metadata": {
        "id": "FzOsHvSDZ_xK",
        "outputId": "44d94642-4b41-4b2e-b118-426eb8b816d1"
      },
      "outputs": [
        {
          "name": "stdout",
          "output_type": "stream",
          "text": [
            "['Pregnancies' 'Glucose' 'BloodPressure' 'SkinThickness' 'Insulin' 'BMI'\n",
            " 'DiabetesPedigreeFunction' 'Age' 'Outcome']\n",
            "df =      Pregnancies  Glucose  BloodPressure  SkinThickness  Insulin   BMI  \\\n",
            "0              6      148             72             35        0  33.6   \n",
            "1              1       85             66             29        0  26.6   \n",
            "2              8      183             64              0        0  23.3   \n",
            "3              1       89             66             23       94  28.1   \n",
            "4              0      137             40             35      168  43.1   \n",
            "..           ...      ...            ...            ...      ...   ...   \n",
            "763           10      101             76             48      180  32.9   \n",
            "764            2      122             70             27        0  36.8   \n",
            "765            5      121             72             23      112  26.2   \n",
            "766            1      126             60              0        0  30.1   \n",
            "767            1       93             70             31        0  30.4   \n",
            "\n",
            "     DiabetesPedigreeFunction  Age  Outcome  \n",
            "0                       0.627   50        1  \n",
            "1                       0.351   31        0  \n",
            "2                       0.672   32        1  \n",
            "3                       0.167   21        0  \n",
            "4                       2.288   33        1  \n",
            "..                        ...  ...      ...  \n",
            "763                     0.171   63        0  \n",
            "764                     0.340   27        0  \n",
            "765                     0.245   30        0  \n",
            "766                     0.349   47        1  \n",
            "767                     0.315   23        0  \n",
            "\n",
            "[768 rows x 9 columns]\n",
            "<class 'pandas.core.frame.DataFrame'>\n",
            "RangeIndex: 768 entries, 0 to 767\n",
            "Data columns (total 9 columns):\n",
            " #   Column                    Non-Null Count  Dtype  \n",
            "---  ------                    --------------  -----  \n",
            " 0   Pregnancies               768 non-null    int64  \n",
            " 1   Glucose                   768 non-null    int64  \n",
            " 2   BloodPressure             768 non-null    int64  \n",
            " 3   SkinThickness             768 non-null    int64  \n",
            " 4   Insulin                   768 non-null    int64  \n",
            " 5   BMI                       768 non-null    float64\n",
            " 6   DiabetesPedigreeFunction  768 non-null    float64\n",
            " 7   Age                       768 non-null    int64  \n",
            " 8   Outcome                   768 non-null    int64  \n",
            "dtypes: float64(2), int64(7)\n",
            "memory usage: 54.1 KB\n",
            "df_Info = None\n",
            "np.unique(YR) = [0 1]\n"
          ]
        }
      ],
      "source": [
        "df = pd.read_csv('Datasets/diabetes_UCI.csv')\n",
        "print(df.columns.values)\n",
        "print('df =', df)\n",
        "print('df_Info =', df.info())\n",
        "\n",
        "df = df.reset_index()\n",
        "df.drop(['index'], axis='columns', inplace=True)\n",
        "\n",
        "YRdf = pd.DataFrame(df['Outcome'])\n",
        "YR = np.array(YRdf).ravel()\n",
        "print('np.unique(YR) =', np.unique(YR))\n",
        "\n",
        "Xdf = df.copy()\n",
        "Xdf.drop(['Outcome'], axis='columns', inplace=True)\n",
        "\n",
        "K = int(np.max(YR))\n",
        "X = np.array(Xdf)"
      ]
    },
    {
      "cell_type": "code",
      "execution_count": null,
      "metadata": {
        "id": "es52YS8MZ_xN",
        "outputId": "a5707e76-6830-4e50-a582-6d030df894eb"
      },
      "outputs": [
        {
          "data": {
            "text/plain": [
              "(768, 8)"
            ]
          },
          "execution_count": 4,
          "metadata": {},
          "output_type": "execute_result"
        }
      ],
      "source": [
        "X.shape"
      ]
    },
    {
      "cell_type": "markdown",
      "metadata": {
        "id": "z-N_yaksZ_xQ"
      },
      "source": [
        "**Question 1.1.** Diviser aléatoirement la base de données en une base d'apprentissage et une base de test : \n",
        "\n",
        "- La base d'apprentissage contiendra $n=500$ observations (patients).\n",
        "- La base de test contiendra les observations (patients) restants (soit 268)."
      ]
    },
    {
      "cell_type": "code",
      "execution_count": null,
      "metadata": {
        "id": "GJXcYTjNZ_xR"
      },
      "outputs": [],
      "source": [
        "# RÉPONSE À LA QUESTION 1.1:\n",
        "from sklearn.model_selection import train_test_split\n",
        "\n",
        "X_train, X_test, y_train, y_test = train_test_split(X, YR, test_size=268/X.shape[0])\n"
      ]
    },
    {
      "cell_type": "code",
      "execution_count": null,
      "metadata": {
        "id": "8JB8qUPwZ_xT",
        "outputId": "60bec45a-b98d-4688-991a-075b722d0b28"
      },
      "outputs": [
        {
          "data": {
            "text/plain": [
              "(268, 8)"
            ]
          },
          "execution_count": 8,
          "metadata": {},
          "output_type": "execute_result"
        }
      ],
      "source": [
        "X_test.shape"
      ]
    },
    {
      "cell_type": "code",
      "execution_count": null,
      "metadata": {
        "id": "zdmCuZGtZ_xV"
      },
      "outputs": [],
      "source": []
    },
    {
      "cell_type": "markdown",
      "metadata": {
        "id": "ZzxCNRKZZ_xW"
      },
      "source": [
        "**Question 1.2.** À partir de la base d'apprentissage calibrer un arbre de décision en appliquant la fonction proposée par Scikit-Learn. Pour cette question, nous ne donnerons pas de spécifications concernant la profondeur de l'arbre.\n",
        "\n",
        "- Quelle est le nombre total de feuilles terminales dans l'arbre de décision ?\n",
        "- Quelle est l'accuracy globale sur la base d'apprentissage ?\n",
        "- Quelle est l'accuracy globale sur la base de test ?\n"
      ]
    },
    {
      "cell_type": "code",
      "execution_count": null,
      "metadata": {
        "id": "Y7SfcrhFZ_xX",
        "outputId": "8194d421-262c-47ec-a676-7d93a410346f"
      },
      "outputs": [
        {
          "data": {
            "text/plain": [
              "DecisionTreeClassifier()"
            ]
          },
          "execution_count": 90,
          "metadata": {},
          "output_type": "execute_result"
        }
      ],
      "source": [
        "# RÉPONSE À LA QUESTION 1.2:\n",
        "from sklearn import tree\n",
        "\n",
        "clf = tree.DecisionTreeClassifier()\n",
        "clf.fit(X_train, y_train)\n"
      ]
    },
    {
      "cell_type": "code",
      "execution_count": null,
      "metadata": {
        "id": "Sy2hOD0nZ_xZ",
        "outputId": "bf8100e9-741e-431a-b334-c59744edd8dd"
      },
      "outputs": [
        {
          "data": {
            "text/plain": [
              "12"
            ]
          },
          "execution_count": 11,
          "metadata": {},
          "output_type": "execute_result"
        }
      ],
      "source": [
        "clf.get_depth()"
      ]
    },
    {
      "cell_type": "code",
      "execution_count": null,
      "metadata": {
        "id": "tuL47svNZ_xa",
        "outputId": "db82e316-2f4c-4e88-de38-bc31c5d4c956"
      },
      "outputs": [
        {
          "data": {
            "text/plain": [
              "94"
            ]
          },
          "execution_count": 12,
          "metadata": {},
          "output_type": "execute_result"
        }
      ],
      "source": [
        "clf.get_n_leaves()"
      ]
    },
    {
      "cell_type": "code",
      "execution_count": null,
      "metadata": {
        "id": "EQbclgzoZ_xb",
        "outputId": "7306a77e-a78f-4e41-d479-e3828a1078dd"
      },
      "outputs": [
        {
          "data": {
            "text/plain": [
              "1.0"
            ]
          },
          "execution_count": 13,
          "metadata": {},
          "output_type": "execute_result"
        }
      ],
      "source": [
        "clf.score(X_train, y_train)"
      ]
    },
    {
      "cell_type": "code",
      "execution_count": null,
      "metadata": {
        "id": "T3ifK-v4Z_xc",
        "outputId": "d489c781-eb4f-4cfd-fd79-5febc29760c5"
      },
      "outputs": [
        {
          "data": {
            "text/plain": [
              "0.7350746268656716"
            ]
          },
          "execution_count": 14,
          "metadata": {},
          "output_type": "execute_result"
        }
      ],
      "source": [
        "clf.score(X_test, y_test)"
      ]
    },
    {
      "cell_type": "code",
      "execution_count": null,
      "metadata": {
        "id": "hL8k8zc7Z_xc",
        "outputId": "833ce8cc-1b4a-4f25-e4d9-fd3dfc9cc9ae"
      },
      "outputs": [
        {
          "data": {
            "text/plain": [
              "[Text(151.39237500000002, 209.07692307692307, 'X[1] <= 123.5\\ngini = 0.45\\nsamples = 500\\nvalue = [329, 171]'),\n",
              " Text(68.2155, 192.35076923076923, 'X[7] <= 28.5\\ngini = 0.279\\nsamples = 280\\nvalue = [233, 47]'),\n",
              " Text(29.713500000000003, 175.62461538461537, 'X[5] <= 45.4\\ngini = 0.137\\nsamples = 162\\nvalue = [150, 12]'),\n",
              " Text(26.3655, 158.89846153846153, 'X[5] <= 33.25\\ngini = 0.107\\nsamples = 159\\nvalue = [150, 9]'),\n",
              " Text(6.696000000000001, 142.1723076923077, 'X[3] <= 31.5\\ngini = 0.019\\nsamples = 107\\nvalue = [106, 1]'),\n",
              " Text(3.3480000000000003, 125.44615384615385, 'gini = 0.0\\nsamples = 102\\nvalue = [102, 0]'),\n",
              " Text(10.044, 125.44615384615385, 'X[4] <= 77.0\\ngini = 0.32\\nsamples = 5\\nvalue = [4, 1]'),\n",
              " Text(6.696000000000001, 108.72, 'gini = 0.0\\nsamples = 4\\nvalue = [4, 0]'),\n",
              " Text(13.392000000000001, 108.72, 'gini = 0.0\\nsamples = 1\\nvalue = [0, 1]'),\n",
              " Text(46.035000000000004, 142.1723076923077, 'X[6] <= 0.664\\ngini = 0.26\\nsamples = 52\\nvalue = [44, 8]'),\n",
              " Text(28.458000000000002, 125.44615384615385, 'X[5] <= 33.65\\ngini = 0.165\\nsamples = 44\\nvalue = [40, 4]'),\n",
              " Text(20.088, 108.72, 'X[4] <= 50.0\\ngini = 0.444\\nsamples = 3\\nvalue = [1, 2]'),\n",
              " Text(16.740000000000002, 91.99384615384615, 'gini = 0.0\\nsamples = 2\\nvalue = [0, 2]'),\n",
              " Text(23.436000000000003, 91.99384615384615, 'gini = 0.0\\nsamples = 1\\nvalue = [1, 0]'),\n",
              " Text(36.828, 108.72, 'X[2] <= 53.0\\ngini = 0.093\\nsamples = 41\\nvalue = [39, 2]'),\n",
              " Text(30.132, 91.99384615384615, 'X[0] <= 4.0\\ngini = 0.5\\nsamples = 2\\nvalue = [1, 1]'),\n",
              " Text(26.784000000000002, 75.2676923076923, 'gini = 0.0\\nsamples = 1\\nvalue = [0, 1]'),\n",
              " Text(33.480000000000004, 75.2676923076923, 'gini = 0.0\\nsamples = 1\\nvalue = [1, 0]'),\n",
              " Text(43.524, 91.99384615384615, 'X[2] <= 83.5\\ngini = 0.05\\nsamples = 39\\nvalue = [38, 1]'),\n",
              " Text(40.176, 75.2676923076923, 'gini = 0.0\\nsamples = 34\\nvalue = [34, 0]'),\n",
              " Text(46.87200000000001, 75.2676923076923, 'X[2] <= 85.5\\ngini = 0.32\\nsamples = 5\\nvalue = [4, 1]'),\n",
              " Text(43.524, 58.541538461538465, 'gini = 0.0\\nsamples = 1\\nvalue = [0, 1]'),\n",
              " Text(50.220000000000006, 58.541538461538465, 'gini = 0.0\\nsamples = 4\\nvalue = [4, 0]'),\n",
              " Text(63.61200000000001, 125.44615384615385, 'X[2] <= 78.0\\ngini = 0.5\\nsamples = 8\\nvalue = [4, 4]'),\n",
              " Text(60.264, 108.72, 'X[5] <= 38.55\\ngini = 0.444\\nsamples = 6\\nvalue = [4, 2]'),\n",
              " Text(56.916000000000004, 91.99384615384615, 'X[2] <= 59.0\\ngini = 0.444\\nsamples = 3\\nvalue = [1, 2]'),\n",
              " Text(53.568000000000005, 75.2676923076923, 'gini = 0.0\\nsamples = 1\\nvalue = [1, 0]'),\n",
              " Text(60.264, 75.2676923076923, 'gini = 0.0\\nsamples = 2\\nvalue = [0, 2]'),\n",
              " Text(63.61200000000001, 91.99384615384615, 'gini = 0.0\\nsamples = 3\\nvalue = [3, 0]'),\n",
              " Text(66.96000000000001, 108.72, 'gini = 0.0\\nsamples = 2\\nvalue = [0, 2]'),\n",
              " Text(33.0615, 158.89846153846153, 'gini = 0.0\\nsamples = 3\\nvalue = [0, 3]'),\n",
              " Text(106.71750000000002, 175.62461538461537, 'X[5] <= 26.35\\ngini = 0.417\\nsamples = 118\\nvalue = [83, 35]'),\n",
              " Text(92.07000000000001, 158.89846153846153, 'X[5] <= 9.65\\ngini = 0.077\\nsamples = 25\\nvalue = [24, 1]'),\n",
              " Text(88.72200000000001, 142.1723076923077, 'gini = 0.0\\nsamples = 1\\nvalue = [0, 1]'),\n",
              " Text(95.418, 142.1723076923077, 'gini = 0.0\\nsamples = 24\\nvalue = [24, 0]'),\n",
              " Text(121.36500000000001, 158.89846153846153, 'X[4] <= 140.0\\ngini = 0.464\\nsamples = 93\\nvalue = [59, 34]'),\n",
              " Text(102.114, 142.1723076923077, 'X[0] <= 6.5\\ngini = 0.429\\nsamples = 77\\nvalue = [53, 24]'),\n",
              " Text(83.7, 125.44615384615385, 'X[1] <= 114.5\\ngini = 0.32\\nsamples = 45\\nvalue = [36, 9]'),\n",
              " Text(73.656, 108.72, 'X[1] <= 30.5\\ngini = 0.208\\nsamples = 34\\nvalue = [30, 4]'),\n",
              " Text(70.308, 91.99384615384615, 'gini = 0.0\\nsamples = 1\\nvalue = [0, 1]'),\n",
              " Text(77.004, 91.99384615384615, 'X[7] <= 35.5\\ngini = 0.165\\nsamples = 33\\nvalue = [30, 3]'),\n",
              " Text(73.656, 75.2676923076923, 'gini = 0.0\\nsamples = 18\\nvalue = [18, 0]'),\n",
              " Text(80.352, 75.2676923076923, 'X[6] <= 0.189\\ngini = 0.32\\nsamples = 15\\nvalue = [12, 3]'),\n",
              " Text(77.004, 58.541538461538465, 'gini = 0.0\\nsamples = 1\\nvalue = [0, 1]'),\n",
              " Text(83.7, 58.541538461538465, 'X[6] <= 0.85\\ngini = 0.245\\nsamples = 14\\nvalue = [12, 2]'),\n",
              " Text(80.352, 41.81538461538463, 'X[2] <= 77.0\\ngini = 0.142\\nsamples = 13\\nvalue = [12, 1]'),\n",
              " Text(77.004, 25.089230769230767, 'X[3] <= 26.5\\ngini = 0.444\\nsamples = 3\\nvalue = [2, 1]'),\n",
              " Text(73.656, 8.363076923076932, 'gini = 0.0\\nsamples = 2\\nvalue = [2, 0]'),\n",
              " Text(80.352, 8.363076923076932, 'gini = 0.0\\nsamples = 1\\nvalue = [0, 1]'),\n",
              " Text(83.7, 25.089230769230767, 'gini = 0.0\\nsamples = 10\\nvalue = [10, 0]'),\n",
              " Text(87.048, 41.81538461538463, 'gini = 0.0\\nsamples = 1\\nvalue = [0, 1]'),\n",
              " Text(93.74400000000001, 108.72, 'X[1] <= 116.5\\ngini = 0.496\\nsamples = 11\\nvalue = [6, 5]'),\n",
              " Text(90.39600000000002, 91.99384615384615, 'gini = 0.0\\nsamples = 3\\nvalue = [0, 3]'),\n",
              " Text(97.09200000000001, 91.99384615384615, 'X[2] <= 65.0\\ngini = 0.375\\nsamples = 8\\nvalue = [6, 2]'),\n",
              " Text(93.74400000000001, 75.2676923076923, 'X[5] <= 32.9\\ngini = 0.444\\nsamples = 3\\nvalue = [1, 2]'),\n",
              " Text(90.39600000000002, 58.541538461538465, 'gini = 0.0\\nsamples = 2\\nvalue = [0, 2]'),\n",
              " Text(97.09200000000001, 58.541538461538465, 'gini = 0.0\\nsamples = 1\\nvalue = [1, 0]'),\n",
              " Text(100.44000000000001, 75.2676923076923, 'gini = 0.0\\nsamples = 5\\nvalue = [5, 0]'),\n",
              " Text(120.528, 125.44615384615385, 'X[6] <= 0.796\\ngini = 0.498\\nsamples = 32\\nvalue = [17, 15]'),\n",
              " Text(117.18, 108.72, 'X[1] <= 101.0\\ngini = 0.466\\nsamples = 27\\nvalue = [17, 10]'),\n",
              " Text(110.48400000000001, 91.99384615384615, 'X[5] <= 30.65\\ngini = 0.165\\nsamples = 11\\nvalue = [10, 1]'),\n",
              " Text(107.13600000000001, 75.2676923076923, 'X[5] <= 29.5\\ngini = 0.5\\nsamples = 2\\nvalue = [1, 1]'),\n",
              " Text(103.78800000000001, 58.541538461538465, 'gini = 0.0\\nsamples = 1\\nvalue = [1, 0]'),\n",
              " Text(110.48400000000001, 58.541538461538465, 'gini = 0.0\\nsamples = 1\\nvalue = [0, 1]'),\n",
              " Text(113.83200000000001, 75.2676923076923, 'gini = 0.0\\nsamples = 9\\nvalue = [9, 0]'),\n",
              " Text(123.876, 91.99384615384615, 'X[1] <= 121.0\\ngini = 0.492\\nsamples = 16\\nvalue = [7, 9]'),\n",
              " Text(120.528, 75.2676923076923, 'X[3] <= 39.5\\ngini = 0.426\\nsamples = 13\\nvalue = [4, 9]'),\n",
              " Text(117.18, 58.541538461538465, 'X[2] <= 56.0\\ngini = 0.298\\nsamples = 11\\nvalue = [2, 9]'),\n",
              " Text(113.83200000000001, 41.81538461538463, 'X[1] <= 117.5\\ngini = 0.444\\nsamples = 3\\nvalue = [2, 1]'),\n",
              " Text(110.48400000000001, 25.089230769230767, 'gini = 0.0\\nsamples = 2\\nvalue = [2, 0]'),\n",
              " Text(117.18, 25.089230769230767, 'gini = 0.0\\nsamples = 1\\nvalue = [0, 1]'),\n",
              " Text(120.528, 41.81538461538463, 'gini = 0.0\\nsamples = 8\\nvalue = [0, 8]'),\n",
              " Text(123.876, 58.541538461538465, 'gini = 0.0\\nsamples = 2\\nvalue = [2, 0]'),\n",
              " Text(127.22400000000002, 75.2676923076923, 'gini = 0.0\\nsamples = 3\\nvalue = [3, 0]'),\n",
              " Text(123.876, 108.72, 'gini = 0.0\\nsamples = 5\\nvalue = [0, 5]'),\n",
              " Text(140.616, 142.1723076923077, 'X[5] <= 33.65\\ngini = 0.469\\nsamples = 16\\nvalue = [6, 10]'),\n",
              " Text(133.92000000000002, 125.44615384615385, 'X[5] <= 29.55\\ngini = 0.32\\nsamples = 5\\nvalue = [4, 1]'),\n",
              " Text(130.572, 108.72, 'gini = 0.0\\nsamples = 1\\nvalue = [0, 1]'),\n",
              " Text(137.268, 108.72, 'gini = 0.0\\nsamples = 4\\nvalue = [4, 0]'),\n",
              " Text(147.312, 125.44615384615385, 'X[7] <= 51.5\\ngini = 0.298\\nsamples = 11\\nvalue = [2, 9]'),\n",
              " Text(143.96400000000003, 108.72, 'X[6] <= 0.973\\ngini = 0.18\\nsamples = 10\\nvalue = [1, 9]'),\n",
              " Text(140.616, 91.99384615384615, 'gini = 0.0\\nsamples = 9\\nvalue = [0, 9]'),\n",
              " Text(147.312, 91.99384615384615, 'gini = 0.0\\nsamples = 1\\nvalue = [1, 0]'),\n",
              " Text(150.66000000000003, 108.72, 'gini = 0.0\\nsamples = 1\\nvalue = [1, 0]'),\n",
              " Text(234.56925, 192.35076923076923, 'X[5] <= 29.95\\ngini = 0.492\\nsamples = 220\\nvalue = [96, 124]'),\n",
              " Text(184.977, 175.62461538461537, 'X[7] <= 26.0\\ngini = 0.39\\nsamples = 64\\nvalue = [47, 17]'),\n",
              " Text(181.62900000000002, 158.89846153846153, 'gini = 0.0\\nsamples = 20\\nvalue = [20, 0]'),\n",
              " Text(188.32500000000002, 158.89846153846153, 'X[7] <= 54.5\\ngini = 0.474\\nsamples = 44\\nvalue = [27, 17]'),\n",
              " Text(172.42200000000003, 142.1723076923077, 'X[6] <= 0.214\\ngini = 0.488\\nsamples = 26\\nvalue = [11, 15]'),\n",
              " Text(160.704, 125.44615384615385, 'X[5] <= 29.2\\ngini = 0.245\\nsamples = 7\\nvalue = [6, 1]'),\n",
              " Text(157.35600000000002, 108.72, 'gini = 0.0\\nsamples = 5\\nvalue = [5, 0]'),\n",
              " Text(164.05200000000002, 108.72, 'X[6] <= 0.194\\ngini = 0.5\\nsamples = 2\\nvalue = [1, 1]'),\n",
              " Text(160.704, 91.99384615384615, 'gini = 0.0\\nsamples = 1\\nvalue = [0, 1]'),\n",
              " Text(167.4, 91.99384615384615, 'gini = 0.0\\nsamples = 1\\nvalue = [1, 0]'),\n",
              " Text(184.14000000000001, 125.44615384615385, 'X[2] <= 67.0\\ngini = 0.388\\nsamples = 19\\nvalue = [5, 14]'),\n",
              " Text(177.44400000000002, 108.72, 'X[6] <= 0.263\\ngini = 0.444\\nsamples = 6\\nvalue = [4, 2]'),\n",
              " Text(174.096, 91.99384615384615, 'gini = 0.0\\nsamples = 2\\nvalue = [0, 2]'),\n",
              " Text(180.79200000000003, 91.99384615384615, 'gini = 0.0\\nsamples = 4\\nvalue = [4, 0]'),\n",
              " Text(190.836, 108.72, 'X[3] <= 36.5\\ngini = 0.142\\nsamples = 13\\nvalue = [1, 12]'),\n",
              " Text(187.48800000000003, 91.99384615384615, 'gini = 0.0\\nsamples = 11\\nvalue = [0, 11]'),\n",
              " Text(194.18400000000003, 91.99384615384615, 'X[0] <= 3.0\\ngini = 0.5\\nsamples = 2\\nvalue = [1, 1]'),\n",
              " Text(190.836, 75.2676923076923, 'gini = 0.0\\nsamples = 1\\nvalue = [0, 1]'),\n",
              " Text(197.532, 75.2676923076923, 'gini = 0.0\\nsamples = 1\\nvalue = [1, 0]'),\n",
              " Text(204.228, 142.1723076923077, 'X[6] <= 0.14\\ngini = 0.198\\nsamples = 18\\nvalue = [16, 2]'),\n",
              " Text(200.88000000000002, 125.44615384615385, 'gini = 0.0\\nsamples = 1\\nvalue = [0, 1]'),\n",
              " Text(207.57600000000002, 125.44615384615385, 'X[2] <= 73.0\\ngini = 0.111\\nsamples = 17\\nvalue = [16, 1]'),\n",
              " Text(204.228, 108.72, 'X[1] <= 134.5\\ngini = 0.278\\nsamples = 6\\nvalue = [5, 1]'),\n",
              " Text(200.88000000000002, 91.99384615384615, 'gini = 0.0\\nsamples = 1\\nvalue = [0, 1]'),\n",
              " Text(207.57600000000002, 91.99384615384615, 'gini = 0.0\\nsamples = 5\\nvalue = [5, 0]'),\n",
              " Text(210.924, 108.72, 'gini = 0.0\\nsamples = 11\\nvalue = [11, 0]'),\n",
              " Text(284.16150000000005, 175.62461538461537, 'X[1] <= 154.5\\ngini = 0.431\\nsamples = 156\\nvalue = [49, 107]'),\n",
              " Text(251.10000000000002, 158.89846153846153, 'X[7] <= 32.5\\ngini = 0.495\\nsamples = 89\\nvalue = [40, 49]'),\n",
              " Text(227.66400000000002, 142.1723076923077, 'X[2] <= 54.0\\ngini = 0.488\\nsamples = 45\\nvalue = [26, 19]'),\n",
              " Text(224.31600000000003, 125.44615384615385, 'gini = 0.0\\nsamples = 4\\nvalue = [0, 4]'),\n",
              " Text(231.01200000000003, 125.44615384615385, 'X[6] <= 0.312\\ngini = 0.464\\nsamples = 41\\nvalue = [26, 15]'),\n",
              " Text(217.62000000000003, 108.72, 'X[7] <= 22.5\\ngini = 0.165\\nsamples = 11\\nvalue = [10, 1]'),\n",
              " Text(214.27200000000002, 91.99384615384615, 'X[3] <= 39.0\\ngini = 0.5\\nsamples = 2\\nvalue = [1, 1]'),\n",
              " Text(210.924, 75.2676923076923, 'gini = 0.0\\nsamples = 1\\nvalue = [1, 0]'),\n",
              " Text(217.62000000000003, 75.2676923076923, 'gini = 0.0\\nsamples = 1\\nvalue = [0, 1]'),\n",
              " Text(220.96800000000002, 91.99384615384615, 'gini = 0.0\\nsamples = 9\\nvalue = [9, 0]'),\n",
              " Text(244.40400000000002, 108.72, 'X[2] <= 85.5\\ngini = 0.498\\nsamples = 30\\nvalue = [16, 14]'),\n",
              " Text(234.36, 91.99384615384615, 'X[2] <= 73.0\\ngini = 0.469\\nsamples = 24\\nvalue = [15, 9]'),\n",
              " Text(224.31600000000003, 75.2676923076923, 'X[3] <= 29.0\\ngini = 0.463\\nsamples = 11\\nvalue = [4, 7]'),\n",
              " Text(220.96800000000002, 58.541538461538465, 'gini = 0.0\\nsamples = 5\\nvalue = [0, 5]'),\n",
              " Text(227.66400000000002, 58.541538461538465, 'X[0] <= 0.5\\ngini = 0.444\\nsamples = 6\\nvalue = [4, 2]'),\n",
              " Text(224.31600000000003, 41.81538461538463, 'gini = 0.0\\nsamples = 2\\nvalue = [0, 2]'),\n",
              " Text(231.01200000000003, 41.81538461538463, 'gini = 0.0\\nsamples = 4\\nvalue = [4, 0]'),\n",
              " Text(244.40400000000002, 75.2676923076923, 'X[1] <= 128.5\\ngini = 0.26\\nsamples = 13\\nvalue = [11, 2]'),\n",
              " Text(241.056, 58.541538461538465, 'X[4] <= 198.5\\ngini = 0.444\\nsamples = 3\\nvalue = [1, 2]'),\n",
              " Text(237.70800000000003, 41.81538461538463, 'gini = 0.0\\nsamples = 2\\nvalue = [0, 2]'),\n",
              " Text(244.40400000000002, 41.81538461538463, 'gini = 0.0\\nsamples = 1\\nvalue = [1, 0]'),\n",
              " Text(247.752, 58.541538461538465, 'gini = 0.0\\nsamples = 10\\nvalue = [10, 0]'),\n",
              " Text(254.44800000000004, 91.99384615384615, 'X[1] <= 127.5\\ngini = 0.278\\nsamples = 6\\nvalue = [1, 5]'),\n",
              " Text(251.10000000000002, 75.2676923076923, 'gini = 0.0\\nsamples = 1\\nvalue = [1, 0]'),\n",
              " Text(257.79600000000005, 75.2676923076923, 'gini = 0.0\\nsamples = 5\\nvalue = [0, 5]'),\n",
              " Text(274.536, 142.1723076923077, 'X[1] <= 152.5\\ngini = 0.434\\nsamples = 44\\nvalue = [14, 30]'),\n",
              " Text(271.18800000000005, 125.44615384615385, 'X[5] <= 33.65\\ngini = 0.408\\nsamples = 42\\nvalue = [12, 30]'),\n",
              " Text(267.84000000000003, 108.72, 'gini = 0.0\\nsamples = 9\\nvalue = [0, 9]'),\n",
              " Text(274.536, 108.72, 'X[6] <= 0.319\\ngini = 0.463\\nsamples = 33\\nvalue = [12, 21]'),\n",
              " Text(267.84000000000003, 91.99384615384615, 'X[3] <= 35.0\\ngini = 0.498\\nsamples = 17\\nvalue = [9, 8]'),\n",
              " Text(264.492, 75.2676923076923, 'X[6] <= 0.269\\ngini = 0.48\\nsamples = 15\\nvalue = [9, 6]'),\n",
              " Text(261.144, 58.541538461538465, 'X[2] <= 77.0\\ngini = 0.496\\nsamples = 11\\nvalue = [5, 6]'),\n",
              " Text(254.44800000000004, 41.81538461538463, 'X[4] <= 169.0\\ngini = 0.32\\nsamples = 5\\nvalue = [1, 4]'),\n",
              " Text(251.10000000000002, 25.089230769230767, 'gini = 0.0\\nsamples = 4\\nvalue = [0, 4]'),\n",
              " Text(257.79600000000005, 25.089230769230767, 'gini = 0.0\\nsamples = 1\\nvalue = [1, 0]'),\n",
              " Text(267.84000000000003, 41.81538461538463, 'X[6] <= 0.222\\ngini = 0.444\\nsamples = 6\\nvalue = [4, 2]'),\n",
              " Text(264.492, 25.089230769230767, 'gini = 0.0\\nsamples = 3\\nvalue = [3, 0]'),\n",
              " Text(271.18800000000005, 25.089230769230767, 'X[0] <= 11.5\\ngini = 0.444\\nsamples = 3\\nvalue = [1, 2]'),\n",
              " Text(267.84000000000003, 8.363076923076932, 'gini = 0.0\\nsamples = 2\\nvalue = [0, 2]'),\n",
              " Text(274.536, 8.363076923076932, 'gini = 0.0\\nsamples = 1\\nvalue = [1, 0]'),\n",
              " Text(267.84000000000003, 58.541538461538465, 'gini = 0.0\\nsamples = 4\\nvalue = [4, 0]'),\n",
              " Text(271.18800000000005, 75.2676923076923, 'gini = 0.0\\nsamples = 2\\nvalue = [0, 2]'),\n",
              " Text(281.232, 91.99384615384615, 'X[6] <= 0.674\\ngini = 0.305\\nsamples = 16\\nvalue = [3, 13]'),\n",
              " Text(277.884, 75.2676923076923, 'gini = 0.0\\nsamples = 9\\nvalue = [0, 9]'),\n",
              " Text(284.58000000000004, 75.2676923076923, 'X[5] <= 39.65\\ngini = 0.49\\nsamples = 7\\nvalue = [3, 4]'),\n",
              " Text(281.232, 58.541538461538465, 'X[4] <= 289.5\\ngini = 0.32\\nsamples = 5\\nvalue = [1, 4]'),\n",
              " Text(277.884, 41.81538461538463, 'gini = 0.0\\nsamples = 4\\nvalue = [0, 4]'),\n",
              " Text(284.58000000000004, 41.81538461538463, 'gini = 0.0\\nsamples = 1\\nvalue = [1, 0]'),\n",
              " Text(287.92800000000005, 58.541538461538465, 'gini = 0.0\\nsamples = 2\\nvalue = [2, 0]'),\n",
              " Text(277.884, 125.44615384615385, 'gini = 0.0\\nsamples = 2\\nvalue = [2, 0]'),\n",
              " Text(317.223, 158.89846153846153, 'X[4] <= 629.5\\ngini = 0.233\\nsamples = 67\\nvalue = [9, 58]'),\n",
              " Text(306.34200000000004, 142.1723076923077, 'X[7] <= 44.0\\ngini = 0.195\\nsamples = 64\\nvalue = [7, 57]'),\n",
              " Text(294.624, 125.44615384615385, 'X[6] <= 0.307\\ngini = 0.091\\nsamples = 42\\nvalue = [2, 40]'),\n",
              " Text(291.276, 108.72, 'X[6] <= 0.267\\ngini = 0.298\\nsamples = 11\\nvalue = [2, 9]'),\n",
              " Text(287.92800000000005, 91.99384615384615, 'gini = 0.0\\nsamples = 8\\nvalue = [0, 8]'),\n",
              " Text(294.624, 91.99384615384615, 'X[7] <= 37.5\\ngini = 0.444\\nsamples = 3\\nvalue = [2, 1]'),\n",
              " Text(291.276, 75.2676923076923, 'gini = 0.0\\nsamples = 2\\nvalue = [2, 0]'),\n",
              " Text(297.97200000000004, 75.2676923076923, 'gini = 0.0\\nsamples = 1\\nvalue = [0, 1]'),\n",
              " Text(297.97200000000004, 108.72, 'gini = 0.0\\nsamples = 31\\nvalue = [0, 31]'),\n",
              " Text(318.06, 125.44615384615385, 'X[0] <= 7.5\\ngini = 0.351\\nsamples = 22\\nvalue = [5, 17]'),\n",
              " Text(314.71200000000005, 108.72, 'X[6] <= 1.157\\ngini = 0.473\\nsamples = 13\\nvalue = [5, 8]'),\n",
              " Text(311.36400000000003, 91.99384615384615, 'X[7] <= 50.5\\ngini = 0.397\\nsamples = 11\\nvalue = [3, 8]'),\n",
              " Text(304.668, 75.2676923076923, 'X[1] <= 162.5\\ngini = 0.444\\nsamples = 3\\nvalue = [2, 1]'),\n",
              " Text(301.32000000000005, 58.541538461538465, 'gini = 0.0\\nsamples = 1\\nvalue = [0, 1]'),\n",
              " Text(308.016, 58.541538461538465, 'gini = 0.0\\nsamples = 2\\nvalue = [2, 0]'),\n",
              " Text(318.06, 75.2676923076923, 'X[0] <= 6.0\\ngini = 0.219\\nsamples = 8\\nvalue = [1, 7]'),\n",
              " Text(314.71200000000005, 58.541538461538465, 'gini = 0.0\\nsamples = 6\\nvalue = [0, 6]'),\n",
              " Text(321.408, 58.541538461538465, 'X[2] <= 89.5\\ngini = 0.5\\nsamples = 2\\nvalue = [1, 1]'),\n",
              " Text(318.06, 41.81538461538463, 'gini = 0.0\\nsamples = 1\\nvalue = [0, 1]'),\n",
              " Text(324.75600000000003, 41.81538461538463, 'gini = 0.0\\nsamples = 1\\nvalue = [1, 0]'),\n",
              " Text(318.06, 91.99384615384615, 'gini = 0.0\\nsamples = 2\\nvalue = [2, 0]'),\n",
              " Text(321.408, 108.72, 'gini = 0.0\\nsamples = 9\\nvalue = [0, 9]'),\n",
              " Text(328.10400000000004, 142.1723076923077, 'X[5] <= 33.4\\ngini = 0.444\\nsamples = 3\\nvalue = [2, 1]'),\n",
              " Text(324.75600000000003, 125.44615384615385, 'gini = 0.0\\nsamples = 1\\nvalue = [0, 1]'),\n",
              " Text(331.45200000000006, 125.44615384615385, 'gini = 0.0\\nsamples = 2\\nvalue = [2, 0]')]"
            ]
          },
          "execution_count": 91,
          "metadata": {},
          "output_type": "execute_result"
        },
        {
          "data": {
            "image/png": "[encoded data removed]",
            "text/plain": [
              "<Figure size 432x288 with 1 Axes>"
            ]
          },
          "metadata": {
            "needs_background": "light"
          },
          "output_type": "display_data"
        }
      ],
      "source": [
        "tree.plot_tree(clf)"
      ]
    },
    {
      "cell_type": "markdown",
      "metadata": {
        "id": "Z0OIzwXYZ_xd"
      },
      "source": [
        "**Question 1.3.** À partir de la base d'apprentissage calibrer un arbre de décision en appliquant la fonction proposée par Scikit-Learn. Pour cette question, nous souhaitons obtenir 10 observations minimum par feuille terminale.\n",
        "\n",
        "- Quelle est le nombre total de feuilles terminales dans l'arbre de décision ?\n",
        "- Quelle est l'accuracy globale sur la base d'apprentissage ?\n",
        "- Quelle est l'accuracy globale sur la base de test ?\n",
        "\n",
        "Refaire la même procédure avec 40 puis 100 observations minimum par feuille terminale. Que peut-on constater ?\n"
      ]
    },
    {
      "cell_type": "code",
      "execution_count": null,
      "metadata": {
        "id": "nRG0m_SXZ_xe",
        "outputId": "959cee28-1f97-400a-8b93-1ae2ba691d33"
      },
      "outputs": [
        {
          "data": {
            "text/plain": [
              "DecisionTreeClassifier(min_samples_leaf=10)"
            ]
          },
          "execution_count": 19,
          "metadata": {},
          "output_type": "execute_result"
        }
      ],
      "source": [
        "# RÉPONSE À LA QUESTION 1.3:\n",
        "from sklearn import tree\n",
        "\n",
        "#10 observations minimum par feuille terminale\n",
        "clf = tree.DecisionTreeClassifier(min_samples_leaf=10)\n",
        "clf.fit(X_train, y_train)"
      ]
    },
    {
      "cell_type": "code",
      "execution_count": null,
      "metadata": {
        "id": "eLBgI0FRZ_xf",
        "outputId": "24d9a611-298d-42c7-a83f-1180866a0aa2"
      },
      "outputs": [
        {
          "data": {
            "text/plain": [
              "7"
            ]
          },
          "execution_count": 20,
          "metadata": {},
          "output_type": "execute_result"
        }
      ],
      "source": [
        "clf.get_depth()"
      ]
    },
    {
      "cell_type": "code",
      "execution_count": null,
      "metadata": {
        "id": "Mp7QGRp3Z_xg",
        "outputId": "e88b8d63-c193-4197-b28c-af78345c1e71"
      },
      "outputs": [
        {
          "data": {
            "text/plain": [
              "0.834"
            ]
          },
          "execution_count": 21,
          "metadata": {},
          "output_type": "execute_result"
        }
      ],
      "source": [
        "clf.score(X_train, y_train)"
      ]
    },
    {
      "cell_type": "code",
      "execution_count": null,
      "metadata": {
        "id": "zZ0yQixrZ_xg",
        "outputId": "939d79e5-bab4-4e12-b853-1da36d687fa8"
      },
      "outputs": [
        {
          "data": {
            "text/plain": [
              "0.7947761194029851"
            ]
          },
          "execution_count": 22,
          "metadata": {},
          "output_type": "execute_result"
        }
      ],
      "source": [
        "clf.score(X_test, y_test)"
      ]
    },
    {
      "cell_type": "code",
      "execution_count": null,
      "metadata": {
        "id": "ZCSrrLXfZ_xh",
        "outputId": "59880eeb-d4a9-489a-83a4-48c228443f3b"
      },
      "outputs": [
        {
          "data": {
            "text/plain": [
              "DecisionTreeClassifier(min_samples_leaf=40)"
            ]
          },
          "execution_count": 23,
          "metadata": {},
          "output_type": "execute_result"
        }
      ],
      "source": [
        "from sklearn import tree\n",
        "\n",
        "clf = tree.DecisionTreeClassifier(min_samples_leaf=40)\n",
        "clf.fit(X_train, y_train)"
      ]
    },
    {
      "cell_type": "code",
      "execution_count": null,
      "metadata": {
        "id": "ME2ubkP4Z_xh",
        "outputId": "3ff94d61-dc51-48fb-f76e-cb731547ed98"
      },
      "outputs": [
        {
          "data": {
            "text/plain": [
              "4"
            ]
          },
          "execution_count": 24,
          "metadata": {},
          "output_type": "execute_result"
        }
      ],
      "source": [
        "clf.get_depth()"
      ]
    },
    {
      "cell_type": "code",
      "execution_count": null,
      "metadata": {
        "id": "hgdih4C1Z_xi",
        "outputId": "62c63dad-85ea-4a93-b826-6c023d330c40"
      },
      "outputs": [
        {
          "data": {
            "text/plain": [
              "0.788"
            ]
          },
          "execution_count": 26,
          "metadata": {},
          "output_type": "execute_result"
        }
      ],
      "source": [
        "clf.score(X_train, y_train)"
      ]
    },
    {
      "cell_type": "code",
      "execution_count": null,
      "metadata": {
        "id": "CDuuJZe0Z_xi",
        "outputId": "f5910750-08df-44a0-9765-43fca9b1fa07"
      },
      "outputs": [
        {
          "data": {
            "text/plain": [
              "0.746268656716418"
            ]
          },
          "execution_count": 27,
          "metadata": {},
          "output_type": "execute_result"
        }
      ],
      "source": [
        "clf.score(X_test, y_test)"
      ]
    },
    {
      "cell_type": "code",
      "execution_count": null,
      "metadata": {
        "id": "L9g2k-afZ_xj",
        "outputId": "5fc849d0-d434-40aa-b98b-966064a27b32"
      },
      "outputs": [
        {
          "data": {
            "text/plain": [
              "DecisionTreeClassifier(min_samples_leaf=100)"
            ]
          },
          "execution_count": 29,
          "metadata": {},
          "output_type": "execute_result"
        }
      ],
      "source": [
        "clf = tree.DecisionTreeClassifier(min_samples_leaf=100)\n",
        "clf.fit(X_train, y_train)"
      ]
    },
    {
      "cell_type": "code",
      "execution_count": null,
      "metadata": {
        "id": "TU8V79iVZ_xk",
        "outputId": "84fd7d14-c80e-499a-b3df-98ce15a4493c"
      },
      "outputs": [
        {
          "data": {
            "text/plain": [
              "2"
            ]
          },
          "execution_count": 30,
          "metadata": {},
          "output_type": "execute_result"
        }
      ],
      "source": [
        "clf.get_depth()"
      ]
    },
    {
      "cell_type": "code",
      "execution_count": null,
      "metadata": {
        "id": "ximD2R50Z_xk",
        "outputId": "2a6365b1-c225-4e00-a077-7608a886cbf2"
      },
      "outputs": [
        {
          "data": {
            "text/plain": [
              "0.746"
            ]
          },
          "execution_count": 31,
          "metadata": {},
          "output_type": "execute_result"
        }
      ],
      "source": [
        "clf.score(X_train, y_train)"
      ]
    },
    {
      "cell_type": "code",
      "execution_count": null,
      "metadata": {
        "id": "-vHfhhi6Z_xl",
        "outputId": "ca78fa61-f403-41fe-fc7c-b2775ef91e23"
      },
      "outputs": [
        {
          "data": {
            "text/plain": [
              "0.7388059701492538"
            ]
          },
          "execution_count": 32,
          "metadata": {},
          "output_type": "execute_result"
        }
      ],
      "source": [
        "clf.score(X_test, y_test)"
      ]
    },
    {
      "cell_type": "markdown",
      "metadata": {
        "id": "J8GP6AQWZ_xl"
      },
      "source": [
        "**Question 1.4.** À partir de la base d'apprentissage calibrer un arbre de décision en appliquant la fonction proposée par Scikit-Learn. Pour cette question, nous souhaitons obentenir maximum 30 feuilles terminales dans l'arbre complet.\n",
        "\n",
        "- Quelle est l'accuracy globale sur la base d'apprentissage ?\n",
        "- Quelle est l'accuracy globale sur la base de test ?\n",
        "\n",
        "Refaire la même procédure avec 10 puis 5 feuilles terminales dans l'arbre complet. Que peut-on constater ?\n"
      ]
    },
    {
      "cell_type": "code",
      "execution_count": null,
      "metadata": {
        "id": "tgPFsntAZ_xl",
        "outputId": "75e0b5a8-9aee-473a-a91d-a0109708a449"
      },
      "outputs": [
        {
          "data": {
            "text/plain": [
              "DecisionTreeClassifier(max_leaf_nodes=30)"
            ]
          },
          "execution_count": 34,
          "metadata": {},
          "output_type": "execute_result"
        }
      ],
      "source": [
        "# RÉPONSE À LA QUESTION 1.4:\n",
        "from sklearn import tree\n",
        "\n",
        "clf = tree.DecisionTreeClassifier(max_leaf_nodes=30)\n",
        "clf.fit(X_train, y_train)\n"
      ]
    },
    {
      "cell_type": "code",
      "execution_count": null,
      "metadata": {
        "id": "_vovMwHYZ_xm",
        "outputId": "39adb97b-d795-4d98-cda1-288f24915ae1"
      },
      "outputs": [
        {
          "data": {
            "text/plain": [
              "0.9"
            ]
          },
          "execution_count": 35,
          "metadata": {},
          "output_type": "execute_result"
        }
      ],
      "source": [
        "clf.score(X_train, y_train)"
      ]
    },
    {
      "cell_type": "code",
      "execution_count": null,
      "metadata": {
        "id": "YGLLwu7aZ_xm",
        "outputId": "30c7c675-04fd-4d72-ec7a-90e2a20211e7"
      },
      "outputs": [
        {
          "data": {
            "text/plain": [
              "0.7798507462686567"
            ]
          },
          "execution_count": 36,
          "metadata": {},
          "output_type": "execute_result"
        }
      ],
      "source": [
        "clf.score(X_test, y_test)"
      ]
    },
    {
      "cell_type": "code",
      "execution_count": null,
      "metadata": {
        "id": "SVWU2NNPZ_xn",
        "outputId": "159f37c1-4668-4a69-8feb-9f1b973e8c20"
      },
      "outputs": [
        {
          "data": {
            "text/plain": [
              "DecisionTreeClassifier(max_leaf_nodes=30)"
            ]
          },
          "execution_count": 37,
          "metadata": {},
          "output_type": "execute_result"
        }
      ],
      "source": [
        "# RÉPONSE À LA QUESTION 1.4:\n",
        "from sklearn import tree\n",
        "\n",
        "clf = tree.DecisionTreeClassifier(max_leaf_nodes=10)\n",
        "clf.fit(X_train, y_train)\n"
      ]
    },
    {
      "cell_type": "code",
      "execution_count": null,
      "metadata": {
        "id": "9q-53tohZ_xo",
        "outputId": "029f9661-15bd-4821-afb3-75002a09f734"
      },
      "outputs": [
        {
          "data": {
            "text/plain": [
              "0.896"
            ]
          },
          "execution_count": 38,
          "metadata": {},
          "output_type": "execute_result"
        }
      ],
      "source": [
        "clf.score(X_train, y_train)"
      ]
    },
    {
      "cell_type": "code",
      "execution_count": null,
      "metadata": {
        "id": "igy2BhHRZ_xo",
        "outputId": "e4acaf20-0160-407f-fdc2-f9a77c4272d6"
      },
      "outputs": [
        {
          "data": {
            "text/plain": [
              "0.7723880597014925"
            ]
          },
          "execution_count": 39,
          "metadata": {},
          "output_type": "execute_result"
        }
      ],
      "source": [
        "clf.score(X_test, y_test)"
      ]
    },
    {
      "cell_type": "code",
      "execution_count": null,
      "metadata": {
        "id": "GsPMk-qTZ_xp",
        "outputId": "98ca22e7-2167-41bc-a01d-eaa6dfb491af"
      },
      "outputs": [
        {
          "data": {
            "text/plain": [
              "DecisionTreeClassifier(max_leaf_nodes=5)"
            ]
          },
          "execution_count": 41,
          "metadata": {},
          "output_type": "execute_result"
        }
      ],
      "source": [
        "# RÉPONSE À LA QUESTION 1.4:\n",
        "from sklearn import tree\n",
        "\n",
        "\n",
        "clf = tree.DecisionTreeClassifier(max_leaf_nodes=5)\n",
        "clf.fit(X_train, y_train)\n"
      ]
    },
    {
      "cell_type": "code",
      "execution_count": null,
      "metadata": {
        "id": "kZH0HKQSZ_xp",
        "outputId": "cf954fd2-a3f1-47f3-acd9-ea6261776fbc"
      },
      "outputs": [
        {
          "data": {
            "text/plain": [
              "0.774"
            ]
          },
          "execution_count": 42,
          "metadata": {},
          "output_type": "execute_result"
        }
      ],
      "source": [
        "clf.score(X_train, y_train)"
      ]
    },
    {
      "cell_type": "code",
      "execution_count": null,
      "metadata": {
        "id": "_QcQh27DZ_xq",
        "outputId": "c14fc4ed-c476-4187-a295-20e48a91a407"
      },
      "outputs": [
        {
          "data": {
            "text/plain": [
              "0.746268656716418"
            ]
          },
          "execution_count": 43,
          "metadata": {},
          "output_type": "execute_result"
        }
      ],
      "source": [
        "clf.score(X_test, y_test)"
      ]
    },
    {
      "cell_type": "markdown",
      "metadata": {
        "id": "x7S4KvjFZ_xq"
      },
      "source": [
        "**Question 1.5.** Dans cette question nous souhaitons élaguer l'arbre de sorte qu'il se généralise bien sur la base de validation. Pour cela nous souhaitons nous référer au Coût-Complexité. En regardant les tutoriels proposés par Scikit-Learn, proposer un code permettant de réaliser cet objectif.\n"
      ]
    },
    {
      "cell_type": "code",
      "execution_count": null,
      "metadata": {
        "id": "iOpwUxhPZ_xr"
      },
      "outputs": [],
      "source": [
        "# RÉPONSE À LA QUESTION 1.5:\n",
        "from sklearn import tree\n",
        "\n",
        "\n",
        "#10 observations minimum par feuille terminale\n",
        "clf = tree.DecisionTreeClassifier()\n",
        "path = clf.cost_complexity_pruning_path(X_train, y_train)\n",
        "ccp_alphas, impurities = path.ccp_alphas, path.impurities"
      ]
    },
    {
      "cell_type": "code",
      "execution_count": null,
      "metadata": {
        "id": "EZZKGlm9Z_xr"
      },
      "outputs": [],
      "source": []
    },
    {
      "cell_type": "code",
      "execution_count": null,
      "metadata": {
        "id": "AwCWGm13Z_xr",
        "outputId": "2bd21479-30ec-4f06-b694-44c73f791e37"
      },
      "outputs": [
        {
          "data": {
            "text/plain": [
              "[Text(149.85992647058825, 209.6742857142857, 'X[1] <= 123.5\\ngini = 0.45\\nsamples = 500\\nvalue = [329, 171]'),\n",
              " Text(66.8779411764706, 194.14285714285714, 'X[7] <= 28.5\\ngini = 0.279\\nsamples = 280\\nvalue = [233, 47]'),\n",
              " Text(29.13088235294118, 178.61142857142858, 'X[5] <= 45.4\\ngini = 0.137\\nsamples = 162\\nvalue = [150, 12]'),\n",
              " Text(25.84852941176471, 163.07999999999998, 'X[5] <= 33.25\\ngini = 0.107\\nsamples = 159\\nvalue = [150, 9]'),\n",
              " Text(6.564705882352942, 147.54857142857142, 'X[3] <= 31.5\\ngini = 0.019\\nsamples = 107\\nvalue = [106, 1]'),\n",
              " Text(3.282352941176471, 132.01714285714286, 'gini = 0.0\\nsamples = 102\\nvalue = [102, 0]'),\n",
              " Text(9.847058823529412, 132.01714285714286, 'X[4] <= 77.0\\ngini = 0.32\\nsamples = 5\\nvalue = [4, 1]'),\n",
              " Text(6.564705882352942, 116.48571428571428, 'gini = 0.0\\nsamples = 4\\nvalue = [4, 0]'),\n",
              " Text(13.129411764705884, 116.48571428571428, 'gini = 0.0\\nsamples = 1\\nvalue = [0, 1]'),\n",
              " Text(45.13235294117648, 147.54857142857142, 'X[6] <= 0.664\\ngini = 0.26\\nsamples = 52\\nvalue = [44, 8]'),\n",
              " Text(27.900000000000002, 132.01714285714286, 'X[5] <= 33.65\\ngini = 0.165\\nsamples = 44\\nvalue = [40, 4]'),\n",
              " Text(19.694117647058825, 116.48571428571428, 'X[1] <= 110.0\\ngini = 0.444\\nsamples = 3\\nvalue = [1, 2]'),\n",
              " Text(16.411764705882355, 100.9542857142857, 'gini = 0.0\\nsamples = 1\\nvalue = [1, 0]'),\n",
              " Text(22.976470588235298, 100.9542857142857, 'gini = 0.0\\nsamples = 2\\nvalue = [0, 2]'),\n",
              " Text(36.10588235294118, 116.48571428571428, 'X[6] <= 0.135\\ngini = 0.093\\nsamples = 41\\nvalue = [39, 2]'),\n",
              " Text(29.541176470588237, 100.9542857142857, 'X[1] <= 104.0\\ngini = 0.5\\nsamples = 2\\nvalue = [1, 1]'),\n",
              " Text(26.258823529411767, 85.42285714285714, 'gini = 0.0\\nsamples = 1\\nvalue = [1, 0]'),\n",
              " Text(32.82352941176471, 85.42285714285714, 'gini = 0.0\\nsamples = 1\\nvalue = [0, 1]'),\n",
              " Text(42.67058823529412, 100.9542857142857, 'X[2] <= 83.5\\ngini = 0.05\\nsamples = 39\\nvalue = [38, 1]'),\n",
              " Text(39.38823529411765, 85.42285714285714, 'gini = 0.0\\nsamples = 34\\nvalue = [34, 0]'),\n",
              " Text(45.952941176470596, 85.42285714285714, 'X[4] <= 38.0\\ngini = 0.32\\nsamples = 5\\nvalue = [4, 1]'),\n",
              " Text(42.67058823529412, 69.89142857142858, 'gini = 0.0\\nsamples = 1\\nvalue = [0, 1]'),\n",
              " Text(49.235294117647065, 69.89142857142858, 'gini = 0.0\\nsamples = 4\\nvalue = [4, 0]'),\n",
              " Text(62.36470588235295, 132.01714285714286, 'X[2] <= 78.0\\ngini = 0.5\\nsamples = 8\\nvalue = [4, 4]'),\n",
              " Text(59.082352941176474, 116.48571428571428, 'X[5] <= 38.55\\ngini = 0.444\\nsamples = 6\\nvalue = [4, 2]'),\n",
              " Text(55.800000000000004, 100.9542857142857, 'X[2] <= 59.0\\ngini = 0.444\\nsamples = 3\\nvalue = [1, 2]'),\n",
              " Text(52.517647058823535, 85.42285714285714, 'gini = 0.0\\nsamples = 1\\nvalue = [1, 0]'),\n",
              " Text(59.082352941176474, 85.42285714285714, 'gini = 0.0\\nsamples = 2\\nvalue = [0, 2]'),\n",
              " Text(62.36470588235295, 100.9542857142857, 'gini = 0.0\\nsamples = 3\\nvalue = [3, 0]'),\n",
              " Text(65.64705882352942, 116.48571428571428, 'gini = 0.0\\nsamples = 2\\nvalue = [0, 2]'),\n",
              " Text(32.41323529411765, 163.07999999999998, 'gini = 0.0\\nsamples = 3\\nvalue = [0, 3]'),\n",
              " Text(104.62500000000001, 178.61142857142858, 'X[5] <= 26.35\\ngini = 0.417\\nsamples = 118\\nvalue = [83, 35]'),\n",
              " Text(90.26470588235296, 163.07999999999998, 'X[5] <= 9.65\\ngini = 0.077\\nsamples = 25\\nvalue = [24, 1]'),\n",
              " Text(86.98235294117647, 147.54857142857142, 'gini = 0.0\\nsamples = 1\\nvalue = [0, 1]'),\n",
              " Text(93.54705882352943, 147.54857142857142, 'gini = 0.0\\nsamples = 24\\nvalue = [24, 0]'),\n",
              " Text(118.98529411764707, 163.07999999999998, 'X[4] <= 140.0\\ngini = 0.464\\nsamples = 93\\nvalue = [59, 34]'),\n",
              " Text(100.11176470588236, 147.54857142857142, 'X[0] <= 6.5\\ngini = 0.429\\nsamples = 77\\nvalue = [53, 24]'),\n",
              " Text(82.05882352941177, 132.01714285714286, 'X[1] <= 114.5\\ngini = 0.32\\nsamples = 45\\nvalue = [36, 9]'),\n",
              " Text(72.21176470588236, 116.48571428571428, 'X[1] <= 30.5\\ngini = 0.208\\nsamples = 34\\nvalue = [30, 4]'),\n",
              " Text(68.92941176470589, 100.9542857142857, 'gini = 0.0\\nsamples = 1\\nvalue = [0, 1]'),\n",
              " Text(75.49411764705883, 100.9542857142857, 'X[7] <= 35.5\\ngini = 0.165\\nsamples = 33\\nvalue = [30, 3]'),\n",
              " Text(72.21176470588236, 85.42285714285714, 'gini = 0.0\\nsamples = 18\\nvalue = [18, 0]'),\n",
              " Text(78.7764705882353, 85.42285714285714, 'X[6] <= 0.189\\ngini = 0.32\\nsamples = 15\\nvalue = [12, 3]'),\n",
              " Text(75.49411764705883, 69.89142857142858, 'gini = 0.0\\nsamples = 1\\nvalue = [0, 1]'),\n",
              " Text(82.05882352941177, 69.89142857142858, 'X[6] <= 0.85\\ngini = 0.245\\nsamples = 14\\nvalue = [12, 2]'),\n",
              " Text(78.7764705882353, 54.359999999999985, 'X[2] <= 77.0\\ngini = 0.142\\nsamples = 13\\nvalue = [12, 1]'),\n",
              " Text(75.49411764705883, 38.82857142857142, 'X[2] <= 75.5\\ngini = 0.444\\nsamples = 3\\nvalue = [2, 1]'),\n",
              " Text(72.21176470588236, 23.29714285714286, 'gini = 0.0\\nsamples = 2\\nvalue = [2, 0]'),\n",
              " Text(78.7764705882353, 23.29714285714286, 'gini = 0.0\\nsamples = 1\\nvalue = [0, 1]'),\n",
              " Text(82.05882352941177, 38.82857142857142, 'gini = 0.0\\nsamples = 10\\nvalue = [10, 0]'),\n",
              " Text(85.34117647058824, 54.359999999999985, 'gini = 0.0\\nsamples = 1\\nvalue = [0, 1]'),\n",
              " Text(91.90588235294119, 116.48571428571428, 'X[1] <= 116.5\\ngini = 0.496\\nsamples = 11\\nvalue = [6, 5]'),\n",
              " Text(88.62352941176472, 100.9542857142857, 'gini = 0.0\\nsamples = 3\\nvalue = [0, 3]'),\n",
              " Text(95.18823529411766, 100.9542857142857, 'X[2] <= 65.0\\ngini = 0.375\\nsamples = 8\\nvalue = [6, 2]'),\n",
              " Text(91.90588235294119, 85.42285714285714, 'X[2] <= 31.0\\ngini = 0.444\\nsamples = 3\\nvalue = [1, 2]'),\n",
              " Text(88.62352941176472, 69.89142857142858, 'gini = 0.0\\nsamples = 1\\nvalue = [1, 0]'),\n",
              " Text(95.18823529411766, 69.89142857142858, 'gini = 0.0\\nsamples = 2\\nvalue = [0, 2]'),\n",
              " Text(98.47058823529413, 85.42285714285714, 'gini = 0.0\\nsamples = 5\\nvalue = [5, 0]'),\n",
              " Text(118.16470588235295, 132.01714285714286, 'X[6] <= 0.796\\ngini = 0.498\\nsamples = 32\\nvalue = [17, 15]'),\n",
              " Text(114.88235294117648, 116.48571428571428, 'X[1] <= 101.0\\ngini = 0.466\\nsamples = 27\\nvalue = [17, 10]'),\n",
              " Text(108.31764705882354, 100.9542857142857, 'X[5] <= 30.65\\ngini = 0.165\\nsamples = 11\\nvalue = [10, 1]'),\n",
              " Text(105.03529411764707, 85.42285714285714, 'X[1] <= 83.5\\ngini = 0.5\\nsamples = 2\\nvalue = [1, 1]'),\n",
              " Text(101.7529411764706, 69.89142857142858, 'gini = 0.0\\nsamples = 1\\nvalue = [1, 0]'),\n",
              " Text(108.31764705882354, 69.89142857142858, 'gini = 0.0\\nsamples = 1\\nvalue = [0, 1]'),\n",
              " Text(111.60000000000001, 85.42285714285714, 'gini = 0.0\\nsamples = 9\\nvalue = [9, 0]'),\n",
              " Text(121.44705882352942, 100.9542857142857, 'X[1] <= 121.0\\ngini = 0.492\\nsamples = 16\\nvalue = [7, 9]'),\n",
              " Text(118.16470588235295, 85.42285714285714, 'X[6] <= 0.138\\ngini = 0.426\\nsamples = 13\\nvalue = [4, 9]'),\n",
              " Text(114.88235294117648, 69.89142857142858, 'gini = 0.0\\nsamples = 2\\nvalue = [2, 0]'),\n",
              " Text(121.44705882352942, 69.89142857142858, 'X[3] <= 39.5\\ngini = 0.298\\nsamples = 11\\nvalue = [2, 9]'),\n",
              " Text(118.16470588235295, 54.359999999999985, 'X[2] <= 56.0\\ngini = 0.18\\nsamples = 10\\nvalue = [1, 9]'),\n",
              " Text(114.88235294117648, 38.82857142857142, 'X[5] <= 30.6\\ngini = 0.5\\nsamples = 2\\nvalue = [1, 1]'),\n",
              " Text(111.60000000000001, 23.29714285714286, 'gini = 0.0\\nsamples = 1\\nvalue = [0, 1]'),\n",
              " Text(118.16470588235295, 23.29714285714286, 'gini = 0.0\\nsamples = 1\\nvalue = [1, 0]'),\n",
              " Text(121.44705882352942, 38.82857142857142, 'gini = 0.0\\nsamples = 8\\nvalue = [0, 8]'),\n",
              " Text(124.7294117647059, 54.359999999999985, 'gini = 0.0\\nsamples = 1\\nvalue = [1, 0]'),\n",
              " Text(124.7294117647059, 85.42285714285714, 'gini = 0.0\\nsamples = 3\\nvalue = [3, 0]'),\n",
              " Text(121.44705882352942, 116.48571428571428, 'gini = 0.0\\nsamples = 5\\nvalue = [0, 5]'),\n",
              " Text(137.85882352941178, 147.54857142857142, 'X[5] <= 33.65\\ngini = 0.469\\nsamples = 16\\nvalue = [6, 10]'),\n",
              " Text(131.29411764705884, 132.01714285714286, 'X[5] <= 29.55\\ngini = 0.32\\nsamples = 5\\nvalue = [4, 1]'),\n",
              " Text(128.01176470588237, 116.48571428571428, 'gini = 0.0\\nsamples = 1\\nvalue = [0, 1]'),\n",
              " Text(134.5764705882353, 116.48571428571428, 'gini = 0.0\\nsamples = 4\\nvalue = [4, 0]'),\n",
              " Text(144.42352941176472, 132.01714285714286, 'X[6] <= 0.973\\ngini = 0.298\\nsamples = 11\\nvalue = [2, 9]'),\n",
              " Text(141.14117647058825, 116.48571428571428, 'X[7] <= 51.5\\ngini = 0.18\\nsamples = 10\\nvalue = [1, 9]'),\n",
              " Text(137.85882352941178, 100.9542857142857, 'gini = 0.0\\nsamples = 9\\nvalue = [0, 9]'),\n",
              " Text(144.42352941176472, 100.9542857142857, 'gini = 0.0\\nsamples = 1\\nvalue = [1, 0]'),\n",
              " Text(147.7058823529412, 116.48571428571428, 'gini = 0.0\\nsamples = 1\\nvalue = [1, 0]'),\n",
              " Text(232.8419117647059, 194.14285714285714, 'X[5] <= 29.95\\ngini = 0.492\\nsamples = 220\\nvalue = [96, 124]'),\n",
              " Text(181.35000000000002, 178.61142857142858, 'X[7] <= 26.0\\ngini = 0.39\\nsamples = 64\\nvalue = [47, 17]'),\n",
              " Text(178.06764705882355, 163.07999999999998, 'gini = 0.0\\nsamples = 20\\nvalue = [20, 0]'),\n",
              " Text(184.6323529411765, 163.07999999999998, 'X[7] <= 54.5\\ngini = 0.474\\nsamples = 44\\nvalue = [27, 17]'),\n",
              " Text(169.04117647058825, 147.54857142857142, 'X[6] <= 0.214\\ngini = 0.488\\nsamples = 26\\nvalue = [11, 15]'),\n",
              " Text(157.5529411764706, 132.01714285714286, 'X[5] <= 29.2\\ngini = 0.245\\nsamples = 7\\nvalue = [6, 1]'),\n",
              " Text(154.27058823529413, 116.48571428571428, 'gini = 0.0\\nsamples = 5\\nvalue = [5, 0]'),\n",
              " Text(160.83529411764707, 116.48571428571428, 'X[2] <= 85.0\\ngini = 0.5\\nsamples = 2\\nvalue = [1, 1]'),\n",
              " Text(157.5529411764706, 100.9542857142857, 'gini = 0.0\\nsamples = 1\\nvalue = [0, 1]'),\n",
              " Text(164.11764705882354, 100.9542857142857, 'gini = 0.0\\nsamples = 1\\nvalue = [1, 0]'),\n",
              " Text(180.5294117647059, 132.01714285714286, 'X[2] <= 67.0\\ngini = 0.388\\nsamples = 19\\nvalue = [5, 14]'),\n",
              " Text(173.96470588235294, 116.48571428571428, 'X[6] <= 0.263\\ngini = 0.444\\nsamples = 6\\nvalue = [4, 2]'),\n",
              " Text(170.68235294117648, 100.9542857142857, 'gini = 0.0\\nsamples = 2\\nvalue = [0, 2]'),\n",
              " Text(177.24705882352944, 100.9542857142857, 'gini = 0.0\\nsamples = 4\\nvalue = [4, 0]'),\n",
              " Text(187.09411764705885, 116.48571428571428, 'X[3] <= 36.5\\ngini = 0.142\\nsamples = 13\\nvalue = [1, 12]'),\n",
              " Text(183.81176470588238, 100.9542857142857, 'gini = 0.0\\nsamples = 11\\nvalue = [0, 11]'),\n",
              " Text(190.37647058823532, 100.9542857142857, 'X[5] <= 28.85\\ngini = 0.5\\nsamples = 2\\nvalue = [1, 1]'),\n",
              " Text(187.09411764705885, 85.42285714285714, 'gini = 0.0\\nsamples = 1\\nvalue = [0, 1]'),\n",
              " Text(193.6588235294118, 85.42285714285714, 'gini = 0.0\\nsamples = 1\\nvalue = [1, 0]'),\n",
              " Text(200.22352941176473, 147.54857142857142, 'X[6] <= 0.14\\ngini = 0.198\\nsamples = 18\\nvalue = [16, 2]'),\n",
              " Text(196.94117647058826, 132.01714285714286, 'gini = 0.0\\nsamples = 1\\nvalue = [0, 1]'),\n",
              " Text(203.5058823529412, 132.01714285714286, 'X[1] <= 134.5\\ngini = 0.111\\nsamples = 17\\nvalue = [16, 1]'),\n",
              " Text(200.22352941176473, 116.48571428571428, 'X[2] <= 73.0\\ngini = 0.278\\nsamples = 6\\nvalue = [5, 1]'),\n",
              " Text(196.94117647058826, 100.9542857142857, 'gini = 0.0\\nsamples = 1\\nvalue = [0, 1]'),\n",
              " Text(203.5058823529412, 100.9542857142857, 'gini = 0.0\\nsamples = 5\\nvalue = [5, 0]'),\n",
              " Text(206.78823529411767, 116.48571428571428, 'gini = 0.0\\nsamples = 11\\nvalue = [11, 0]'),\n",
              " Text(284.3338235294118, 178.61142857142858, 'X[1] <= 154.5\\ngini = 0.431\\nsamples = 156\\nvalue = [49, 107]'),\n",
              " Text(251.10000000000002, 163.07999999999998, 'X[7] <= 32.5\\ngini = 0.495\\nsamples = 89\\nvalue = [40, 49]'),\n",
              " Text(226.4823529411765, 147.54857142857142, 'X[2] <= 54.0\\ngini = 0.488\\nsamples = 45\\nvalue = [26, 19]'),\n",
              " Text(223.20000000000002, 132.01714285714286, 'gini = 0.0\\nsamples = 4\\nvalue = [0, 4]'),\n",
              " Text(229.76470588235296, 132.01714285714286, 'X[6] <= 0.312\\ngini = 0.464\\nsamples = 41\\nvalue = [26, 15]'),\n",
              " Text(213.3529411764706, 116.48571428571428, 'X[3] <= 39.5\\ngini = 0.165\\nsamples = 11\\nvalue = [10, 1]'),\n",
              " Text(210.07058823529414, 100.9542857142857, 'gini = 0.0\\nsamples = 9\\nvalue = [9, 0]'),\n",
              " Text(216.63529411764708, 100.9542857142857, 'X[5] <= 37.45\\ngini = 0.5\\nsamples = 2\\nvalue = [1, 1]'),\n",
              " Text(213.3529411764706, 85.42285714285714, 'gini = 0.0\\nsamples = 1\\nvalue = [0, 1]'),\n",
              " Text(219.91764705882355, 85.42285714285714, 'gini = 0.0\\nsamples = 1\\nvalue = [1, 0]'),\n",
              " Text(246.17647058823533, 116.48571428571428, 'X[2] <= 85.5\\ngini = 0.498\\nsamples = 30\\nvalue = [16, 14]'),\n",
              " Text(236.3294117647059, 100.9542857142857, 'X[2] <= 73.0\\ngini = 0.469\\nsamples = 24\\nvalue = [15, 9]'),\n",
              " Text(226.4823529411765, 85.42285714285714, 'X[3] <= 29.0\\ngini = 0.463\\nsamples = 11\\nvalue = [4, 7]'),\n",
              " Text(223.20000000000002, 69.89142857142858, 'gini = 0.0\\nsamples = 5\\nvalue = [0, 5]'),\n",
              " Text(229.76470588235296, 69.89142857142858, 'X[0] <= 0.5\\ngini = 0.444\\nsamples = 6\\nvalue = [4, 2]'),\n",
              " Text(226.4823529411765, 54.359999999999985, 'gini = 0.0\\nsamples = 2\\nvalue = [0, 2]'),\n",
              " Text(233.04705882352943, 54.359999999999985, 'gini = 0.0\\nsamples = 4\\nvalue = [4, 0]'),\n",
              " Text(246.17647058823533, 85.42285714285714, 'X[1] <= 128.5\\ngini = 0.26\\nsamples = 13\\nvalue = [11, 2]'),\n",
              " Text(242.89411764705883, 69.89142857142858, 'X[5] <= 31.5\\ngini = 0.444\\nsamples = 3\\nvalue = [1, 2]'),\n",
              " Text(239.61176470588236, 54.359999999999985, 'gini = 0.0\\nsamples = 1\\nvalue = [1, 0]'),\n",
              " Text(246.17647058823533, 54.359999999999985, 'gini = 0.0\\nsamples = 2\\nvalue = [0, 2]'),\n",
              " Text(249.4588235294118, 69.89142857142858, 'gini = 0.0\\nsamples = 10\\nvalue = [10, 0]'),\n",
              " Text(256.02352941176474, 100.9542857142857, 'X[4] <= 182.5\\ngini = 0.278\\nsamples = 6\\nvalue = [1, 5]'),\n",
              " Text(252.74117647058827, 85.42285714285714, 'gini = 0.0\\nsamples = 5\\nvalue = [0, 5]'),\n",
              " Text(259.3058823529412, 85.42285714285714, 'gini = 0.0\\nsamples = 1\\nvalue = [1, 0]'),\n",
              " Text(275.71764705882356, 147.54857142857142, 'X[1] <= 152.5\\ngini = 0.434\\nsamples = 44\\nvalue = [14, 30]'),\n",
              " Text(272.43529411764706, 132.01714285714286, 'X[5] <= 33.65\\ngini = 0.408\\nsamples = 42\\nvalue = [12, 30]'),\n",
              " Text(269.1529411764706, 116.48571428571428, 'gini = 0.0\\nsamples = 9\\nvalue = [0, 9]'),\n",
              " Text(275.71764705882356, 116.48571428571428, 'X[6] <= 0.319\\ngini = 0.463\\nsamples = 33\\nvalue = [12, 21]'),\n",
              " Text(269.1529411764706, 100.9542857142857, 'X[6] <= 0.171\\ngini = 0.498\\nsamples = 17\\nvalue = [9, 8]'),\n",
              " Text(265.8705882352941, 85.42285714285714, 'gini = 0.0\\nsamples = 2\\nvalue = [0, 2]'),\n",
              " Text(272.43529411764706, 85.42285714285714, 'X[3] <= 35.0\\ngini = 0.48\\nsamples = 15\\nvalue = [9, 6]'),\n",
              " Text(269.1529411764706, 69.89142857142858, 'X[6] <= 0.269\\ngini = 0.426\\nsamples = 13\\nvalue = [9, 4]'),\n",
              " Text(265.8705882352941, 54.359999999999985, 'X[6] <= 0.219\\ngini = 0.494\\nsamples = 9\\nvalue = [5, 4]'),\n",
              " Text(262.5882352941177, 38.82857142857142, 'gini = 0.0\\nsamples = 3\\nvalue = [3, 0]'),\n",
              " Text(269.1529411764706, 38.82857142857142, 'X[3] <= 13.5\\ngini = 0.444\\nsamples = 6\\nvalue = [2, 4]'),\n",
              " Text(265.8705882352941, 23.29714285714286, 'gini = 0.0\\nsamples = 3\\nvalue = [0, 3]'),\n",
              " Text(272.43529411764706, 23.29714285714286, 'X[2] <= 89.5\\ngini = 0.444\\nsamples = 3\\nvalue = [2, 1]'),\n",
              " Text(269.1529411764706, 7.765714285714267, 'gini = 0.0\\nsamples = 2\\nvalue = [2, 0]'),\n",
              " Text(275.71764705882356, 7.765714285714267, 'gini = 0.0\\nsamples = 1\\nvalue = [0, 1]'),\n",
              " Text(272.43529411764706, 54.359999999999985, 'gini = 0.0\\nsamples = 4\\nvalue = [4, 0]'),\n",
              " Text(275.71764705882356, 69.89142857142858, 'gini = 0.0\\nsamples = 2\\nvalue = [0, 2]'),\n",
              " Text(282.2823529411765, 100.9542857142857, 'X[6] <= 0.674\\ngini = 0.305\\nsamples = 16\\nvalue = [3, 13]'),\n",
              " Text(279.0, 85.42285714285714, 'gini = 0.0\\nsamples = 9\\nvalue = [0, 9]'),\n",
              " Text(285.564705882353, 85.42285714285714, 'X[5] <= 39.65\\ngini = 0.49\\nsamples = 7\\nvalue = [3, 4]'),\n",
              " Text(282.2823529411765, 69.89142857142858, 'X[4] <= 289.5\\ngini = 0.32\\nsamples = 5\\nvalue = [1, 4]'),\n",
              " Text(279.0, 54.359999999999985, 'gini = 0.0\\nsamples = 4\\nvalue = [0, 4]'),\n",
              " Text(285.564705882353, 54.359999999999985, 'gini = 0.0\\nsamples = 1\\nvalue = [1, 0]'),\n",
              " Text(288.84705882352944, 69.89142857142858, 'gini = 0.0\\nsamples = 2\\nvalue = [2, 0]'),\n",
              " Text(279.0, 132.01714285714286, 'gini = 0.0\\nsamples = 2\\nvalue = [2, 0]'),\n",
              " Text(317.5676470588236, 163.07999999999998, 'X[4] <= 629.5\\ngini = 0.233\\nsamples = 67\\nvalue = [9, 58]'),\n",
              " Text(306.90000000000003, 147.54857142857142, 'X[7] <= 44.0\\ngini = 0.195\\nsamples = 64\\nvalue = [7, 57]'),\n",
              " Text(295.4117647058824, 132.01714285714286, 'X[6] <= 0.307\\ngini = 0.091\\nsamples = 42\\nvalue = [2, 40]'),\n",
              " Text(292.12941176470594, 116.48571428571428, 'X[6] <= 0.267\\ngini = 0.298\\nsamples = 11\\nvalue = [2, 9]'),\n",
              " Text(288.84705882352944, 100.9542857142857, 'gini = 0.0\\nsamples = 8\\nvalue = [0, 8]'),\n",
              " Text(295.4117647058824, 100.9542857142857, 'X[7] <= 37.5\\ngini = 0.444\\nsamples = 3\\nvalue = [2, 1]'),\n",
              " Text(292.12941176470594, 85.42285714285714, 'gini = 0.0\\nsamples = 2\\nvalue = [2, 0]'),\n",
              " Text(298.6941176470589, 85.42285714285714, 'gini = 0.0\\nsamples = 1\\nvalue = [0, 1]'),\n",
              " Text(298.6941176470589, 116.48571428571428, 'gini = 0.0\\nsamples = 31\\nvalue = [0, 31]'),\n",
              " Text(318.3882352941177, 132.01714285714286, 'X[0] <= 7.5\\ngini = 0.351\\nsamples = 22\\nvalue = [5, 17]'),\n",
              " Text(315.1058823529412, 116.48571428571428, 'X[5] <= 39.25\\ngini = 0.473\\nsamples = 13\\nvalue = [5, 8]'),\n",
              " Text(311.82352941176475, 100.9542857142857, 'X[7] <= 50.5\\ngini = 0.397\\nsamples = 11\\nvalue = [3, 8]'),\n",
              " Text(305.2588235294118, 85.42285714285714, 'X[1] <= 162.5\\ngini = 0.444\\nsamples = 3\\nvalue = [2, 1]'),\n",
              " Text(301.9764705882353, 69.89142857142858, 'gini = 0.0\\nsamples = 1\\nvalue = [0, 1]'),\n",
              " Text(308.54117647058825, 69.89142857142858, 'gini = 0.0\\nsamples = 2\\nvalue = [2, 0]'),\n",
              " Text(318.3882352941177, 85.42285714285714, 'X[0] <= 6.0\\ngini = 0.219\\nsamples = 8\\nvalue = [1, 7]'),\n",
              " Text(315.1058823529412, 69.89142857142858, 'gini = 0.0\\nsamples = 6\\nvalue = [0, 6]'),\n",
              " Text(321.67058823529413, 69.89142857142858, 'X[5] <= 35.05\\ngini = 0.5\\nsamples = 2\\nvalue = [1, 1]'),\n",
              " Text(318.3882352941177, 54.359999999999985, 'gini = 0.0\\nsamples = 1\\nvalue = [1, 0]'),\n",
              " Text(324.95294117647063, 54.359999999999985, 'gini = 0.0\\nsamples = 1\\nvalue = [0, 1]'),\n",
              " Text(318.3882352941177, 100.9542857142857, 'gini = 0.0\\nsamples = 2\\nvalue = [2, 0]'),\n",
              " Text(321.67058823529413, 116.48571428571428, 'gini = 0.0\\nsamples = 9\\nvalue = [0, 9]'),\n",
              " Text(328.2352941176471, 147.54857142857142, 'X[2] <= 65.0\\ngini = 0.444\\nsamples = 3\\nvalue = [2, 1]'),\n",
              " Text(324.95294117647063, 132.01714285714286, 'gini = 0.0\\nsamples = 1\\nvalue = [0, 1]'),\n",
              " Text(331.51764705882357, 132.01714285714286, 'gini = 0.0\\nsamples = 2\\nvalue = [2, 0]')]"
            ]
          },
          "execution_count": 95,
          "metadata": {},
          "output_type": "execute_result"
        },
        {
          "data": {
            "image/png": "[encoded data removed]",
            "text/plain": [
              "<Figure size 432x288 with 1 Axes>"
            ]
          },
          "metadata": {
            "needs_background": "light"
          },
          "output_type": "display_data"
        }
      ],
      "source": [
        "tree.plot_tree(clf)"
      ]
    },
    {
      "cell_type": "code",
      "execution_count": null,
      "metadata": {
        "id": "8hb3WJ2OZ_xr",
        "outputId": "4827b034-b5d7-4c4a-acd0-3520fb458fc7"
      },
      "outputs": [
        {
          "data": {
            "text/plain": [
              "Text(0.5, 1.0, 'Total Impurity vs effective alpha for training set')"
            ]
          },
          "execution_count": 49,
          "metadata": {},
          "output_type": "execute_result"
        },
        {
          "data": {
            "image/png": "[encoded data removed]",
            "text/plain": [
              "<Figure size 432x288 with 1 Axes>"
            ]
          },
          "metadata": {
            "needs_background": "light"
          },
          "output_type": "display_data"
        }
      ],
      "source": [
        "import matplotlib.pyplot as plt\n",
        "fig, ax = plt.subplots()\n",
        "ax.plot(ccp_alphas[:-1], impurities[:-1], marker=\"o\", drawstyle=\"steps-post\")\n",
        "ax.set_xlabel(\"effective alpha\")\n",
        "ax.set_ylabel(\"total impurity of leaves\")\n",
        "ax.set_title(\"Total Impurity vs effective alpha for training set\")"
      ]
    },
    {
      "cell_type": "code",
      "execution_count": null,
      "metadata": {
        "id": "_FMUYdi8Z_xx",
        "outputId": "b3384e5b-a417-4195-cde4-ad0b6f79745f"
      },
      "outputs": [
        {
          "name": "stdout",
          "output_type": "stream",
          "text": [
            "Number of nodes in the last tree is: 1 with ccp_alpha: 0.07719277922077927\n"
          ]
        }
      ],
      "source": [
        "clfs = []\n",
        "for ccp_alpha in ccp_alphas:\n",
        "    clf = tree.DecisionTreeClassifier(random_state=0, ccp_alpha=ccp_alpha)\n",
        "    clf.fit(X_train, y_train)\n",
        "    clfs.append(clf)\n",
        "print(\n",
        "    \"Number of nodes in the last tree is: {} with ccp_alpha: {}\".format(\n",
        "        clfs[-1].tree_.node_count, ccp_alphas[-1]\n",
        "    )\n",
        ")"
      ]
    },
    {
      "cell_type": "code",
      "execution_count": null,
      "metadata": {
        "id": "ziHhI606Z_xy",
        "outputId": "294edbab-35b4-4397-a579-de1cc2484253"
      },
      "outputs": [
        {
          "data": {
            "image/png": "[encoded data removed]",
            "text/plain": [
              "<Figure size 432x288 with 2 Axes>"
            ]
          },
          "metadata": {
            "needs_background": "light"
          },
          "output_type": "display_data"
        }
      ],
      "source": [
        "clfs = clfs[:-1]\n",
        "ccp_alphas = ccp_alphas[:-1]\n",
        "\n",
        "node_counts = [clf.tree_.node_count for clf in clfs]\n",
        "depth = [clf.tree_.max_depth for clf in clfs]\n",
        "fig, ax = plt.subplots(2, 1)\n",
        "ax[0].plot(ccp_alphas, node_counts, marker=\"o\", drawstyle=\"steps-post\")\n",
        "ax[0].set_xlabel(\"alpha\")\n",
        "ax[0].set_ylabel(\"number of nodes\")\n",
        "ax[0].set_title(\"Number of nodes vs alpha\")\n",
        "ax[1].plot(ccp_alphas, depth, marker=\"o\", drawstyle=\"steps-post\")\n",
        "ax[1].set_xlabel(\"alpha\")\n",
        "ax[1].set_ylabel(\"depth of tree\")\n",
        "ax[1].set_title(\"Depth vs alpha\")\n",
        "fig.tight_layout()"
      ]
    },
    {
      "cell_type": "code",
      "execution_count": null,
      "metadata": {
        "id": "LHLmJPDpZ_xy",
        "outputId": "c23a4d16-48e1-4b40-a08e-2d4b5eb53962"
      },
      "outputs": [
        {
          "data": {
            "image/png": "[encoded data removed]",
            "text/plain": [
              "<Figure size 432x288 with 1 Axes>"
            ]
          },
          "metadata": {
            "needs_background": "light"
          },
          "output_type": "display_data"
        }
      ],
      "source": [
        "train_scores = [clf.score(X_train, y_train) for clf in clfs]\n",
        "test_scores = [clf.score(X_test, y_test) for clf in clfs]\n",
        "\n",
        "fig, ax = plt.subplots()\n",
        "ax.set_xlabel(\"alpha\")\n",
        "ax.set_ylabel(\"accuracy\")\n",
        "ax.set_title(\"Accuracy vs alpha for training and testing sets\")\n",
        "ax.plot(ccp_alphas, train_scores, marker=\"o\", label=\"train\", drawstyle=\"steps-post\")\n",
        "ax.plot(ccp_alphas, test_scores, marker=\"o\", label=\"test\", drawstyle=\"steps-post\")\n",
        "ax.legend()\n",
        "plt.show()"
      ]
    },
    {
      "cell_type": "code",
      "execution_count": null,
      "metadata": {
        "id": "dBz77Ih1Z_xz",
        "outputId": "fde2849a-8bdd-40be-d819-88f4875063ea"
      },
      "outputs": [
        {
          "data": {
            "image/png": "[encoded data removed]",
            "text/plain": [
              "<Figure size 1800x1440 with 1 Axes>"
            ]
          },
          "metadata": {
            "needs_background": "light"
          },
          "output_type": "display_data"
        }
      ],
      "source": [
        "fig = plt.figure(figsize=(25,20))\n",
        "clf = tree.DecisionTreeClassifier(ccp_alpha=0.006)\n",
        "clf.fit(X_train,y_train)\n",
        "_ = tree.plot_tree(clf, feature_names=Xdf.columns, filled=True)"
      ]
    },
    {
      "cell_type": "markdown",
      "metadata": {
        "id": "vo-w2GteZ_xz"
      },
      "source": [
        "# 2. Validation Croisée : Random Forest versus Régression Logistique, Naive Bayes, QDA, LDA\n",
        "\n",
        "Dans cette section nous souhaitons comparer les classifieurs Random Forest, Régression Logistique, Naive Bayes, QDA, LDA, la base de données Diabete_UCI à partir d'une validation croisée de 10 folds.\n",
        "\n",
        "**Question 2.1.** Implémenter le code permettant de qualibrer tous ces classifieurs dans une validation croisée et comparer les risques d'erreurs globaux de chaque classifieur. Lequel est en moyenne le plus performant sur les bases de validations ?"
      ]
    },
    {
      "cell_type": "code",
      "execution_count": null,
      "metadata": {
        "id": "jzriVVJvZ_x0"
      },
      "outputs": [],
      "source": [
        "# RÉPONSE À LA QUESTION 2.1 :\n",
        "\n",
        "from sklearn.ensemble import RandomForestClassifier\n",
        "from sklearn.linear_model import LogisticRegression\n",
        "from sklearn.naive_bayes import GaussianNB\n",
        "from sklearn.discriminant_analysis import QuadraticDiscriminantAnalysis\n",
        "from sklearn.discriminant_analysis import LinearDiscriminantAnalysis\n",
        "from sklearn import model_selection\n",
        "import pandas as pd"
      ]
    },
    {
      "cell_type": "code",
      "execution_count": null,
      "metadata": {
        "id": "8U11wJUTZ_x0",
        "outputId": "a08c66af-828e-4687-89af-f180245e46d1"
      },
      "outputs": [
        {
          "data": {
            "text/plain": [
              "dict_keys(['explained_variance', 'r2', 'max_error', 'neg_median_absolute_error', 'neg_mean_absolute_error', 'neg_mean_absolute_percentage_error', 'neg_mean_squared_error', 'neg_mean_squared_log_error', 'neg_root_mean_squared_error', 'neg_mean_poisson_deviance', 'neg_mean_gamma_deviance', 'accuracy', 'top_k_accuracy', 'roc_auc', 'roc_auc_ovr', 'roc_auc_ovo', 'roc_auc_ovr_weighted', 'roc_auc_ovo_weighted', 'balanced_accuracy', 'average_precision', 'neg_log_loss', 'neg_brier_score', 'adjusted_rand_score', 'rand_score', 'homogeneity_score', 'completeness_score', 'v_measure_score', 'mutual_info_score', 'adjusted_mutual_info_score', 'normalized_mutual_info_score', 'fowlkes_mallows_score', 'precision', 'precision_macro', 'precision_micro', 'precision_samples', 'precision_weighted', 'recall', 'recall_macro', 'recall_micro', 'recall_samples', 'recall_weighted', 'f1', 'f1_macro', 'f1_micro', 'f1_samples', 'f1_weighted', 'jaccard', 'jaccard_macro', 'jaccard_micro', 'jaccard_samples', 'jaccard_weighted'])"
            ]
          },
          "execution_count": 71,
          "metadata": {},
          "output_type": "execute_result"
        }
      ],
      "source": [
        "import sklearn\n",
        "sklearn.metrics.SCORERS.keys()"
      ]
    },
    {
      "cell_type": "code",
      "execution_count": null,
      "metadata": {
        "id": "pz2oI9v9Z_x1",
        "outputId": "b74828b9-cd37-4792-a4c7-56125708cf87"
      },
      "outputs": [
        {
          "name": "stdout",
          "output_type": "stream",
          "text": [
            "LogReg\n",
            "{'fit_time': array([0.03789377, 0.02593088, 0.02293897, 0.0259304 , 0.03091764,\n",
            "       0.01595783, 0.02293921, 0.02393532, 0.02792525, 0.02593064]), 'score_time': array([0.00299191, 0.00199437, 0.00299144, 0.00398898, 0.0029912 ,\n",
            "       0.00299191, 0.00299215, 0.00299191, 0.00199509, 0.00299191]), 'test_accuracy': array([0.76, 0.82, 0.66, 0.68, 0.7 , 0.82, 0.68, 0.84, 0.8 , 0.84]), 'test_precision_weighted': array([0.76149688, 0.84526316, 0.65529412, 0.68      , 0.765     ,\n",
            "       0.81485095, 0.72842105, 0.84990476, 0.8       , 0.84411765]), 'test_recall_weighted': array([0.76, 0.82, 0.66, 0.68, 0.7 , 0.82, 0.68, 0.84, 0.8 , 0.84]), 'test_f1_weighted': array([0.74808824, 0.82943942, 0.6573858 , 0.68      , 0.67001357,\n",
            "       0.80627894, 0.65666667, 0.84349206, 0.8       , 0.83611111]), 'test_roc_auc': array([0.84040747, 0.85094851, 0.69340463, 0.76388889, 0.78099839,\n",
            "       0.91865079, 0.79807692, 0.91268191, 0.8531746 , 0.90833333])}\n",
            "RF\n",
            "{'fit_time': array([0.12267184, 0.12569809, 0.12068033, 0.11968541, 0.1196804 ,\n",
            "       0.13164711, 0.12264061, 0.12170649, 0.12168694, 0.12170863]), 'score_time': array([0.01894903, 0.01795006, 0.01794767, 0.01891565, 0.02094364,\n",
            "       0.01798391, 0.01795197, 0.01793957, 0.0189178 , 0.01795125]), 'test_accuracy': array([0.74, 0.78, 0.66, 0.66, 0.66, 0.78, 0.7 , 0.86, 0.82, 0.78]), 'test_precision_weighted': array([0.74184211, 0.82880952, 0.65529412, 0.66431239, 0.66566176,\n",
            "       0.76930233, 0.72571429, 0.86404762, 0.82438095, 0.77860781]), 'test_recall_weighted': array([0.74, 0.78, 0.66, 0.66, 0.66, 0.78, 0.7 , 0.86, 0.82, 0.78]), 'test_f1_weighted': array([0.72383357, 0.79677019, 0.6573858 , 0.66189618, 0.64899538,\n",
            "       0.75308017, 0.68751576, 0.86163369, 0.82183584, 0.77898277]), 'test_roc_auc': array([0.86926995, 0.83875339, 0.6916221 , 0.72743056, 0.71980676,\n",
            "       0.89285714, 0.84134615, 0.92515593, 0.86210317, 0.84583333])}\n",
            "GNB\n",
            "{'fit_time': array([0.00099587, 0.        , 0.0009954 , 0.00102878, 0.00099564,\n",
            "       0.00100017, 0.00099683, 0.        , 0.00099444, 0.00099373]), 'score_time': array([0.0029614 , 0.00302649, 0.00296044, 0.00299358, 0.00299191,\n",
            "       0.00298929, 0.00299168, 0.00299525, 0.00299549, 0.00299311]), 'test_accuracy': array([0.74, 0.74, 0.66, 0.72, 0.66, 0.82, 0.7 , 0.84, 0.74, 0.84]), 'test_precision_weighted': array([0.73642857, 0.7931746 , 0.665     , 0.73844156, 0.66104167,\n",
            "       0.81485095, 0.72571429, 0.84      , 0.74590476, 0.8547619 ]), 'test_recall_weighted': array([0.74, 0.74, 0.66, 0.72, 0.66, 0.82, 0.7 , 0.84, 0.74, 0.84]), 'test_f1_weighted': array([0.73000452, 0.75981931, 0.66224176, 0.72466667, 0.65367507,\n",
            "       0.80627894, 0.68751576, 0.84      , 0.74265177, 0.83315508]), 'test_roc_auc': array([0.77589134, 0.79674797, 0.71301248, 0.76909722, 0.76489533,\n",
            "       0.90873016, 0.83012821, 0.88981289, 0.83134921, 0.89166667])}\n",
            "QDA\n",
            "{'fit_time': array([0.00103092, 0.        , 0.        , 0.        , 0.0009973 ,\n",
            "       0.00099707, 0.        , 0.        , 0.0009973 , 0.00099778]), 'score_time': array([0.00295758, 0.00299168, 0.00299168, 0.00299191, 0.00299239,\n",
            "       0.00299144, 0.00299239, 0.00299215, 0.00299215, 0.00299144]), 'test_accuracy': array([0.76, 0.72, 0.64, 0.74, 0.64, 0.82, 0.7 , 0.8 , 0.8 , 0.84]), 'test_precision_weighted': array([0.75672014, 0.7645738 , 0.63009524, 0.75251232, 0.65413721,\n",
            "       0.82604651, 0.71372549, 0.79160839, 0.8       , 0.83958333]), 'test_recall_weighted': array([0.76, 0.72, 0.64, 0.74, 0.64, 0.82, 0.7 , 0.8 , 0.8 , 0.84]), 'test_f1_weighted': array([0.75708333, 0.73827506, 0.63404412, 0.74360656, 0.618125  ,\n",
            "       0.79797468, 0.69218685, 0.79429825, 0.8       , 0.83837012]), 'test_roc_auc': array([0.80135823, 0.80216802, 0.69875223, 0.78298611, 0.7020934 ,\n",
            "       0.89285714, 0.78365385, 0.87110187, 0.85714286, 0.91333333])}\n",
            "LDA\n",
            "{'fit_time': array([0.00199461, 0.0009973 , 0.0009973 , 0.00099707, 0.00099683,\n",
            "       0.00099754, 0.0009973 , 0.00199461, 0.00099754, 0.0009973 ]), 'score_time': array([0.00199461, 0.00299191, 0.00299191, 0.00299263, 0.00299191,\n",
            "       0.00299239, 0.00299168, 0.00199485, 0.00199437, 0.00299239]), 'test_accuracy': array([0.78, 0.82, 0.66, 0.7 , 0.72, 0.82, 0.68, 0.84, 0.8 , 0.84]), 'test_precision_weighted': array([0.78079365, 0.84526316, 0.65529412, 0.70390492, 0.77818182,\n",
            "       0.81485095, 0.72842105, 0.84990476, 0.8       , 0.84411765]), 'test_recall_weighted': array([0.78, 0.82, 0.66, 0.7 , 0.72, 0.82, 0.68, 0.84, 0.8 , 0.84]), 'test_f1_weighted': array([0.77154229, 0.82943942, 0.6573858 , 0.7016731 , 0.69604278,\n",
            "       0.80627894, 0.65666667, 0.84349206, 0.8       , 0.83611111]), 'test_roc_auc': array([0.83870968, 0.85907859, 0.6969697 , 0.77604167, 0.77133655,\n",
            "       0.91865079, 0.79807692, 0.9043659 , 0.84722222, 0.90833333])}\n"
          ]
        }
      ],
      "source": [
        "models = [('LogReg', LogisticRegression(max_iter=300)), ('RF', RandomForestClassifier()), ('GNB', GaussianNB()), \n",
        "          ('QDA', QuadraticDiscriminantAnalysis()), ('LDA', LinearDiscriminantAnalysis())]\n",
        "\n",
        "results = []\n",
        "names = []\n",
        "folds = 10\n",
        "scoring = ['accuracy', 'precision_weighted', 'recall_weighted', 'f1_weighted', 'roc_auc']\n",
        "dfs = []\n",
        "for name, model in models:\n",
        "    kfold = model_selection.KFold(n_splits=folds, shuffle=True, random_state=90210)\n",
        "    cv_results = model_selection.cross_validate(model, X_train, y_train, cv=kfold, scoring=scoring)\n",
        "    clf = model.fit(X_train, y_train)\n",
        "    #y_pred = clf.predict(X_test)\n",
        "    print(name)\n",
        "    print(cv_results)\n",
        "    results.append(cv_results)\n",
        "    names.append(name)\n",
        "    this_df = pd.DataFrame(cv_results)\n",
        "    \n",
        "    this_df['loss test'] = 1 - cv_results['test_accuracy']\n",
        "    this_df['model'] = name\n",
        "    dfs.append(this_df)\n",
        "    \n",
        "final = pd.concat(dfs, ignore_index=True)"
      ]
    },
    {
      "cell_type": "code",
      "execution_count": null,
      "metadata": {
        "id": "UR4b0u8NZ_x1",
        "outputId": "3f654e3a-d04b-4044-ff6c-e43ade807fb8"
      },
      "outputs": [
        {
          "data": {
            "text/html": [
              "<div>\n",
              "<style scoped>\n",
              "    .dataframe tbody tr th:only-of-type {\n",
              "        vertical-align: middle;\n",
              "    }\n",
              "\n",
              "    .dataframe tbody tr th {\n",
              "        vertical-align: top;\n",
              "    }\n",
              "\n",
              "    .dataframe thead th {\n",
              "        text-align: right;\n",
              "    }\n",
              "</style>\n",
              "<table border=\"1\" class=\"dataframe\">\n",
              "  <thead>\n",
              "    <tr style=\"text-align: right;\">\n",
              "      <th></th>\n",
              "      <th>fit_time</th>\n",
              "      <th>score_time</th>\n",
              "      <th>test_accuracy</th>\n",
              "      <th>test_precision_weighted</th>\n",
              "      <th>test_recall_weighted</th>\n",
              "      <th>test_f1_weighted</th>\n",
              "      <th>test_roc_auc</th>\n",
              "      <th>loss test</th>\n",
              "    </tr>\n",
              "  </thead>\n",
              "  <tbody>\n",
              "    <tr>\n",
              "      <th>count</th>\n",
              "      <td>50.000000</td>\n",
              "      <td>50.000000</td>\n",
              "      <td>50.0000</td>\n",
              "      <td>50.000000</td>\n",
              "      <td>50.0000</td>\n",
              "      <td>50.000000</td>\n",
              "      <td>50.000000</td>\n",
              "      <td>50.0000</td>\n",
              "    </tr>\n",
              "    <tr>\n",
              "      <th>mean</th>\n",
              "      <td>0.030262</td>\n",
              "      <td>0.006022</td>\n",
              "      <td>0.7524</td>\n",
              "      <td>0.763347</td>\n",
              "      <td>0.7524</td>\n",
              "      <td>0.747440</td>\n",
              "      <td>0.822606</td>\n",
              "      <td>0.2476</td>\n",
              "    </tr>\n",
              "    <tr>\n",
              "      <th>std</th>\n",
              "      <td>0.047846</td>\n",
              "      <td>0.006348</td>\n",
              "      <td>0.0682</td>\n",
              "      <td>0.067422</td>\n",
              "      <td>0.0682</td>\n",
              "      <td>0.071222</td>\n",
              "      <td>0.070189</td>\n",
              "      <td>0.0682</td>\n",
              "    </tr>\n",
              "    <tr>\n",
              "      <th>min</th>\n",
              "      <td>0.000000</td>\n",
              "      <td>0.001994</td>\n",
              "      <td>0.6400</td>\n",
              "      <td>0.630095</td>\n",
              "      <td>0.6400</td>\n",
              "      <td>0.618125</td>\n",
              "      <td>0.691622</td>\n",
              "      <td>0.1400</td>\n",
              "    </tr>\n",
              "    <tr>\n",
              "      <th>25%</th>\n",
              "      <td>0.000997</td>\n",
              "      <td>0.002991</td>\n",
              "      <td>0.7000</td>\n",
              "      <td>0.725714</td>\n",
              "      <td>0.7000</td>\n",
              "      <td>0.681879</td>\n",
              "      <td>0.775929</td>\n",
              "      <td>0.1800</td>\n",
              "    </tr>\n",
              "    <tr>\n",
              "      <th>50%</th>\n",
              "      <td>0.000999</td>\n",
              "      <td>0.002992</td>\n",
              "      <td>0.7500</td>\n",
              "      <td>0.767151</td>\n",
              "      <td>0.7500</td>\n",
              "      <td>0.750584</td>\n",
              "      <td>0.838732</td>\n",
              "      <td>0.2500</td>\n",
              "    </tr>\n",
              "    <tr>\n",
              "      <th>75%</th>\n",
              "      <td>0.027427</td>\n",
              "      <td>0.002995</td>\n",
              "      <td>0.8200</td>\n",
              "      <td>0.821998</td>\n",
              "      <td>0.8200</td>\n",
              "      <td>0.806279</td>\n",
              "      <td>0.885135</td>\n",
              "      <td>0.3000</td>\n",
              "    </tr>\n",
              "    <tr>\n",
              "      <th>max</th>\n",
              "      <td>0.131647</td>\n",
              "      <td>0.020944</td>\n",
              "      <td>0.8600</td>\n",
              "      <td>0.864048</td>\n",
              "      <td>0.8600</td>\n",
              "      <td>0.861634</td>\n",
              "      <td>0.925156</td>\n",
              "      <td>0.3600</td>\n",
              "    </tr>\n",
              "  </tbody>\n",
              "</table>\n",
              "</div>"
            ],
            "text/plain": [
              "        fit_time  score_time  test_accuracy  test_precision_weighted  \\\n",
              "count  50.000000   50.000000        50.0000                50.000000   \n",
              "mean    0.030262    0.006022         0.7524                 0.763347   \n",
              "std     0.047846    0.006348         0.0682                 0.067422   \n",
              "min     0.000000    0.001994         0.6400                 0.630095   \n",
              "25%     0.000997    0.002991         0.7000                 0.725714   \n",
              "50%     0.000999    0.002992         0.7500                 0.767151   \n",
              "75%     0.027427    0.002995         0.8200                 0.821998   \n",
              "max     0.131647    0.020944         0.8600                 0.864048   \n",
              "\n",
              "       test_recall_weighted  test_f1_weighted  test_roc_auc  loss test  \n",
              "count               50.0000         50.000000     50.000000    50.0000  \n",
              "mean                 0.7524          0.747440      0.822606     0.2476  \n",
              "std                  0.0682          0.071222      0.070189     0.0682  \n",
              "min                  0.6400          0.618125      0.691622     0.1400  \n",
              "25%                  0.7000          0.681879      0.775929     0.1800  \n",
              "50%                  0.7500          0.750584      0.838732     0.2500  \n",
              "75%                  0.8200          0.806279      0.885135     0.3000  \n",
              "max                  0.8600          0.861634      0.925156     0.3600  "
            ]
          },
          "execution_count": 123,
          "metadata": {},
          "output_type": "execute_result"
        }
      ],
      "source": [
        "final.describe()"
      ]
    },
    {
      "cell_type": "code",
      "execution_count": null,
      "metadata": {
        "id": "-JfQxyW4Z_x2",
        "outputId": "ba1089fc-bf36-4fe6-ded4-9a3a7df1d435"
      },
      "outputs": [
        {
          "data": {
            "text/html": [
              "<div>\n",
              "<style scoped>\n",
              "    .dataframe tbody tr th:only-of-type {\n",
              "        vertical-align: middle;\n",
              "    }\n",
              "\n",
              "    .dataframe tbody tr th {\n",
              "        vertical-align: top;\n",
              "    }\n",
              "\n",
              "    .dataframe thead th {\n",
              "        text-align: right;\n",
              "    }\n",
              "</style>\n",
              "<table border=\"1\" class=\"dataframe\">\n",
              "  <thead>\n",
              "    <tr style=\"text-align: right;\">\n",
              "      <th></th>\n",
              "      <th>fit_time</th>\n",
              "      <th>score_time</th>\n",
              "      <th>test_accuracy</th>\n",
              "      <th>test_precision_weighted</th>\n",
              "      <th>test_recall_weighted</th>\n",
              "      <th>test_f1_weighted</th>\n",
              "      <th>test_roc_auc</th>\n",
              "      <th>loss test</th>\n",
              "      <th>model</th>\n",
              "    </tr>\n",
              "  </thead>\n",
              "  <tbody>\n",
              "    <tr>\n",
              "      <th>0</th>\n",
              "      <td>0.037894</td>\n",
              "      <td>0.002992</td>\n",
              "      <td>0.76</td>\n",
              "      <td>0.761497</td>\n",
              "      <td>0.76</td>\n",
              "      <td>0.748088</td>\n",
              "      <td>0.840407</td>\n",
              "      <td>0.24</td>\n",
              "      <td>LogReg</td>\n",
              "    </tr>\n",
              "    <tr>\n",
              "      <th>1</th>\n",
              "      <td>0.025931</td>\n",
              "      <td>0.001994</td>\n",
              "      <td>0.82</td>\n",
              "      <td>0.845263</td>\n",
              "      <td>0.82</td>\n",
              "      <td>0.829439</td>\n",
              "      <td>0.850949</td>\n",
              "      <td>0.18</td>\n",
              "      <td>LogReg</td>\n",
              "    </tr>\n",
              "    <tr>\n",
              "      <th>2</th>\n",
              "      <td>0.022939</td>\n",
              "      <td>0.002991</td>\n",
              "      <td>0.66</td>\n",
              "      <td>0.655294</td>\n",
              "      <td>0.66</td>\n",
              "      <td>0.657386</td>\n",
              "      <td>0.693405</td>\n",
              "      <td>0.34</td>\n",
              "      <td>LogReg</td>\n",
              "    </tr>\n",
              "    <tr>\n",
              "      <th>3</th>\n",
              "      <td>0.025930</td>\n",
              "      <td>0.003989</td>\n",
              "      <td>0.68</td>\n",
              "      <td>0.680000</td>\n",
              "      <td>0.68</td>\n",
              "      <td>0.680000</td>\n",
              "      <td>0.763889</td>\n",
              "      <td>0.32</td>\n",
              "      <td>LogReg</td>\n",
              "    </tr>\n",
              "    <tr>\n",
              "      <th>4</th>\n",
              "      <td>0.030918</td>\n",
              "      <td>0.002991</td>\n",
              "      <td>0.70</td>\n",
              "      <td>0.765000</td>\n",
              "      <td>0.70</td>\n",
              "      <td>0.670014</td>\n",
              "      <td>0.780998</td>\n",
              "      <td>0.30</td>\n",
              "      <td>LogReg</td>\n",
              "    </tr>\n",
              "    <tr>\n",
              "      <th>5</th>\n",
              "      <td>0.015958</td>\n",
              "      <td>0.002992</td>\n",
              "      <td>0.82</td>\n",
              "      <td>0.814851</td>\n",
              "      <td>0.82</td>\n",
              "      <td>0.806279</td>\n",
              "      <td>0.918651</td>\n",
              "      <td>0.18</td>\n",
              "      <td>LogReg</td>\n",
              "    </tr>\n",
              "    <tr>\n",
              "      <th>6</th>\n",
              "      <td>0.022939</td>\n",
              "      <td>0.002992</td>\n",
              "      <td>0.68</td>\n",
              "      <td>0.728421</td>\n",
              "      <td>0.68</td>\n",
              "      <td>0.656667</td>\n",
              "      <td>0.798077</td>\n",
              "      <td>0.32</td>\n",
              "      <td>LogReg</td>\n",
              "    </tr>\n",
              "    <tr>\n",
              "      <th>7</th>\n",
              "      <td>0.023935</td>\n",
              "      <td>0.002992</td>\n",
              "      <td>0.84</td>\n",
              "      <td>0.849905</td>\n",
              "      <td>0.84</td>\n",
              "      <td>0.843492</td>\n",
              "      <td>0.912682</td>\n",
              "      <td>0.16</td>\n",
              "      <td>LogReg</td>\n",
              "    </tr>\n",
              "    <tr>\n",
              "      <th>8</th>\n",
              "      <td>0.027925</td>\n",
              "      <td>0.001995</td>\n",
              "      <td>0.80</td>\n",
              "      <td>0.800000</td>\n",
              "      <td>0.80</td>\n",
              "      <td>0.800000</td>\n",
              "      <td>0.853175</td>\n",
              "      <td>0.20</td>\n",
              "      <td>LogReg</td>\n",
              "    </tr>\n",
              "    <tr>\n",
              "      <th>9</th>\n",
              "      <td>0.025931</td>\n",
              "      <td>0.002992</td>\n",
              "      <td>0.84</td>\n",
              "      <td>0.844118</td>\n",
              "      <td>0.84</td>\n",
              "      <td>0.836111</td>\n",
              "      <td>0.908333</td>\n",
              "      <td>0.16</td>\n",
              "      <td>LogReg</td>\n",
              "    </tr>\n",
              "    <tr>\n",
              "      <th>10</th>\n",
              "      <td>0.122672</td>\n",
              "      <td>0.018949</td>\n",
              "      <td>0.74</td>\n",
              "      <td>0.741842</td>\n",
              "      <td>0.74</td>\n",
              "      <td>0.723834</td>\n",
              "      <td>0.869270</td>\n",
              "      <td>0.26</td>\n",
              "      <td>RF</td>\n",
              "    </tr>\n",
              "    <tr>\n",
              "      <th>11</th>\n",
              "      <td>0.125698</td>\n",
              "      <td>0.017950</td>\n",
              "      <td>0.78</td>\n",
              "      <td>0.828810</td>\n",
              "      <td>0.78</td>\n",
              "      <td>0.796770</td>\n",
              "      <td>0.838753</td>\n",
              "      <td>0.22</td>\n",
              "      <td>RF</td>\n",
              "    </tr>\n",
              "    <tr>\n",
              "      <th>12</th>\n",
              "      <td>0.120680</td>\n",
              "      <td>0.017948</td>\n",
              "      <td>0.66</td>\n",
              "      <td>0.655294</td>\n",
              "      <td>0.66</td>\n",
              "      <td>0.657386</td>\n",
              "      <td>0.691622</td>\n",
              "      <td>0.34</td>\n",
              "      <td>RF</td>\n",
              "    </tr>\n",
              "    <tr>\n",
              "      <th>13</th>\n",
              "      <td>0.119685</td>\n",
              "      <td>0.018916</td>\n",
              "      <td>0.66</td>\n",
              "      <td>0.664312</td>\n",
              "      <td>0.66</td>\n",
              "      <td>0.661896</td>\n",
              "      <td>0.727431</td>\n",
              "      <td>0.34</td>\n",
              "      <td>RF</td>\n",
              "    </tr>\n",
              "    <tr>\n",
              "      <th>14</th>\n",
              "      <td>0.119680</td>\n",
              "      <td>0.020944</td>\n",
              "      <td>0.66</td>\n",
              "      <td>0.665662</td>\n",
              "      <td>0.66</td>\n",
              "      <td>0.648995</td>\n",
              "      <td>0.719807</td>\n",
              "      <td>0.34</td>\n",
              "      <td>RF</td>\n",
              "    </tr>\n",
              "    <tr>\n",
              "      <th>15</th>\n",
              "      <td>0.131647</td>\n",
              "      <td>0.017984</td>\n",
              "      <td>0.78</td>\n",
              "      <td>0.769302</td>\n",
              "      <td>0.78</td>\n",
              "      <td>0.753080</td>\n",
              "      <td>0.892857</td>\n",
              "      <td>0.22</td>\n",
              "      <td>RF</td>\n",
              "    </tr>\n",
              "    <tr>\n",
              "      <th>16</th>\n",
              "      <td>0.122641</td>\n",
              "      <td>0.017952</td>\n",
              "      <td>0.70</td>\n",
              "      <td>0.725714</td>\n",
              "      <td>0.70</td>\n",
              "      <td>0.687516</td>\n",
              "      <td>0.841346</td>\n",
              "      <td>0.30</td>\n",
              "      <td>RF</td>\n",
              "    </tr>\n",
              "    <tr>\n",
              "      <th>17</th>\n",
              "      <td>0.121706</td>\n",
              "      <td>0.017940</td>\n",
              "      <td>0.86</td>\n",
              "      <td>0.864048</td>\n",
              "      <td>0.86</td>\n",
              "      <td>0.861634</td>\n",
              "      <td>0.925156</td>\n",
              "      <td>0.14</td>\n",
              "      <td>RF</td>\n",
              "    </tr>\n",
              "    <tr>\n",
              "      <th>18</th>\n",
              "      <td>0.121687</td>\n",
              "      <td>0.018918</td>\n",
              "      <td>0.82</td>\n",
              "      <td>0.824381</td>\n",
              "      <td>0.82</td>\n",
              "      <td>0.821836</td>\n",
              "      <td>0.862103</td>\n",
              "      <td>0.18</td>\n",
              "      <td>RF</td>\n",
              "    </tr>\n",
              "    <tr>\n",
              "      <th>19</th>\n",
              "      <td>0.121709</td>\n",
              "      <td>0.017951</td>\n",
              "      <td>0.78</td>\n",
              "      <td>0.778608</td>\n",
              "      <td>0.78</td>\n",
              "      <td>0.778983</td>\n",
              "      <td>0.845833</td>\n",
              "      <td>0.22</td>\n",
              "      <td>RF</td>\n",
              "    </tr>\n",
              "    <tr>\n",
              "      <th>20</th>\n",
              "      <td>0.000996</td>\n",
              "      <td>0.002961</td>\n",
              "      <td>0.74</td>\n",
              "      <td>0.736429</td>\n",
              "      <td>0.74</td>\n",
              "      <td>0.730005</td>\n",
              "      <td>0.775891</td>\n",
              "      <td>0.26</td>\n",
              "      <td>GNB</td>\n",
              "    </tr>\n",
              "    <tr>\n",
              "      <th>21</th>\n",
              "      <td>0.000000</td>\n",
              "      <td>0.003026</td>\n",
              "      <td>0.74</td>\n",
              "      <td>0.793175</td>\n",
              "      <td>0.74</td>\n",
              "      <td>0.759819</td>\n",
              "      <td>0.796748</td>\n",
              "      <td>0.26</td>\n",
              "      <td>GNB</td>\n",
              "    </tr>\n",
              "    <tr>\n",
              "      <th>22</th>\n",
              "      <td>0.000995</td>\n",
              "      <td>0.002960</td>\n",
              "      <td>0.66</td>\n",
              "      <td>0.665000</td>\n",
              "      <td>0.66</td>\n",
              "      <td>0.662242</td>\n",
              "      <td>0.713012</td>\n",
              "      <td>0.34</td>\n",
              "      <td>GNB</td>\n",
              "    </tr>\n",
              "    <tr>\n",
              "      <th>23</th>\n",
              "      <td>0.001029</td>\n",
              "      <td>0.002994</td>\n",
              "      <td>0.72</td>\n",
              "      <td>0.738442</td>\n",
              "      <td>0.72</td>\n",
              "      <td>0.724667</td>\n",
              "      <td>0.769097</td>\n",
              "      <td>0.28</td>\n",
              "      <td>GNB</td>\n",
              "    </tr>\n",
              "    <tr>\n",
              "      <th>24</th>\n",
              "      <td>0.000996</td>\n",
              "      <td>0.002992</td>\n",
              "      <td>0.66</td>\n",
              "      <td>0.661042</td>\n",
              "      <td>0.66</td>\n",
              "      <td>0.653675</td>\n",
              "      <td>0.764895</td>\n",
              "      <td>0.34</td>\n",
              "      <td>GNB</td>\n",
              "    </tr>\n",
              "    <tr>\n",
              "      <th>25</th>\n",
              "      <td>0.001000</td>\n",
              "      <td>0.002989</td>\n",
              "      <td>0.82</td>\n",
              "      <td>0.814851</td>\n",
              "      <td>0.82</td>\n",
              "      <td>0.806279</td>\n",
              "      <td>0.908730</td>\n",
              "      <td>0.18</td>\n",
              "      <td>GNB</td>\n",
              "    </tr>\n",
              "    <tr>\n",
              "      <th>26</th>\n",
              "      <td>0.000997</td>\n",
              "      <td>0.002992</td>\n",
              "      <td>0.70</td>\n",
              "      <td>0.725714</td>\n",
              "      <td>0.70</td>\n",
              "      <td>0.687516</td>\n",
              "      <td>0.830128</td>\n",
              "      <td>0.30</td>\n",
              "      <td>GNB</td>\n",
              "    </tr>\n",
              "    <tr>\n",
              "      <th>27</th>\n",
              "      <td>0.000000</td>\n",
              "      <td>0.002995</td>\n",
              "      <td>0.84</td>\n",
              "      <td>0.840000</td>\n",
              "      <td>0.84</td>\n",
              "      <td>0.840000</td>\n",
              "      <td>0.889813</td>\n",
              "      <td>0.16</td>\n",
              "      <td>GNB</td>\n",
              "    </tr>\n",
              "    <tr>\n",
              "      <th>28</th>\n",
              "      <td>0.000994</td>\n",
              "      <td>0.002995</td>\n",
              "      <td>0.74</td>\n",
              "      <td>0.745905</td>\n",
              "      <td>0.74</td>\n",
              "      <td>0.742652</td>\n",
              "      <td>0.831349</td>\n",
              "      <td>0.26</td>\n",
              "      <td>GNB</td>\n",
              "    </tr>\n",
              "    <tr>\n",
              "      <th>29</th>\n",
              "      <td>0.000994</td>\n",
              "      <td>0.002993</td>\n",
              "      <td>0.84</td>\n",
              "      <td>0.854762</td>\n",
              "      <td>0.84</td>\n",
              "      <td>0.833155</td>\n",
              "      <td>0.891667</td>\n",
              "      <td>0.16</td>\n",
              "      <td>GNB</td>\n",
              "    </tr>\n",
              "    <tr>\n",
              "      <th>30</th>\n",
              "      <td>0.001031</td>\n",
              "      <td>0.002958</td>\n",
              "      <td>0.76</td>\n",
              "      <td>0.756720</td>\n",
              "      <td>0.76</td>\n",
              "      <td>0.757083</td>\n",
              "      <td>0.801358</td>\n",
              "      <td>0.24</td>\n",
              "      <td>QDA</td>\n",
              "    </tr>\n",
              "    <tr>\n",
              "      <th>31</th>\n",
              "      <td>0.000000</td>\n",
              "      <td>0.002992</td>\n",
              "      <td>0.72</td>\n",
              "      <td>0.764574</td>\n",
              "      <td>0.72</td>\n",
              "      <td>0.738275</td>\n",
              "      <td>0.802168</td>\n",
              "      <td>0.28</td>\n",
              "      <td>QDA</td>\n",
              "    </tr>\n",
              "    <tr>\n",
              "      <th>32</th>\n",
              "      <td>0.000000</td>\n",
              "      <td>0.002992</td>\n",
              "      <td>0.64</td>\n",
              "      <td>0.630095</td>\n",
              "      <td>0.64</td>\n",
              "      <td>0.634044</td>\n",
              "      <td>0.698752</td>\n",
              "      <td>0.36</td>\n",
              "      <td>QDA</td>\n",
              "    </tr>\n",
              "    <tr>\n",
              "      <th>33</th>\n",
              "      <td>0.000000</td>\n",
              "      <td>0.002992</td>\n",
              "      <td>0.74</td>\n",
              "      <td>0.752512</td>\n",
              "      <td>0.74</td>\n",
              "      <td>0.743607</td>\n",
              "      <td>0.782986</td>\n",
              "      <td>0.26</td>\n",
              "      <td>QDA</td>\n",
              "    </tr>\n",
              "    <tr>\n",
              "      <th>34</th>\n",
              "      <td>0.000997</td>\n",
              "      <td>0.002992</td>\n",
              "      <td>0.64</td>\n",
              "      <td>0.654137</td>\n",
              "      <td>0.64</td>\n",
              "      <td>0.618125</td>\n",
              "      <td>0.702093</td>\n",
              "      <td>0.36</td>\n",
              "      <td>QDA</td>\n",
              "    </tr>\n",
              "    <tr>\n",
              "      <th>35</th>\n",
              "      <td>0.000997</td>\n",
              "      <td>0.002991</td>\n",
              "      <td>0.82</td>\n",
              "      <td>0.826047</td>\n",
              "      <td>0.82</td>\n",
              "      <td>0.797975</td>\n",
              "      <td>0.892857</td>\n",
              "      <td>0.18</td>\n",
              "      <td>QDA</td>\n",
              "    </tr>\n",
              "    <tr>\n",
              "      <th>36</th>\n",
              "      <td>0.000000</td>\n",
              "      <td>0.002992</td>\n",
              "      <td>0.70</td>\n",
              "      <td>0.713725</td>\n",
              "      <td>0.70</td>\n",
              "      <td>0.692187</td>\n",
              "      <td>0.783654</td>\n",
              "      <td>0.30</td>\n",
              "      <td>QDA</td>\n",
              "    </tr>\n",
              "    <tr>\n",
              "      <th>37</th>\n",
              "      <td>0.000000</td>\n",
              "      <td>0.002992</td>\n",
              "      <td>0.80</td>\n",
              "      <td>0.791608</td>\n",
              "      <td>0.80</td>\n",
              "      <td>0.794298</td>\n",
              "      <td>0.871102</td>\n",
              "      <td>0.20</td>\n",
              "      <td>QDA</td>\n",
              "    </tr>\n",
              "    <tr>\n",
              "      <th>38</th>\n",
              "      <td>0.000997</td>\n",
              "      <td>0.002992</td>\n",
              "      <td>0.80</td>\n",
              "      <td>0.800000</td>\n",
              "      <td>0.80</td>\n",
              "      <td>0.800000</td>\n",
              "      <td>0.857143</td>\n",
              "      <td>0.20</td>\n",
              "      <td>QDA</td>\n",
              "    </tr>\n",
              "    <tr>\n",
              "      <th>39</th>\n",
              "      <td>0.000998</td>\n",
              "      <td>0.002991</td>\n",
              "      <td>0.84</td>\n",
              "      <td>0.839583</td>\n",
              "      <td>0.84</td>\n",
              "      <td>0.838370</td>\n",
              "      <td>0.913333</td>\n",
              "      <td>0.16</td>\n",
              "      <td>QDA</td>\n",
              "    </tr>\n",
              "    <tr>\n",
              "      <th>40</th>\n",
              "      <td>0.001995</td>\n",
              "      <td>0.001995</td>\n",
              "      <td>0.78</td>\n",
              "      <td>0.780794</td>\n",
              "      <td>0.78</td>\n",
              "      <td>0.771542</td>\n",
              "      <td>0.838710</td>\n",
              "      <td>0.22</td>\n",
              "      <td>LDA</td>\n",
              "    </tr>\n",
              "    <tr>\n",
              "      <th>41</th>\n",
              "      <td>0.000997</td>\n",
              "      <td>0.002992</td>\n",
              "      <td>0.82</td>\n",
              "      <td>0.845263</td>\n",
              "      <td>0.82</td>\n",
              "      <td>0.829439</td>\n",
              "      <td>0.859079</td>\n",
              "      <td>0.18</td>\n",
              "      <td>LDA</td>\n",
              "    </tr>\n",
              "    <tr>\n",
              "      <th>42</th>\n",
              "      <td>0.000997</td>\n",
              "      <td>0.002992</td>\n",
              "      <td>0.66</td>\n",
              "      <td>0.655294</td>\n",
              "      <td>0.66</td>\n",
              "      <td>0.657386</td>\n",
              "      <td>0.696970</td>\n",
              "      <td>0.34</td>\n",
              "      <td>LDA</td>\n",
              "    </tr>\n",
              "    <tr>\n",
              "      <th>43</th>\n",
              "      <td>0.000997</td>\n",
              "      <td>0.002993</td>\n",
              "      <td>0.70</td>\n",
              "      <td>0.703905</td>\n",
              "      <td>0.70</td>\n",
              "      <td>0.701673</td>\n",
              "      <td>0.776042</td>\n",
              "      <td>0.30</td>\n",
              "      <td>LDA</td>\n",
              "    </tr>\n",
              "    <tr>\n",
              "      <th>44</th>\n",
              "      <td>0.000997</td>\n",
              "      <td>0.002992</td>\n",
              "      <td>0.72</td>\n",
              "      <td>0.778182</td>\n",
              "      <td>0.72</td>\n",
              "      <td>0.696043</td>\n",
              "      <td>0.771337</td>\n",
              "      <td>0.28</td>\n",
              "      <td>LDA</td>\n",
              "    </tr>\n",
              "    <tr>\n",
              "      <th>45</th>\n",
              "      <td>0.000998</td>\n",
              "      <td>0.002992</td>\n",
              "      <td>0.82</td>\n",
              "      <td>0.814851</td>\n",
              "      <td>0.82</td>\n",
              "      <td>0.806279</td>\n",
              "      <td>0.918651</td>\n",
              "      <td>0.18</td>\n",
              "      <td>LDA</td>\n",
              "    </tr>\n",
              "    <tr>\n",
              "      <th>46</th>\n",
              "      <td>0.000997</td>\n",
              "      <td>0.002992</td>\n",
              "      <td>0.68</td>\n",
              "      <td>0.728421</td>\n",
              "      <td>0.68</td>\n",
              "      <td>0.656667</td>\n",
              "      <td>0.798077</td>\n",
              "      <td>0.32</td>\n",
              "      <td>LDA</td>\n",
              "    </tr>\n",
              "    <tr>\n",
              "      <th>47</th>\n",
              "      <td>0.001995</td>\n",
              "      <td>0.001995</td>\n",
              "      <td>0.84</td>\n",
              "      <td>0.849905</td>\n",
              "      <td>0.84</td>\n",
              "      <td>0.843492</td>\n",
              "      <td>0.904366</td>\n",
              "      <td>0.16</td>\n",
              "      <td>LDA</td>\n",
              "    </tr>\n",
              "    <tr>\n",
              "      <th>48</th>\n",
              "      <td>0.000998</td>\n",
              "      <td>0.001994</td>\n",
              "      <td>0.80</td>\n",
              "      <td>0.800000</td>\n",
              "      <td>0.80</td>\n",
              "      <td>0.800000</td>\n",
              "      <td>0.847222</td>\n",
              "      <td>0.20</td>\n",
              "      <td>LDA</td>\n",
              "    </tr>\n",
              "    <tr>\n",
              "      <th>49</th>\n",
              "      <td>0.000997</td>\n",
              "      <td>0.002992</td>\n",
              "      <td>0.84</td>\n",
              "      <td>0.844118</td>\n",
              "      <td>0.84</td>\n",
              "      <td>0.836111</td>\n",
              "      <td>0.908333</td>\n",
              "      <td>0.16</td>\n",
              "      <td>LDA</td>\n",
              "    </tr>\n",
              "  </tbody>\n",
              "</table>\n",
              "</div>"
            ],
            "text/plain": [
              "    fit_time  score_time  test_accuracy  test_precision_weighted  \\\n",
              "0   0.037894    0.002992           0.76                 0.761497   \n",
              "1   0.025931    0.001994           0.82                 0.845263   \n",
              "2   0.022939    0.002991           0.66                 0.655294   \n",
              "3   0.025930    0.003989           0.68                 0.680000   \n",
              "4   0.030918    0.002991           0.70                 0.765000   \n",
              "5   0.015958    0.002992           0.82                 0.814851   \n",
              "6   0.022939    0.002992           0.68                 0.728421   \n",
              "7   0.023935    0.002992           0.84                 0.849905   \n",
              "8   0.027925    0.001995           0.80                 0.800000   \n",
              "9   0.025931    0.002992           0.84                 0.844118   \n",
              "10  0.122672    0.018949           0.74                 0.741842   \n",
              "11  0.125698    0.017950           0.78                 0.828810   \n",
              "12  0.120680    0.017948           0.66                 0.655294   \n",
              "13  0.119685    0.018916           0.66                 0.664312   \n",
              "14  0.119680    0.020944           0.66                 0.665662   \n",
              "15  0.131647    0.017984           0.78                 0.769302   \n",
              "16  0.122641    0.017952           0.70                 0.725714   \n",
              "17  0.121706    0.017940           0.86                 0.864048   \n",
              "18  0.121687    0.018918           0.82                 0.824381   \n",
              "19  0.121709    0.017951           0.78                 0.778608   \n",
              "20  0.000996    0.002961           0.74                 0.736429   \n",
              "21  0.000000    0.003026           0.74                 0.793175   \n",
              "22  0.000995    0.002960           0.66                 0.665000   \n",
              "23  0.001029    0.002994           0.72                 0.738442   \n",
              "24  0.000996    0.002992           0.66                 0.661042   \n",
              "25  0.001000    0.002989           0.82                 0.814851   \n",
              "26  0.000997    0.002992           0.70                 0.725714   \n",
              "27  0.000000    0.002995           0.84                 0.840000   \n",
              "28  0.000994    0.002995           0.74                 0.745905   \n",
              "29  0.000994    0.002993           0.84                 0.854762   \n",
              "30  0.001031    0.002958           0.76                 0.756720   \n",
              "31  0.000000    0.002992           0.72                 0.764574   \n",
              "32  0.000000    0.002992           0.64                 0.630095   \n",
              "33  0.000000    0.002992           0.74                 0.752512   \n",
              "34  0.000997    0.002992           0.64                 0.654137   \n",
              "35  0.000997    0.002991           0.82                 0.826047   \n",
              "36  0.000000    0.002992           0.70                 0.713725   \n",
              "37  0.000000    0.002992           0.80                 0.791608   \n",
              "38  0.000997    0.002992           0.80                 0.800000   \n",
              "39  0.000998    0.002991           0.84                 0.839583   \n",
              "40  0.001995    0.001995           0.78                 0.780794   \n",
              "41  0.000997    0.002992           0.82                 0.845263   \n",
              "42  0.000997    0.002992           0.66                 0.655294   \n",
              "43  0.000997    0.002993           0.70                 0.703905   \n",
              "44  0.000997    0.002992           0.72                 0.778182   \n",
              "45  0.000998    0.002992           0.82                 0.814851   \n",
              "46  0.000997    0.002992           0.68                 0.728421   \n",
              "47  0.001995    0.001995           0.84                 0.849905   \n",
              "48  0.000998    0.001994           0.80                 0.800000   \n",
              "49  0.000997    0.002992           0.84                 0.844118   \n",
              "\n",
              "    test_recall_weighted  test_f1_weighted  test_roc_auc  loss test   model  \n",
              "0                   0.76          0.748088      0.840407       0.24  LogReg  \n",
              "1                   0.82          0.829439      0.850949       0.18  LogReg  \n",
              "2                   0.66          0.657386      0.693405       0.34  LogReg  \n",
              "3                   0.68          0.680000      0.763889       0.32  LogReg  \n",
              "4                   0.70          0.670014      0.780998       0.30  LogReg  \n",
              "5                   0.82          0.806279      0.918651       0.18  LogReg  \n",
              "6                   0.68          0.656667      0.798077       0.32  LogReg  \n",
              "7                   0.84          0.843492      0.912682       0.16  LogReg  \n",
              "8                   0.80          0.800000      0.853175       0.20  LogReg  \n",
              "9                   0.84          0.836111      0.908333       0.16  LogReg  \n",
              "10                  0.74          0.723834      0.869270       0.26      RF  \n",
              "11                  0.78          0.796770      0.838753       0.22      RF  \n",
              "12                  0.66          0.657386      0.691622       0.34      RF  \n",
              "13                  0.66          0.661896      0.727431       0.34      RF  \n",
              "14                  0.66          0.648995      0.719807       0.34      RF  \n",
              "15                  0.78          0.753080      0.892857       0.22      RF  \n",
              "16                  0.70          0.687516      0.841346       0.30      RF  \n",
              "17                  0.86          0.861634      0.925156       0.14      RF  \n",
              "18                  0.82          0.821836      0.862103       0.18      RF  \n",
              "19                  0.78          0.778983      0.845833       0.22      RF  \n",
              "20                  0.74          0.730005      0.775891       0.26     GNB  \n",
              "21                  0.74          0.759819      0.796748       0.26     GNB  \n",
              "22                  0.66          0.662242      0.713012       0.34     GNB  \n",
              "23                  0.72          0.724667      0.769097       0.28     GNB  \n",
              "24                  0.66          0.653675      0.764895       0.34     GNB  \n",
              "25                  0.82          0.806279      0.908730       0.18     GNB  \n",
              "26                  0.70          0.687516      0.830128       0.30     GNB  \n",
              "27                  0.84          0.840000      0.889813       0.16     GNB  \n",
              "28                  0.74          0.742652      0.831349       0.26     GNB  \n",
              "29                  0.84          0.833155      0.891667       0.16     GNB  \n",
              "30                  0.76          0.757083      0.801358       0.24     QDA  \n",
              "31                  0.72          0.738275      0.802168       0.28     QDA  \n",
              "32                  0.64          0.634044      0.698752       0.36     QDA  \n",
              "33                  0.74          0.743607      0.782986       0.26     QDA  \n",
              "34                  0.64          0.618125      0.702093       0.36     QDA  \n",
              "35                  0.82          0.797975      0.892857       0.18     QDA  \n",
              "36                  0.70          0.692187      0.783654       0.30     QDA  \n",
              "37                  0.80          0.794298      0.871102       0.20     QDA  \n",
              "38                  0.80          0.800000      0.857143       0.20     QDA  \n",
              "39                  0.84          0.838370      0.913333       0.16     QDA  \n",
              "40                  0.78          0.771542      0.838710       0.22     LDA  \n",
              "41                  0.82          0.829439      0.859079       0.18     LDA  \n",
              "42                  0.66          0.657386      0.696970       0.34     LDA  \n",
              "43                  0.70          0.701673      0.776042       0.30     LDA  \n",
              "44                  0.72          0.696043      0.771337       0.28     LDA  \n",
              "45                  0.82          0.806279      0.918651       0.18     LDA  \n",
              "46                  0.68          0.656667      0.798077       0.32     LDA  \n",
              "47                  0.84          0.843492      0.904366       0.16     LDA  \n",
              "48                  0.80          0.800000      0.847222       0.20     LDA  \n",
              "49                  0.84          0.836111      0.908333       0.16     LDA  "
            ]
          },
          "execution_count": 128,
          "metadata": {},
          "output_type": "execute_result"
        }
      ],
      "source": [
        "mean_loss = final.groupby(['model']).mean()\n",
        "final"
      ]
    },
    {
      "cell_type": "code",
      "execution_count": null,
      "metadata": {
        "id": "GKOUFFFnZ_x3",
        "outputId": "af139537-e8ff-47db-d111-da630559dfff"
      },
      "outputs": [
        {
          "data": {
            "image/png": "[encoded data removed]",
            "text/plain": [
              "<Figure size 1080x720 with 1 Axes>"
            ]
          },
          "metadata": {
            "needs_background": "light"
          },
          "output_type": "display_data"
        }
      ],
      "source": [
        "b_plot = final.boxplot(column='test_accuracy', by='model', figsize=(15,10))"
      ]
    },
    {
      "cell_type": "code",
      "execution_count": null,
      "metadata": {
        "id": "mPCRCwGrZ_x3",
        "outputId": "51775a43-9eb4-4784-f0be-25ef1daf9809"
      },
      "outputs": [
        {
          "data": {
            "image/png": "[encoded data removed]",
            "text/plain": [
              "<Figure size 1200x640 with 1 Axes>"
            ]
          },
          "metadata": {
            "needs_background": "light"
          },
          "output_type": "display_data"
        }
      ],
      "source": [
        "plt.figure(figsize=(15, 8), dpi=80)\n",
        "plt.bar(np.array(['GNB', 'LDA', 'LogReg', 'QDA', 'RF']), mean_loss['loss test'].to_numpy())\n",
        "plt.ylabel(\"loss mean\")\n",
        "plt.show()"
      ]
    },
    {
      "cell_type": "code",
      "execution_count": null,
      "metadata": {
        "id": "Tb50gC94Z_x3"
      },
      "outputs": [],
      "source": []
    }
  ],
  "metadata": {
    "kernelspec": {
      "display_name": "Python 3",
      "language": "python",
      "name": "python3"
    },
    "language_info": {
      "codemirror_mode": {
        "name": "ipython",
        "version": 3
      },
      "file_extension": ".py",
      "mimetype": "text/x-python",
      "name": "python",
      "nbconvert_exporter": "python",
      "pygments_lexer": "ipython3",
      "version": "3.8.8"
    },
    "colab": {
      "provenance": [],
      "include_colab_link": true
    }
  },
  "nbformat": 4,
  "nbformat_minor": 0
}