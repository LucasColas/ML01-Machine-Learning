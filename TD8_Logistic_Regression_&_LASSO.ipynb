{
  "cells": [
    {
      "cell_type": "markdown",
      "metadata": {
        "id": "view-in-github",
        "colab_type": "text"
      },
      "source": [
        "<a href=\"https://colab.research.google.com/github/LucasColas/ML01-Machine-Learning-for-everyone/blob/main/TD8_Logistic_Regression_%26_LASSO.ipynb\" target=\"_parent\"><img src=\"https://colab.research.google.com/assets/colab-badge.svg\" alt=\"Open In Colab\"/></a>"
      ]
    },
    {
      "cell_type": "markdown",
      "metadata": {
        "id": "wwWF1ivDDVqa"
      },
      "source": [
        "# ML01 : TD8 - Régression Logistique - Partie 2\n",
        "\n",
        "Réalisé par Cyprien Gilet et Khaled Belahcene"
      ]
    },
    {
      "cell_type": "code",
      "execution_count": null,
      "metadata": {
        "id": "wqHCcuWqDVqj"
      },
      "outputs": [],
      "source": [
        "import numpy as np\n",
        "import pandas as pd\n",
        "import matplotlib.pyplot as plt\n",
        "\n",
        "\n",
        "from sklearn.model_selection import train_test_split\n",
        "from sklearn.linear_model import LogisticRegression\n",
        "from sklearn.discriminant_analysis import LinearDiscriminantAnalysis"
      ]
    },
    {
      "cell_type": "markdown",
      "metadata": {
        "id": "b3_Cm-4ZDVqq"
      },
      "source": [
        "# 1. Régression Logistique Scikit-Learn sur base de données Diabete_UCI\n",
        "\n",
        "Dans cette section nous souhaitons prendre en main l'algorithme de régression logistique proposé par Scikit-Learn sur la base de données Diabete_UCI. Concernant cette base de données, l'objectif est de diagnostiquer la variable d'intérêt diabète. \n",
        "Le code ci-dessous permet d'importer la base de données Diabete_UCI."
      ]
    },
    {
      "cell_type": "code",
      "execution_count": null,
      "metadata": {
        "colab": {
          "base_uri": "https://localhost:8080/"
        },
        "id": "44TcUGTWDVqv",
        "outputId": "4bf6f1b1-065d-4e1d-8730-322b20fe07b0"
      },
      "outputs": [
        {
          "name": "stdout",
          "output_type": "stream",
          "text": [
            "['Pregnancies' 'Glucose' 'BloodPressure' 'SkinThickness' 'Insulin' 'BMI'\n",
            " 'DiabetesPedigreeFunction' 'Age' 'Outcome']\n",
            "df =      Pregnancies  Glucose  BloodPressure  SkinThickness  Insulin   BMI  \\\n",
            "0              6      148             72             35        0  33.6   \n",
            "1              1       85             66             29        0  26.6   \n",
            "2              8      183             64              0        0  23.3   \n",
            "3              1       89             66             23       94  28.1   \n",
            "4              0      137             40             35      168  43.1   \n",
            "..           ...      ...            ...            ...      ...   ...   \n",
            "763           10      101             76             48      180  32.9   \n",
            "764            2      122             70             27        0  36.8   \n",
            "765            5      121             72             23      112  26.2   \n",
            "766            1      126             60              0        0  30.1   \n",
            "767            1       93             70             31        0  30.4   \n",
            "\n",
            "     DiabetesPedigreeFunction  Age  Outcome  \n",
            "0                       0.627   50        1  \n",
            "1                       0.351   31        0  \n",
            "2                       0.672   32        1  \n",
            "3                       0.167   21        0  \n",
            "4                       2.288   33        1  \n",
            "..                        ...  ...      ...  \n",
            "763                     0.171   63        0  \n",
            "764                     0.340   27        0  \n",
            "765                     0.245   30        0  \n",
            "766                     0.349   47        1  \n",
            "767                     0.315   23        0  \n",
            "\n",
            "[768 rows x 9 columns]\n",
            "<class 'pandas.core.frame.DataFrame'>\n",
            "RangeIndex: 768 entries, 0 to 767\n",
            "Data columns (total 9 columns):\n",
            " #   Column                    Non-Null Count  Dtype  \n",
            "---  ------                    --------------  -----  \n",
            " 0   Pregnancies               768 non-null    int64  \n",
            " 1   Glucose                   768 non-null    int64  \n",
            " 2   BloodPressure             768 non-null    int64  \n",
            " 3   SkinThickness             768 non-null    int64  \n",
            " 4   Insulin                   768 non-null    int64  \n",
            " 5   BMI                       768 non-null    float64\n",
            " 6   DiabetesPedigreeFunction  768 non-null    float64\n",
            " 7   Age                       768 non-null    int64  \n",
            " 8   Outcome                   768 non-null    int64  \n",
            "dtypes: float64(2), int64(7)\n",
            "memory usage: 54.1 KB\n",
            "df_Info = None\n",
            "np.unique(YR) = [0 1]\n"
          ]
        }
      ],
      "source": [
        "df = pd.read_csv('diabetes_UCI.csv')\n",
        "print(df.columns.values)\n",
        "print('df =', df)\n",
        "print('df_Info =', df.info())\n",
        "\n",
        "df = df.reset_index()\n",
        "df.drop(['index'], axis='columns', inplace=True)\n",
        "\n",
        "YRdf = pd.DataFrame(df['Outcome'])\n",
        "YR = np.array(YRdf).ravel()\n",
        "print('np.unique(YR) =', np.unique(YR))\n",
        "\n",
        "Xdf = df.copy()\n",
        "Xdf.drop(['Outcome'], axis='columns', inplace=True)\n",
        "\n",
        "K = int(np.max(YR))\n",
        "X = np.array(Xdf)"
      ]
    },
    {
      "cell_type": "markdown",
      "metadata": {
        "id": "83UQotktDVq0"
      },
      "source": [
        "**Question 1.1.** Diviser aléatoirement la base de données en une base d'apprentissage et une base de test : \n",
        "\n",
        "- La base d'apprentissage contiendra $n=500$ observations (patients).\n",
        "- La base de test contiendra les observations (patients) restants (soit 268)."
      ]
    },
    {
      "cell_type": "code",
      "execution_count": null,
      "metadata": {
        "colab": {
          "base_uri": "https://localhost:8080/"
        },
        "id": "NK3sU6N6DVq3",
        "outputId": "8741760d-35ca-4e1e-a894-ffc34165044d"
      },
      "outputs": [
        {
          "data": {
            "text/plain": [
              "array([[  6.   , 148.   ,  72.   , ...,  33.6  ,   0.627,  50.   ],\n",
              "       [  1.   ,  85.   ,  66.   , ...,  26.6  ,   0.351,  31.   ],\n",
              "       [  8.   , 183.   ,  64.   , ...,  23.3  ,   0.672,  32.   ],\n",
              "       ...,\n",
              "       [  5.   , 121.   ,  72.   , ...,  26.2  ,   0.245,  30.   ],\n",
              "       [  1.   , 126.   ,  60.   , ...,  30.1  ,   0.349,  47.   ],\n",
              "       [  1.   ,  93.   ,  70.   , ...,  30.4  ,   0.315,  23.   ]])"
            ]
          },
          "execution_count": 26,
          "metadata": {},
          "output_type": "execute_result"
        }
      ],
      "source": [
        "X"
      ]
    },
    {
      "cell_type": "code",
      "execution_count": null,
      "metadata": {
        "id": "pYZ1neAYDVq7"
      },
      "outputs": [],
      "source": [
        "# RÉPONSE À LA QUESTION 1.1:\n",
        "x_train, x_test, y_train, y_test = train_test_split(X, YR, test_size=1-500/X.shape[0])"
      ]
    },
    {
      "cell_type": "code",
      "execution_count": null,
      "metadata": {
        "colab": {
          "base_uri": "https://localhost:8080/"
        },
        "id": "m8_2_9OiDVq-",
        "outputId": "afed89e5-e7e7-44aa-bf75-ab2529dc2af9"
      },
      "outputs": [
        {
          "data": {
            "text/plain": [
              "(500, 8)"
            ]
          },
          "execution_count": 5,
          "metadata": {},
          "output_type": "execute_result"
        }
      ],
      "source": [
        "x_train.shape"
      ]
    },
    {
      "cell_type": "code",
      "execution_count": null,
      "metadata": {
        "colab": {
          "base_uri": "https://localhost:8080/"
        },
        "id": "mizDKnv0DVrB",
        "outputId": "ae79d575-ece2-466a-e29f-7297492d04cd"
      },
      "outputs": [
        {
          "data": {
            "text/plain": [
              "array([0, 0, 0, 1, 1, 0, 0, 1, 0, 0, 0, 1, 0, 0, 1, 0, 0, 0, 1, 0, 0, 0,\n",
              "       0, 0, 0, 0, 1, 1, 1, 0, 0, 1, 1, 0, 0, 0, 0, 0, 1, 0, 0, 0, 0, 0,\n",
              "       0, 0, 1, 0, 0, 0, 0, 1, 0, 0, 1, 0, 1, 1, 1, 1, 1, 0, 1, 1, 0, 0,\n",
              "       0, 1, 0, 0, 1, 1, 0, 1, 1, 1, 0, 1, 1, 0, 0, 0, 1, 0, 1, 1, 0, 1,\n",
              "       1, 0, 1, 1, 1, 0, 1, 1, 0, 0, 0, 0, 1, 0, 1, 0, 0, 0, 0, 0, 1, 1,\n",
              "       0, 0, 0, 1, 0, 0, 0, 1, 0, 0, 1, 1, 0, 0, 1, 0, 0, 0, 0, 0, 1, 0,\n",
              "       0, 1, 0, 0, 0, 1, 1, 0, 0, 0, 0, 1, 0, 0, 0, 0, 0, 0, 0, 0, 1, 1,\n",
              "       0, 1, 1, 1, 0, 1, 1, 0, 0, 1, 0, 0, 0, 1, 0, 0, 1, 0, 0, 0, 1, 0,\n",
              "       0, 1, 0, 0, 1, 1, 1, 1, 0, 1, 0, 1, 1, 1, 1, 0, 0, 1, 1, 1, 0, 1,\n",
              "       0, 1, 0, 1, 1, 1, 0, 0, 1, 1, 0, 0, 1, 0, 1, 0, 1, 1, 0, 0, 0, 0,\n",
              "       0, 1, 1, 1, 0, 0, 0, 0, 0, 0, 0, 0, 0, 0, 1, 0, 1, 0, 0, 0, 0, 0,\n",
              "       0, 1, 0, 1, 0, 0, 0, 0, 1, 0, 1, 0, 0, 1, 0, 0, 1, 0, 0, 0, 1, 1,\n",
              "       0, 0, 0, 0, 0, 0, 0, 0, 0, 0, 1, 0, 0, 0, 0, 1, 0, 1, 0, 1, 0, 1,\n",
              "       0, 0, 1, 1, 0, 0, 0, 0, 0, 0, 0, 0, 0, 1, 1, 0, 0, 1, 1, 0, 1, 1,\n",
              "       0, 0, 0, 0, 1, 1, 0, 0, 0, 1, 1, 0, 0, 0, 0, 0, 0, 0, 0, 1, 1, 1,\n",
              "       1, 0, 0, 0, 0, 0, 0, 1, 0, 1, 0, 0, 1, 0, 0, 0, 1, 0, 0, 1, 0, 0,\n",
              "       0, 0, 0, 0, 0, 0, 0, 0, 0, 0, 0, 0, 0, 0, 1, 0, 0, 1, 0, 0, 0, 1,\n",
              "       0, 0, 0, 0, 1, 0, 0, 1, 0, 0, 0, 1, 0, 1, 0, 1, 1, 0, 0, 1, 0, 0,\n",
              "       1, 1, 0, 0, 0, 1, 0, 0, 0, 0, 0, 1, 1, 0, 0, 0, 0, 1, 0, 0, 1, 1,\n",
              "       1, 1, 1, 0, 0, 0, 0, 0, 1, 0, 0, 0, 0, 0, 0, 0, 0, 0, 0, 0, 0, 1,\n",
              "       0, 0, 0, 1, 0, 0, 0, 0, 1, 0, 0, 0, 0, 0, 1, 1, 1, 0, 1, 0, 0, 0,\n",
              "       0, 1, 1, 0, 0, 0, 1, 0, 1, 0, 0, 0, 0, 0, 0, 0, 0, 0, 0, 1, 1, 1,\n",
              "       0, 1, 0, 0, 1, 0, 0, 0, 1, 0, 1, 1, 0, 0, 0, 0])"
            ]
          },
          "execution_count": 6,
          "metadata": {},
          "output_type": "execute_result"
        }
      ],
      "source": [
        "y_train"
      ]
    },
    {
      "cell_type": "code",
      "execution_count": null,
      "metadata": {
        "colab": {
          "base_uri": "https://localhost:8080/"
        },
        "id": "OhED-NDsDVrH",
        "outputId": "501a9796-6839-45d3-8b3b-94b67b5e06ad"
      },
      "outputs": [
        {
          "data": {
            "text/plain": [
              "(268, 8)"
            ]
          },
          "execution_count": 8,
          "metadata": {},
          "output_type": "execute_result"
        }
      ],
      "source": [
        "x_test.shape"
      ]
    },
    {
      "cell_type": "markdown",
      "metadata": {
        "id": "TkRpnNuhDVrK"
      },
      "source": [
        "**Question 1.2.** À partir de la base d'apprentissage calibrer la Régression Logistique en appliquant la fonction proposée par Scikit-Learn. \n",
        "\n",
        "- Quelle est l'accuracy globale sur la base d'apprentissage ?\n",
        "- Quelle est l'accuracy globale sur la base de test ?\n"
      ]
    },
    {
      "cell_type": "code",
      "execution_count": null,
      "metadata": {
        "id": "RusdBQW7DVrN"
      },
      "outputs": [],
      "source": [
        "# RÉPONSE À LA QUESTION 1.2:\n",
        "model = LogisticRegression(max_iter=1000).fit(x_train, y_train)"
      ]
    },
    {
      "cell_type": "code",
      "execution_count": null,
      "metadata": {
        "colab": {
          "base_uri": "https://localhost:8080/"
        },
        "id": "0hL4pOkHDVrO",
        "outputId": "4b1dfa49-a7b8-45d1-8eae-85be67b336c9"
      },
      "outputs": [
        {
          "data": {
            "text/plain": [
              "0.786"
            ]
          },
          "execution_count": 9,
          "metadata": {},
          "output_type": "execute_result"
        }
      ],
      "source": [
        "#accuracy training set\n",
        "model.score(x_train, y_train)"
      ]
    },
    {
      "cell_type": "code",
      "execution_count": null,
      "metadata": {
        "colab": {
          "base_uri": "https://localhost:8080/"
        },
        "id": "9zuTBDW-DVrQ",
        "outputId": "33417827-d7fc-4c8e-f9f5-98797df8163c"
      },
      "outputs": [
        {
          "data": {
            "text/plain": [
              "0.7388059701492538"
            ]
          },
          "execution_count": 10,
          "metadata": {},
          "output_type": "execute_result"
        }
      ],
      "source": [
        "#accuracy test set\n",
        "model.score(x_test, y_test)"
      ]
    },
    {
      "cell_type": "markdown",
      "metadata": {
        "id": "RmiFswHIDVrS"
      },
      "source": [
        "**Question 1.3.** Comparer ces résultats avec ceux obtenus par le classifieur LDA (cf TD 4). "
      ]
    },
    {
      "cell_type": "code",
      "execution_count": null,
      "metadata": {
        "colab": {
          "base_uri": "https://localhost:8080/"
        },
        "id": "fLe4R3PLDVrT",
        "outputId": "93fd3375-c188-4e98-daf3-3771d2d030bc"
      },
      "outputs": [
        {
          "data": {
            "text/plain": [
              "LinearDiscriminantAnalysis()"
            ]
          },
          "execution_count": 11,
          "metadata": {},
          "output_type": "execute_result"
        }
      ],
      "source": [
        "# RÉPONSE À LA QUESTION 1.3:\n",
        "LDA = LinearDiscriminantAnalysis()\n",
        "LDA.fit(x_train, y_train)"
      ]
    },
    {
      "cell_type": "code",
      "execution_count": null,
      "metadata": {
        "colab": {
          "base_uri": "https://localhost:8080/"
        },
        "id": "Hm3AF3A5DVrV",
        "outputId": "ef791efc-5f3f-4120-f5ab-b4ec9d50b8b3"
      },
      "outputs": [
        {
          "data": {
            "text/plain": [
              "0.788"
            ]
          },
          "execution_count": 12,
          "metadata": {},
          "output_type": "execute_result"
        }
      ],
      "source": [
        "LDA.score(x_train, y_train)"
      ]
    },
    {
      "cell_type": "code",
      "execution_count": null,
      "metadata": {
        "colab": {
          "base_uri": "https://localhost:8080/"
        },
        "id": "6PNtwMJADVrX",
        "outputId": "0dd994d1-a655-4178-aeb1-b51e21c004df"
      },
      "outputs": [
        {
          "data": {
            "text/plain": [
              "0.7238805970149254"
            ]
          },
          "execution_count": 13,
          "metadata": {},
          "output_type": "execute_result"
        }
      ],
      "source": [
        "LDA.score(x_test, y_test)"
      ]
    },
    {
      "cell_type": "markdown",
      "metadata": {
        "id": "yn3_xakmDVrY"
      },
      "source": [
        "**Question 1.4.** Interprétation du modèle de Régression Logistique : \n",
        "\n",
        "- Quel est le score de probabilité estimé par la Régression Logistique que le deuxième patient de la base de test soit diabétique ?\n",
        "- Quel est le score de probabilité estimé par la Régression Logistique que le cinquième patient de la base de test soit diabétique ?\n",
        "- Calculer le Odds-Ratio d'être diabétique pour un patient de 65 ans avec une pression sanguine de 70 par rapport à un patient de 33 ans avec une pression sanguine de 40."
      ]
    },
    {
      "cell_type": "code",
      "execution_count": null,
      "metadata": {
        "id": "LWWTqOLGDVrZ"
      },
      "outputs": [],
      "source": [
        "# score de probabilité estimé par la Régression Logistique \n",
        "#que le deuxième patient de la base de test soit diabétique\n",
        "a = x_test[1,:]\n",
        "a = np.reshape(a, (-1,8))"
      ]
    },
    {
      "cell_type": "code",
      "execution_count": null,
      "metadata": {
        "colab": {
          "base_uri": "https://localhost:8080/"
        },
        "id": "qmUV6XEpDVra",
        "outputId": "a5b83e15-5bfb-43dc-ef80-c08db695fadd"
      },
      "outputs": [
        {
          "data": {
            "text/plain": [
              "1"
            ]
          },
          "execution_count": 15,
          "metadata": {},
          "output_type": "execute_result"
        }
      ],
      "source": [
        "y_test[1]"
      ]
    },
    {
      "cell_type": "code",
      "execution_count": null,
      "metadata": {
        "colab": {
          "base_uri": "https://localhost:8080/"
        },
        "id": "V7sTlc9aDVrb",
        "outputId": "40ecb783-8b1e-4a6a-84f3-ecb21a47a37b"
      },
      "outputs": [
        {
          "data": {
            "text/plain": [
              "(1, 8)"
            ]
          },
          "execution_count": 16,
          "metadata": {},
          "output_type": "execute_result"
        }
      ],
      "source": [
        "a.shape"
      ]
    },
    {
      "cell_type": "code",
      "execution_count": null,
      "metadata": {
        "colab": {
          "base_uri": "https://localhost:8080/"
        },
        "id": "oqvvVw55DVrb",
        "outputId": "736f2800-e27a-49da-a165-c28f3987b813"
      },
      "outputs": [
        {
          "data": {
            "text/plain": [
              "0.6983246653864696"
            ]
          },
          "execution_count": 17,
          "metadata": {},
          "output_type": "execute_result"
        }
      ],
      "source": [
        "\n",
        "model.predict_proba(a)[0][0]\n"
      ]
    },
    {
      "cell_type": "code",
      "execution_count": null,
      "metadata": {
        "colab": {
          "base_uri": "https://localhost:8080/"
        },
        "id": "rnEffAh6DVrc",
        "outputId": "8c070e95-0d0d-4896-da2c-8de092ec0003"
      },
      "outputs": [
        {
          "name": "stdout",
          "output_type": "stream",
          "text": [
            "y real :  0\n"
          ]
        },
        {
          "data": {
            "text/plain": [
              "array([[0.97235791, 0.02764209]])"
            ]
          },
          "execution_count": 18,
          "metadata": {},
          "output_type": "execute_result"
        }
      ],
      "source": [
        "#Score de probabilité estimé par la Régression Logistique \n",
        "#que le cinquième patient de la base de test soit diabétique ?\n",
        "b = x_test[4,:]\n",
        "b = np.reshape(b, (-1, 8))\n",
        "print(\"y real : \", y_test[4])\n",
        "model.predict_proba(b)"
      ]
    },
    {
      "cell_type": "code",
      "execution_count": null,
      "metadata": {
        "colab": {
          "base_uri": "https://localhost:8080/"
        },
        "id": "f1k26wFGDVrd",
        "outputId": "146b4fea-429e-4b05-a891-7727635b272a"
      },
      "outputs": [
        {
          "data": {
            "text/plain": [
              "array([-9.44358324])"
            ]
          },
          "execution_count": 19,
          "metadata": {},
          "output_type": "execute_result"
        }
      ],
      "source": [
        "model.intercept_ #wo"
      ]
    },
    {
      "cell_type": "code",
      "execution_count": null,
      "metadata": {
        "id": "_bcOlpY3DVre"
      },
      "outputs": [],
      "source": [
        "weights = model.coef_"
      ]
    },
    {
      "cell_type": "code",
      "execution_count": null,
      "metadata": {
        "colab": {
          "base_uri": "https://localhost:8080/"
        },
        "id": "kF9PgfkkDVre",
        "outputId": "70861809-dd19-46a5-a369-e29c13d0995a"
      },
      "outputs": [
        {
          "data": {
            "text/plain": [
              "(1, 8)"
            ]
          },
          "execution_count": 21,
          "metadata": {},
          "output_type": "execute_result"
        }
      ],
      "source": [
        "weights.shape"
      ]
    },
    {
      "cell_type": "code",
      "execution_count": null,
      "metadata": {
        "id": "_sGveUARDVrf"
      },
      "outputs": [],
      "source": [
        "bp = weights[0,2] #blood pressure"
      ]
    },
    {
      "cell_type": "code",
      "execution_count": null,
      "metadata": {
        "colab": {
          "base_uri": "https://localhost:8080/"
        },
        "id": "_oIO3KfHDVrf",
        "outputId": "366f90e5-bb92-44c8-fcfc-f14611fdd127"
      },
      "outputs": [
        {
          "data": {
            "text/plain": [
              "0.01355615186454198"
            ]
          },
          "execution_count": 23,
          "metadata": {},
          "output_type": "execute_result"
        }
      ],
      "source": [
        "age = weights[0,7] #age\n",
        "age"
      ]
    },
    {
      "cell_type": "code",
      "execution_count": null,
      "metadata": {
        "colab": {
          "base_uri": "https://localhost:8080/"
        },
        "id": "z3PpZrGkDVrg",
        "outputId": "1137fef5-ad54-452f-9393-e5d398fc9cb4"
      },
      "outputs": [
        {
          "data": {
            "text/plain": [
              "1.6513243774982462"
            ]
          },
          "execution_count": 24,
          "metadata": {},
          "output_type": "execute_result"
        }
      ],
      "source": [
        "#Odds-Ratio d'être diabétique pour un patient de 65 ans avec \n",
        "#une pression sanguine de 70 par rapport \n",
        "#à un patient de 33 ans avec une pression sanguine de 40.\n",
        "\n",
        "Odds_ratio = np.exp(37*age)\n",
        "Odds_ratio"
      ]
    },
    {
      "cell_type": "markdown",
      "metadata": {
        "id": "FHYrt-LEDVrh"
      },
      "source": [
        "# 2. Régularisation LASSO sur base de données Diabete_UCI\n",
        "\n",
        "Dans cette section nous souhaitons sélectionner un petit nombre de variables permettant d'expliquer la variable d'intérêt diabète. \n",
        "Le code ci-dessous permet d'importer la base de données Diabete_UCI."
      ]
    },
    {
      "cell_type": "markdown",
      "metadata": {
        "id": "gcXQj19ZDVrh"
      },
      "source": [
        "**Question 2.1.** À partir de l'aide proposée par Scikit-Learn, implémenter un algorithme permettant de sélectionner les 3 variables les plus linéairement pertinentes à partir d'une régularisation LASSO pour expliquer la variable Diabète.\n",
        "- Afficher en parallèle sur deux figures l'évolution des poids $\\beta$ ainsi que de l'accuracy globale en fonction de l'hyperparamètre de régularisation $\\lambda$.\n",
        "- Quel hyperparamètre de régularisation $\\lambda$ choisireriez-vous pour sélectionner les 4 variables les plus pertinentes ? \n",
        "- Quelles seraient ainsi les 4 variables les plus pertinentes ?"
      ]
    },
    {
      "cell_type": "code",
      "execution_count": null,
      "metadata": {
        "colab": {
          "base_uri": "https://localhost:8080/"
        },
        "id": "go6okuPbGp79",
        "outputId": "b3247eb7-876a-49e6-8763-51218d9544fc"
      },
      "outputs": [
        {
          "data": {
            "text/plain": [
              "(999,)"
            ]
          },
          "execution_count": 65,
          "metadata": {},
          "output_type": "execute_result"
        }
      ],
      "source": [
        "np.arange(10e-5, 10e-2, 0.0001).shape"
      ]
    },
    {
      "cell_type": "code",
      "execution_count": null,
      "metadata": {
        "id": "4W4YN_eODVrh"
      },
      "outputs": [],
      "source": [
        "# RÉPONSE À LA QUESTION 2.1:\n",
        "from sklearn.linear_model import LogisticRegression\n",
        "\n",
        "np.random.seed(407)\n",
        "\n",
        "#model = LogisticRegression(penalty='l1',max_iter=1000, solver='liblinear').fit(x_train, y_train)\n",
        "#alpha = 10e-4\n",
        "alphas = np.arange(10e-5, 10e-2, 0.0001)\n",
        "res = np.ones((alphas.shape[0], 8))\n",
        "acc = np.zeros((1, alphas.shape[0]))\n",
        "\n",
        "for i,alpha in enumerate(alphas): \n",
        "    #print(i, alpha)\n",
        "    model2 = LogisticRegression(max_iter=10000, C=alpha, penalty='l1', solver='liblinear')\n",
        "    model2.fit(x_train, y_train)\n",
        "    weights2 = model2.coef_\n",
        "    #print(model2.coef_)\n",
        "    acc[0, i] = model2.score(x_train, y_train)\n",
        "    for j in range(weights2.shape[1]):\n",
        "      res[i, j] = weights2[0,j]\n",
        "    "
      ]
    },
    {
      "cell_type": "code",
      "execution_count": null,
      "metadata": {
        "id": "PvWYEJgkDVrj"
      },
      "outputs": [],
      "source": [
        "plt.plot(alphas, acc.ravel())\n",
        "plt.show"
      ]
    },
    {
      "cell_type": "code",
      "execution_count": null,
      "metadata": {
        "id": "Nw1C44_CKbDI",
        "outputId": "a8717214-5d32-4d77-8aa3-cd5c91d12b02"
      },
      "outputs": [
        {
          "data": {
            "text/plain": [
              "<matplotlib.collections.LineCollection at 0x29e6a3395e0>"
            ]
          },
          "execution_count": 67,
          "metadata": {},
          "output_type": "execute_result"
        },
        {
          "data": {
            "text/plain": [
              "<Figure size 2280x1080 with 0 Axes>"
            ]
          },
          "metadata": {},
          "output_type": "display_data"
        },
        {
          "data": {
            "image/png": "[encoded data removed]",
            "text/plain": [
              "<Figure size 1584x2160 with 2 Axes>"
            ]
          },
          "metadata": {
            "needs_background": "light"
          },
          "output_type": "display_data"
        }
      ],
      "source": [
        "plt.figure(figsize=(19, 9), dpi=120)\n",
        "fig, (ax1, ax2) = plt.subplots(2, 1, figsize=(22, 30))\n",
        "\n",
        "ax1.plot(alphas, acc.ravel())\n",
        "ax2.plot(alphas, res[:, 0], color='red', label='weight 1')\n",
        "ax2.plot(alphas, res[:, 1], color='blue', label='weight 2')\n",
        "ax2.plot(alphas, res[:, 2], color='green', label='weight 3')\n",
        "ax2.plot(alphas, res[:, 3], color='yellow', label='weight 4')\n",
        "ax2.plot(alphas, res[:, 4], color='orange', label='weight 5')\n",
        "ax2.plot(alphas, res[:, 5], color='purple', label='weight 6')\n",
        "ax2.plot(alphas, res[:, 6], color='pink', label='weight 7')\n",
        "ax2.plot(alphas, res[:, 7], color='black', label='weight 8')\n",
        "ax2.legend()\n",
        "\n",
        "ax1.set(xlabel='Lambda', ylabel='accuracy')\n",
        "ax2.set(xlabel='Lambda', ylabel='Weights')\n",
        "ax2.set_xscale('log')\n",
        "ax1.set_xscale('log')\n",
        "ax2.hlines(y=0, xmin=0, xmax=10e-3)"
      ]
    },
    {
      "cell_type": "markdown",
      "metadata": {
        "id": "r3w08p6oDVrk"
      },
      "source": [
        "# 3. Extension au contexte multi-class sur base de données Abalone :\n",
        "\n",
        "Dans cette section nous souhaitons appliquer la régression logistique lorsque le nombre de classe est supérieur à 2 ($K\\geq 2$).\n",
        "Pour ce faire nous allons considérer la base de données Abalone.\n",
        "Plus de détails concernant cette base de données sont disponibles ici : https://www.kaggle.com/datasets/rodolfomendes/abalone-dataset\n",
        "\n",
        "- L'objectif pour cette base de données connue est de prédire l'âge d'un coquillage (Abalone) en fonction de 8 variables descriptives.\n",
        "- Nous considérons 5 classes à prédire (5 tranches d'âges différentes) {A1, A2, A3, A4, A5} vérifiant les âges suivants \n",
        "{$[\\leq 4], [5, 10], [11, 15], [16, 20], [\\geq 21]$}.\n",
        "- À noter que la première variable descriptive (caractérisant le sexe) est catégorielle à 3 valeurs possibles :\n",
        "    - 1 si M\n",
        "    - 2 si F\n",
        "    - 3 si I (Nourrisson)\n",
        "    \n",
        "Le code ci-dessous permet d'importer la base de données Abalone. "
      ]
    },
    {
      "cell_type": "code",
      "execution_count": null,
      "metadata": {
        "id": "RHAlAlTpDVrk"
      },
      "outputs": [],
      "source": [
        "### Load data\n",
        "from scipy.io import loadmat\n",
        "data = loadmat('abalone_data.mat')\n",
        "data.keys()\n",
        "\n",
        "K = int(data['K'][0][0])\n",
        "Xdf = pd.DataFrame(data['X'])\n",
        "YRdf = pd.DataFrame(data['YR'], columns = ['Labels'])\n",
        "YR = np.array(YRdf).ravel()"
      ]
    },
    {
      "cell_type": "code",
      "execution_count": null,
      "metadata": {
        "id": "LLU6CkIJDVrl",
        "outputId": "ffaa6fe2-d70a-42f4-d8f1-3dba33be0a69",
        "scrolled": true
      },
      "outputs": [
        {
          "data": {
            "text/html": [
              "<div>\n",
              "<style scoped>\n",
              "    .dataframe tbody tr th:only-of-type {\n",
              "        vertical-align: middle;\n",
              "    }\n",
              "\n",
              "    .dataframe tbody tr th {\n",
              "        vertical-align: top;\n",
              "    }\n",
              "\n",
              "    .dataframe thead th {\n",
              "        text-align: right;\n",
              "    }\n",
              "</style>\n",
              "<table border=\"1\" class=\"dataframe\">\n",
              "  <thead>\n",
              "    <tr style=\"text-align: right;\">\n",
              "      <th></th>\n",
              "      <th>0</th>\n",
              "      <th>1</th>\n",
              "      <th>2</th>\n",
              "      <th>3</th>\n",
              "      <th>4</th>\n",
              "      <th>5</th>\n",
              "      <th>6</th>\n",
              "      <th>7</th>\n",
              "    </tr>\n",
              "  </thead>\n",
              "  <tbody>\n",
              "    <tr>\n",
              "      <th>0</th>\n",
              "      <td>3.0</td>\n",
              "      <td>0.455</td>\n",
              "      <td>0.365</td>\n",
              "      <td>0.095</td>\n",
              "      <td>0.5140</td>\n",
              "      <td>0.2245</td>\n",
              "      <td>0.1010</td>\n",
              "      <td>0.1500</td>\n",
              "    </tr>\n",
              "    <tr>\n",
              "      <th>1</th>\n",
              "      <td>3.0</td>\n",
              "      <td>0.350</td>\n",
              "      <td>0.265</td>\n",
              "      <td>0.090</td>\n",
              "      <td>0.2255</td>\n",
              "      <td>0.0995</td>\n",
              "      <td>0.0485</td>\n",
              "      <td>0.0700</td>\n",
              "    </tr>\n",
              "    <tr>\n",
              "      <th>2</th>\n",
              "      <td>1.0</td>\n",
              "      <td>0.530</td>\n",
              "      <td>0.420</td>\n",
              "      <td>0.135</td>\n",
              "      <td>0.6770</td>\n",
              "      <td>0.2565</td>\n",
              "      <td>0.1415</td>\n",
              "      <td>0.2100</td>\n",
              "    </tr>\n",
              "    <tr>\n",
              "      <th>3</th>\n",
              "      <td>3.0</td>\n",
              "      <td>0.440</td>\n",
              "      <td>0.365</td>\n",
              "      <td>0.125</td>\n",
              "      <td>0.5160</td>\n",
              "      <td>0.2155</td>\n",
              "      <td>0.1140</td>\n",
              "      <td>0.1550</td>\n",
              "    </tr>\n",
              "    <tr>\n",
              "      <th>4</th>\n",
              "      <td>2.0</td>\n",
              "      <td>0.330</td>\n",
              "      <td>0.255</td>\n",
              "      <td>0.080</td>\n",
              "      <td>0.2050</td>\n",
              "      <td>0.0895</td>\n",
              "      <td>0.0395</td>\n",
              "      <td>0.0550</td>\n",
              "    </tr>\n",
              "    <tr>\n",
              "      <th>...</th>\n",
              "      <td>...</td>\n",
              "      <td>...</td>\n",
              "      <td>...</td>\n",
              "      <td>...</td>\n",
              "      <td>...</td>\n",
              "      <td>...</td>\n",
              "      <td>...</td>\n",
              "      <td>...</td>\n",
              "    </tr>\n",
              "    <tr>\n",
              "      <th>4172</th>\n",
              "      <td>1.0</td>\n",
              "      <td>0.565</td>\n",
              "      <td>0.450</td>\n",
              "      <td>0.165</td>\n",
              "      <td>0.8870</td>\n",
              "      <td>0.3700</td>\n",
              "      <td>0.2390</td>\n",
              "      <td>0.2490</td>\n",
              "    </tr>\n",
              "    <tr>\n",
              "      <th>4173</th>\n",
              "      <td>3.0</td>\n",
              "      <td>0.590</td>\n",
              "      <td>0.440</td>\n",
              "      <td>0.135</td>\n",
              "      <td>0.9660</td>\n",
              "      <td>0.4390</td>\n",
              "      <td>0.2145</td>\n",
              "      <td>0.2605</td>\n",
              "    </tr>\n",
              "    <tr>\n",
              "      <th>4174</th>\n",
              "      <td>3.0</td>\n",
              "      <td>0.600</td>\n",
              "      <td>0.475</td>\n",
              "      <td>0.205</td>\n",
              "      <td>1.1760</td>\n",
              "      <td>0.5255</td>\n",
              "      <td>0.2875</td>\n",
              "      <td>0.3080</td>\n",
              "    </tr>\n",
              "    <tr>\n",
              "      <th>4175</th>\n",
              "      <td>1.0</td>\n",
              "      <td>0.625</td>\n",
              "      <td>0.485</td>\n",
              "      <td>0.150</td>\n",
              "      <td>1.0945</td>\n",
              "      <td>0.5310</td>\n",
              "      <td>0.2610</td>\n",
              "      <td>0.2960</td>\n",
              "    </tr>\n",
              "    <tr>\n",
              "      <th>4176</th>\n",
              "      <td>3.0</td>\n",
              "      <td>0.710</td>\n",
              "      <td>0.555</td>\n",
              "      <td>0.195</td>\n",
              "      <td>1.9485</td>\n",
              "      <td>0.9455</td>\n",
              "      <td>0.3765</td>\n",
              "      <td>0.4950</td>\n",
              "    </tr>\n",
              "  </tbody>\n",
              "</table>\n",
              "<p>4177 rows × 8 columns</p>\n",
              "</div>"
            ],
            "text/plain": [
              "        0      1      2      3       4       5       6       7\n",
              "0     3.0  0.455  0.365  0.095  0.5140  0.2245  0.1010  0.1500\n",
              "1     3.0  0.350  0.265  0.090  0.2255  0.0995  0.0485  0.0700\n",
              "2     1.0  0.530  0.420  0.135  0.6770  0.2565  0.1415  0.2100\n",
              "3     3.0  0.440  0.365  0.125  0.5160  0.2155  0.1140  0.1550\n",
              "4     2.0  0.330  0.255  0.080  0.2050  0.0895  0.0395  0.0550\n",
              "...   ...    ...    ...    ...     ...     ...     ...     ...\n",
              "4172  1.0  0.565  0.450  0.165  0.8870  0.3700  0.2390  0.2490\n",
              "4173  3.0  0.590  0.440  0.135  0.9660  0.4390  0.2145  0.2605\n",
              "4174  3.0  0.600  0.475  0.205  1.1760  0.5255  0.2875  0.3080\n",
              "4175  1.0  0.625  0.485  0.150  1.0945  0.5310  0.2610  0.2960\n",
              "4176  3.0  0.710  0.555  0.195  1.9485  0.9455  0.3765  0.4950\n",
              "\n",
              "[4177 rows x 8 columns]"
            ]
          },
          "execution_count": 9,
          "metadata": {},
          "output_type": "execute_result"
        }
      ],
      "source": [
        "Xdf"
      ]
    },
    {
      "cell_type": "code",
      "execution_count": null,
      "metadata": {
        "id": "p7DchuCWKbDN"
      },
      "outputs": [],
      "source": [
        "Dataset = Xdf.to_numpy()"
      ]
    },
    {
      "cell_type": "code",
      "execution_count": null,
      "metadata": {
        "id": "8qHQhEufKbDO",
        "outputId": "8926df4f-de2a-49b4-b778-83273f108bd3"
      },
      "outputs": [
        {
          "data": {
            "text/plain": [
              "(4177, 8)"
            ]
          },
          "execution_count": 13,
          "metadata": {},
          "output_type": "execute_result"
        }
      ],
      "source": [
        "Dataset.shape"
      ]
    },
    {
      "cell_type": "code",
      "execution_count": null,
      "metadata": {
        "id": "RAjfkpuoKbDP",
        "outputId": "c5441ea8-b282-45b2-ea0b-c9c9f841e9f2"
      },
      "outputs": [
        {
          "data": {
            "text/plain": [
              "array([[3.    , 0.455 , 0.365 , ..., 0.2245, 0.101 , 0.15  ],\n",
              "       [3.    , 0.35  , 0.265 , ..., 0.0995, 0.0485, 0.07  ],\n",
              "       [1.    , 0.53  , 0.42  , ..., 0.2565, 0.1415, 0.21  ],\n",
              "       ...,\n",
              "       [3.    , 0.6   , 0.475 , ..., 0.5255, 0.2875, 0.308 ],\n",
              "       [1.    , 0.625 , 0.485 , ..., 0.531 , 0.261 , 0.296 ],\n",
              "       [3.    , 0.71  , 0.555 , ..., 0.9455, 0.3765, 0.495 ]])"
            ]
          },
          "execution_count": 14,
          "metadata": {},
          "output_type": "execute_result"
        }
      ],
      "source": [
        "Dataset"
      ]
    },
    {
      "cell_type": "code",
      "execution_count": null,
      "metadata": {
        "id": "YnXHGbexKbDQ",
        "outputId": "710c52aa-2ddc-4d81-b3d8-2f673caa0b82"
      },
      "outputs": [
        {
          "data": {
            "text/plain": [
              "array([[3.],\n",
              "       [3.],\n",
              "       [1.],\n",
              "       ...,\n",
              "       [3.],\n",
              "       [1.],\n",
              "       [3.]])"
            ]
          },
          "execution_count": 18,
          "metadata": {},
          "output_type": "execute_result"
        }
      ],
      "source": [
        "Dataset[:,0].reshape(-1, 1)"
      ]
    },
    {
      "cell_type": "markdown",
      "metadata": {
        "id": "bfntM5jIDVrl"
      },
      "source": [
        "**Question 3.1.** Comment encoder la variable catégorielle ? Appliquer cet encodage ci-dessous :"
      ]
    },
    {
      "cell_type": "code",
      "execution_count": null,
      "metadata": {
        "id": "KjNnH1H2DVrm"
      },
      "outputs": [],
      "source": [
        "# RÉPONSE À LA QUESTION 3.1:\n",
        "# Methode par One Hot encoding\n",
        "from sklearn.preprocessing import OneHotEncoder\n",
        "\n",
        "OHE = OneHotEncoder()\n",
        "Dataset_to_OHE = Dataset[:,0].reshape(-1,1)\n",
        "transform = OHE.fit_transform(Dataset_to_OHE)"
      ]
    },
    {
      "cell_type": "code",
      "execution_count": null,
      "metadata": {
        "scrolled": true,
        "id": "9LRwOdjCKbDR",
        "outputId": "c86189c1-8094-4364-db6e-da136e6959c6"
      },
      "outputs": [
        {
          "data": {
            "text/plain": [
              "array([[0., 0., 1.],\n",
              "       [0., 0., 1.],\n",
              "       [1., 0., 0.],\n",
              "       ...,\n",
              "       [0., 0., 1.],\n",
              "       [1., 0., 0.],\n",
              "       [0., 0., 1.]])"
            ]
          },
          "execution_count": 21,
          "metadata": {},
          "output_type": "execute_result"
        }
      ],
      "source": [
        "transform.toarray()"
      ]
    },
    {
      "cell_type": "code",
      "execution_count": null,
      "metadata": {
        "id": "3TQw4m6gKbDS",
        "outputId": "13e8d036-e6ad-4200-c20d-d9bb55f3e455"
      },
      "outputs": [
        {
          "data": {
            "text/plain": [
              "(4177, 7)"
            ]
          },
          "execution_count": 70,
          "metadata": {},
          "output_type": "execute_result"
        }
      ],
      "source": [
        "Dataset[:,1:].shape"
      ]
    },
    {
      "cell_type": "code",
      "execution_count": null,
      "metadata": {
        "id": "pDF9QaEtKbDS",
        "outputId": "94811223-8dc1-42c1-ae09-0cd4da925306"
      },
      "outputs": [
        {
          "data": {
            "text/plain": [
              "array([[0., 0., 1.],\n",
              "       [0., 0., 1.],\n",
              "       [1., 0., 0.],\n",
              "       ...,\n",
              "       [0., 0., 1.],\n",
              "       [1., 0., 0.],\n",
              "       [0., 0., 1.]])"
            ]
          },
          "execution_count": 73,
          "metadata": {},
          "output_type": "execute_result"
        }
      ],
      "source": [
        "transform.toarray()"
      ]
    },
    {
      "cell_type": "code",
      "execution_count": null,
      "metadata": {
        "id": "4UMZKxjxKbDT"
      },
      "outputs": [],
      "source": [
        "X = np.concatenate((transform.toarray(), Dataset[:,1:]), axis=1)"
      ]
    },
    {
      "cell_type": "code",
      "execution_count": null,
      "metadata": {
        "id": "m_S74MRRKbDV",
        "outputId": "9869c8b7-a8b2-4acf-e961-ed25439bb8b0"
      },
      "outputs": [
        {
          "data": {
            "text/plain": [
              "(4177, 10)"
            ]
          },
          "execution_count": 76,
          "metadata": {},
          "output_type": "execute_result"
        }
      ],
      "source": [
        "X.shape"
      ]
    },
    {
      "cell_type": "markdown",
      "metadata": {
        "id": "Zt8oQkegDVrm"
      },
      "source": [
        "**Question 3.2.** Diviser aléatoirement la base de données en une base d'apprentissage et une base de test : \n",
        "\n",
        "- La base d'apprentissage contiendra $n=3000$ observations (patients).\n",
        "- La base de test contiendra les observations (patients) restants (soit 1177)."
      ]
    },
    {
      "cell_type": "code",
      "execution_count": null,
      "metadata": {
        "id": "YMvmjmH2DVrm"
      },
      "outputs": [],
      "source": [
        "# RÉPONSE À LA QUESTION 3.2 :\n",
        "\n",
        "X_train, X_test, Y_train, Y_test = train_test_split(X, YR, test_size=1-3000/X.shape[0])\n"
      ]
    },
    {
      "cell_type": "code",
      "execution_count": null,
      "metadata": {
        "id": "hUnbrIHjKbDX",
        "outputId": "c8259451-3e44-4efa-f183-8f73e2bc6d18"
      },
      "outputs": [
        {
          "data": {
            "text/plain": [
              "(2999, 10)"
            ]
          },
          "execution_count": 87,
          "metadata": {},
          "output_type": "execute_result"
        }
      ],
      "source": [
        "X_train.shape"
      ]
    },
    {
      "cell_type": "code",
      "execution_count": null,
      "metadata": {
        "id": "54EWKhG5KbDX",
        "outputId": "0101f6cd-0c02-45a6-b66e-eeb46bec348f"
      },
      "outputs": [
        {
          "data": {
            "text/plain": [
              "(1178, 10)"
            ]
          },
          "execution_count": 83,
          "metadata": {},
          "output_type": "execute_result"
        }
      ],
      "source": [
        "X_test.shape"
      ]
    },
    {
      "cell_type": "markdown",
      "metadata": {
        "id": "nSw_amlADVrn"
      },
      "source": [
        "**Question 3.3.** À partir de la base d'apprentissage calibrer la Régression Logistique multinomiale en appliquant les fonctions proposées par Scikit-Learn. \n",
        "\n",
        "- Calculer les l'accuracy globales et par classe sur la base d'apprentissage ?\n",
        "- Calculer les l'accuracy globales et par classe sur la base de Test ?\n"
      ]
    },
    {
      "cell_type": "code",
      "execution_count": null,
      "metadata": {
        "id": "mmF9YjxIDVrn"
      },
      "outputs": [],
      "source": [
        "run functions.ipynb"
      ]
    },
    {
      "cell_type": "code",
      "execution_count": null,
      "metadata": {
        "id": "ptqR33i8DVro",
        "outputId": "d739ab85-d53c-4fb2-9656-730e418b6a10"
      },
      "outputs": [
        {
          "data": {
            "text/plain": [
              "LogisticRegression(max_iter=1000)"
            ]
          },
          "execution_count": 89,
          "metadata": {},
          "output_type": "execute_result"
        }
      ],
      "source": [
        "# RÉPONSE À LA QUESTION 3.3 :\n",
        "Model3 = LogisticRegression(max_iter=1000)\n",
        "Model3.fit(X_train, Y_train)"
      ]
    },
    {
      "cell_type": "code",
      "execution_count": null,
      "metadata": {
        "id": "jIgwDwAvKbDa",
        "outputId": "879b6552-67a2-47bb-fd5a-239038c25c68"
      },
      "outputs": [
        {
          "data": {
            "text/plain": [
              "0.6942314104701567"
            ]
          },
          "execution_count": 91,
          "metadata": {},
          "output_type": "execute_result"
        }
      ],
      "source": [
        "Model3.score(X_train, Y_train)"
      ]
    },
    {
      "cell_type": "code",
      "execution_count": null,
      "metadata": {
        "id": "NngDFggSKbDa",
        "outputId": "4be6be77-ae6b-460f-fa6b-a04368a71bd7"
      },
      "outputs": [
        {
          "data": {
            "text/plain": [
              "0.7156196943972836"
            ]
          },
          "execution_count": 92,
          "metadata": {},
          "output_type": "execute_result"
        }
      ],
      "source": [
        "Model3.score(X_test, Y_test)"
      ]
    },
    {
      "cell_type": "markdown",
      "metadata": {
        "id": "EfPH6UumDVrp"
      },
      "source": [
        "**Question 3.4.** Interprétation du modèle de Régression Logistique : \n",
        "\n",
        "- Quel est le score de probabilité estimé par la Régression Logistique que le deuxième Abalone de la base de test ait entre 11 et 15 ans ?\n"
      ]
    },
    {
      "cell_type": "code",
      "execution_count": null,
      "metadata": {
        "id": "RM84vsznDVrp"
      },
      "outputs": [],
      "source": [
        "# RÉPONSE À LA QUESTION 3.4:\n"
      ]
    },
    {
      "cell_type": "markdown",
      "metadata": {
        "id": "AaeJ4z2YDVrq"
      },
      "source": [
        "**Question 3.1.** Dans ce nouveau contexte nous allons utiliser la fonction de perte quadratique pour évaluer la performance de la régression logistique. \n",
        "\n",
        "- Pourquoi la fonction de perte quadratique semble pertinente ici ?\n",
        "- Implémenter ci-dessous le code pour obtenir la fonction de perte quadratique.\n",
        "- Calculer le risque d'erreur moyen sur la base d'apprentissage et la base de test en considérant cette fonction de perte quadratique."
      ]
    },
    {
      "cell_type": "code",
      "execution_count": null,
      "metadata": {
        "id": "q5ZOhDiMDVrq"
      },
      "outputs": [],
      "source": [
        "# RÉPONSE À LA QUESTION 3.1:\n",
        "\n",
        "\n"
      ]
    },
    {
      "cell_type": "code",
      "execution_count": null,
      "metadata": {
        "id": "dQ3mM8Y8DVrq"
      },
      "outputs": [],
      "source": []
    }
  ],
  "metadata": {
    "colab": {
      "collapsed_sections": [
        "r3w08p6oDVrk"
      ],
      "provenance": [],
      "include_colab_link": true
    },
    "kernelspec": {
      "display_name": "Python 3",
      "language": "python",
      "name": "python3"
    },
    "language_info": {
      "codemirror_mode": {
        "name": "ipython",
        "version": 3
      },
      "file_extension": ".py",
      "mimetype": "text/x-python",
      "name": "python",
      "nbconvert_exporter": "python",
      "pygments_lexer": "ipython3",
      "version": "3.8.8"
    }
  },
  "nbformat": 4,
  "nbformat_minor": 0
}