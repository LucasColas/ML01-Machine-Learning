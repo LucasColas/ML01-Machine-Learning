{
  "cells": [
    {
      "cell_type": "markdown",
      "metadata": {
        "id": "view-in-github",
        "colab_type": "text"
      },
      "source": [
        "<a href=\"https://colab.research.google.com/github/LucasColas/ML01-Machine-Learning-for-everyone/blob/main/functions.ipynb\" target=\"_parent\"><img src=\"https://colab.research.google.com/assets/colab-badge.svg\" alt=\"Open In Colab\"/></a>"
      ]
    },
    {
      "cell_type": "markdown",
      "metadata": {
        "id": "zA99LxrjH0N2"
      },
      "source": [
        "# ML01 : Fonctions - Performances d'un classifieur"
      ]
    },
    {
      "cell_type": "code",
      "execution_count": null,
      "metadata": {
        "id": "ZxhCnZXWH0N6"
      },
      "outputs": [],
      "source": [
        "import matplotlib.pyplot as plt\n",
        "import numpy as np\n",
        "import pandas as pd"
      ]
    },
    {
      "cell_type": "code",
      "execution_count": 1,
      "metadata": {
        "id": "sXxlKOQaH0N8"
      },
      "outputs": [],
      "source": [
        "def compute_risk_per_class(YR, Yhat, K, L): \n",
        "    '''\n",
        "    Parameters\n",
        "    ----------\n",
        "    YR : DataFrame\n",
        "        Real labels.\n",
        "    Yhat : Array\n",
        "        Predicted labels.\n",
        "    K : int\n",
        "        Number of classes.\n",
        "    L : Array\n",
        "        Loss Function.\n",
        "\n",
        "    Returns\n",
        "    -------\n",
        "    R : Array of floats\n",
        "        Conditional risks.\n",
        "    '''\n",
        "   \n",
        "    R = np.zeros(K)\n",
        "    \n",
        "    # À compléter...\n",
        "    n = Yhat.shape[0]\n",
        "    confmat = np.zeros((K, K))\n",
        "    R = np.zeros(K)\n",
        "    for k in range(0, K):\n",
        "        nk = np.sum(YR==k+1)\n",
        "        if nk > 0:\n",
        "            Ik = np.where(YR==k+1)\n",
        "            for l in range(0, K):\n",
        "                confmat[k,l] = np.sum(Yhat[Ik]==l+1)/nk\n",
        "        R[k] = L[k, :].dot(confmat[k, :]) \n",
        "    \n",
        "    return R"
      ]
    },
    {
      "cell_type": "code",
      "execution_count": 2,
      "metadata": {
        "id": "8q8_eEFpH0N_"
      },
      "outputs": [],
      "source": [
        "def compute_average_risk(YR, Yhat, K, L):\n",
        "    '''\n",
        "    Parameters\n",
        "    ----------\n",
        "    YR : DataFrame\n",
        "        Real labels.\n",
        "    Yhat : Array\n",
        "        Predicted labels.\n",
        "    K : int\n",
        "        Number of classes.\n",
        "    L : Array\n",
        "        Loss Function.\n",
        "\n",
        "    Returns\n",
        "    -------\n",
        "    r : float\n",
        "        Global risk.\n",
        "    '''\n",
        "    \n",
        "    \n",
        "    # À compléter...\n",
        "    n = YR.shape[0]\n",
        "    r = 0\n",
        "    R_classe = compute_risk_per_class(YR, Yhat, K, L)\n",
        "    for k in range(K):\n",
        "      Ik = np.where(YR==k+1)\n",
        "      pk = np.sum(YR==k+1)/n\n",
        "      \n",
        "      r += pk*R_classe[k]\n",
        "    \n",
        "    return r"
      ]
    },
    {
      "cell_type": "code",
      "execution_count": 3,
      "metadata": {
        "id": "QyF5vMybH0OB"
      },
      "outputs": [],
      "source": [
        "def compute_accuracy(YR, Yhat):\n",
        "    '''\n",
        "    Parameters\n",
        "    ----------\n",
        "    YR : DataFrame\n",
        "        Real labels.\n",
        "    Yhat : Array\n",
        "        Predicted labels.\n",
        "\n",
        "    Returns\n",
        "    -------\n",
        "    Acc : float\n",
        "        Accuracy.\n",
        "    '''\n",
        "    \n",
        "    \n",
        "    # À compléter...\n",
        "    n = YR.shape[0]\n",
        "    Acc = np.sum(YR==Yhat)/n\n",
        "\n",
        "    \n",
        "    return Acc"
      ]
    },
    {
      "cell_type": "code",
      "execution_count": 4,
      "metadata": {
        "id": "-mqbWtEHH0OD"
      },
      "outputs": [],
      "source": [
        "def compute_accuracy_per_class(YR, Yhat, K):\n",
        "    '''\n",
        "    Parameters\n",
        "    ----------\n",
        "    YR : DataFrame\n",
        "        Real labels.\n",
        "    Yhat : Array\n",
        "        Predicted labels.\n",
        "    K : int\n",
        "        Number of classes.\n",
        "\n",
        "    Returns\n",
        "    -------\n",
        "    Acc_per_class : Array\n",
        "        Accuracies per class\n",
        "    '''\n",
        "    \n",
        "    Acc_per_class = np.zeros(K)\n",
        "    \n",
        "    # À compléter...\n",
        "    for k in range(K):\n",
        "      Ik = np.where(YR==k+1)\n",
        "      nk = np.sum(YR==k+1)\n",
        "      if nk > 0:\n",
        "\n",
        "        Acc_per_class[k] = np.sum(Yhat[Ik] == k+1)/nk\n",
        "    \n",
        "    return Acc_per_class"
      ]
    },
    {
      "cell_type": "code",
      "execution_count": 5,
      "metadata": {
        "id": "djIg5f6EH0OF"
      },
      "outputs": [],
      "source": [
        "def compute_confusion_matrix(YR, Yhat, K):\n",
        "    '''\n",
        "    Parameters\n",
        "    ----------\n",
        "    YR : DataFrame\n",
        "        Real labels.\n",
        "    Yhat : Array\n",
        "        Predicted labels.\n",
        "    K : int\n",
        "        Number of classes.\n",
        "\n",
        "    Returns\n",
        "    -------\n",
        "    confmat : Array\n",
        "        Confusion Matrix\n",
        "    '''\n",
        "    \n",
        "    # À compléter...\n",
        "    confmat = np.zeros((K,K))\n",
        "    for k in range(K):\n",
        "      nk = np.sum(YR == k+1)\n",
        "      if nk > 0:\n",
        "        Ik = np.where(YR==k+1)\n",
        "        for l in range(K):\n",
        "          confmat[k,l] = np.sum(Yhat[Ik] == l+1)/nk\n",
        "    \n",
        "    return confmat"
      ]
    },
    {
      "cell_type": "code",
      "execution_count": null,
      "metadata": {
        "id": "dEE6FpfHH0OG"
      },
      "outputs": [],
      "source": []
    }
  ],
  "metadata": {
    "kernelspec": {
      "display_name": "Python 3",
      "language": "python",
      "name": "python3"
    },
    "language_info": {
      "codemirror_mode": {
        "name": "ipython",
        "version": 3
      },
      "file_extension": ".py",
      "mimetype": "text/x-python",
      "name": "python",
      "nbconvert_exporter": "python",
      "pygments_lexer": "ipython3",
      "version": "3.7.6"
    },
    "colab": {
      "provenance": [],
      "include_colab_link": true
    }
  },
  "nbformat": 4,
  "nbformat_minor": 0
}